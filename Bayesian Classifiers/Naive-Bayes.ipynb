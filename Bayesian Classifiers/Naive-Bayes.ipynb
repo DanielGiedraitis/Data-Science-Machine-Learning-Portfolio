{
 "cells": [
  {
   "cell_type": "markdown",
   "metadata": {
    "deletable": true,
    "editable": true
   },
   "source": [
    "# **Naive Bayes Classification**"
   ]
  },
  {
   "cell_type": "markdown",
   "metadata": {
    "deletable": true,
    "editable": true
   },
   "source": [
    "#### **Student Name:** Daniel Giedraitis \n",
    "\n",
    "#### **Student Number:** C00260331\n",
    "\n",
    "#### **Module:** Data Science and Machine Learning 2 - Y4\n",
    "\n"
   ]
  },
  {
   "cell_type": "markdown",
   "metadata": {},
   "source": [
    "<br>"
   ]
  },
  {
   "cell_type": "markdown",
   "metadata": {
    "deletable": true,
    "editable": true
   },
   "source": [
    "## **Bayesian Classification**\n",
    "\n",
    "Naive Bayes classifiers are built on Bayesian classification methods.\n",
    "These rely on Bayes's theorem, which is an equation describing the relationship of conditional probabilities of statistical quantities.\n",
    "In Bayesian classification, we're interested in finding the probability of a label given some observed features, which we can write as $P(L~|~{\\rm features})$.\n",
    "Bayes's theorem tells us how to express this in terms of quantities we can compute more directly:\n",
    "\n",
    "$$\n",
    "P(L~|~{\\rm features}) = \\frac{P({\\rm features}~|~L)P(L)}{P({\\rm features})}\n",
    "$$\n",
    "\n",
    "If we are trying to decide between two labels—let's call them $L_1$ and $L_2$—then one way to make this decision is to compute the ratio of the posterior probabilities for each label:\n",
    "\n",
    "$$\n",
    "\\frac{P(L_1~|~{\\rm features})}{P(L_2~|~{\\rm features})} = \\frac{P({\\rm features}~|~L_1)}{P({\\rm features}~|~L_2)}\\frac{P(L_1)}{P(L_2)}\n",
    "$$\n",
    "\n",
    "All we need now is some model by which we can compute $P({\\rm features}~|~L_i)$ for each label.\n",
    "Such a model is called a *generative model* because it specifies the hypothetical random process that generates the data.\n",
    "Specifying this generative model for each label is the main piece of the training of such a Bayesian classifier.\n",
    "The general version of such a training step is a very difficult task, but we can make it simpler through the use of some simplifying assumptions about the form of this model.\n",
    "\n",
    "This is where the \"naive\" in \"naive Bayes\" comes in: if we make very naive assumptions about the generative model for each label, we can find a rough approximation of the generative model for each class, and then proceed with the Bayesian classification.\n",
    "Different types of naive Bayes classifiers rest on different naive assumptions about the data, and we will examine a few of these in the following sections."
   ]
  },
  {
   "cell_type": "markdown",
   "metadata": {},
   "source": [
    "<br>"
   ]
  },
  {
   "cell_type": "markdown",
   "metadata": {},
   "source": [
    "## **Business Understanding**"
   ]
  },
  {
   "cell_type": "markdown",
   "metadata": {},
   "source": [
    "**Objective:**\n",
    "\n",
    "The objective of this python notebook is to expand my data science and machine learning portfolio by implementing and understanding the naive Bayes classification algorithm using a new data set [drug200.csv](https://www.kaggle.com/datasets/sukhenwaghmare/drug-classification-naive-bayes?select=drug200.csv) and making changes to this [notebook](https://github.com/jakevdp/PythonDataScienceHandbook/blob/8a34a4f653bdbdc01415a94dc20d4e9b97438965/notebooks/05.05-Naive-Bayes.ipynb). The notebook aims to gain theoretical and practical insights into the workings of the naive Bayes algorithm and its application in real world scenarios.\n",
    "\n",
    "**Data Set:**\n",
    "\n",
    "The data set [drug200.csv](https://www.kaggle.com/datasets/sukhenwaghmare/drug-classification-naive-bayes?select=drug200.csv) contains information about patients including their age, sex, blood pressure (BP), cholesterol level, and the ratio of Sodium to Potassium (Na_to_K), along with the drug prescribed to them. This information will be used to train a naive Bayes classifier to predict the appropriate drug for future patients based on their characteristics."
   ]
  },
  {
   "cell_type": "markdown",
   "metadata": {},
   "source": [
    "<br>"
   ]
  },
  {
   "cell_type": "markdown",
   "metadata": {},
   "source": [
    "## **Data Understanding**"
   ]
  },
  {
   "cell_type": "markdown",
   "metadata": {},
   "source": [
    "#### **Data Source:**\n",
    "\n",
    "The data set [drug200.csv](https://www.kaggle.com/datasets/sukhenwaghmare/drug-classification-naive-bayes?select=drug200.csv) has been used for this notebook. It consists of 200 samples and 6 features including age, Sex, BP, cholesterol, Na_to_K, and drug.\n",
    "\n",
    "#### **Data Exploration:**\n",
    "\n",
    "Before proceeding with modeling, I will explore the data to understand its structure, distribution, and relationships between features. This exploration will help in identifying any data preprocessing steps required and gaining insights into the characteristics of the data set.\n",
    "\n",
    "#### **Change Log:** \n",
    "- Added [drug200.csv](https://www.kaggle.com/datasets/sukhenwaghmare/drug-classification-naive-bayes?select=drug200.csv) data set."
   ]
  },
  {
   "cell_type": "markdown",
   "metadata": {},
   "source": [
    "#### **Preprocessing:**"
   ]
  },
  {
   "cell_type": "code",
   "execution_count": 1,
   "metadata": {},
   "outputs": [],
   "source": [
    "import pandas as pd\n",
    "\n",
    "# Load data\n",
    "data = pd.read_csv(\"datasets/drug200.csv\")\n"
   ]
  },
  {
   "cell_type": "markdown",
   "metadata": {},
   "source": [
    "<br>"
   ]
  },
  {
   "cell_type": "markdown",
   "metadata": {},
   "source": [
    "## **Data Preparation**"
   ]
  },
  {
   "cell_type": "markdown",
   "metadata": {},
   "source": [
    "#### **Preprocessing:**\n",
    "1. Check for missing values and handle them appropriately.\n",
    "2. Encode categorical variables (such as sex, BP, cholesterol) using one-hot encoding or label encoding.\n",
    "3. Split the data set into training and testing sets to evaluate the performance of the classifiers.\n",
    "\n",
    "#### **Change Log:**\n",
    "- Checked for missing values and handled them by imputation.\n",
    "- Encoded categorical variables (sex, BP, cholesterol) using one-hot encoding."
   ]
  },
  {
   "cell_type": "markdown",
   "metadata": {},
   "source": [
    "#### **Preprocessing - Missing Values:**"
   ]
  },
  {
   "cell_type": "code",
   "execution_count": 2,
   "metadata": {},
   "outputs": [],
   "source": [
    "from sklearn.impute import SimpleImputer\n",
    "\n",
    "# Handle missing values\n",
    "imputer = SimpleImputer(strategy=\"most_frequent\") # Create an instance of SimpleImputer with \"most_frequent\" strategy\n",
    "data_imputed = pd.DataFrame(imputer.fit_transform(data), columns=data.columns) # Impute missing values using the most frequent strategy and create a new DataFrame\n"
   ]
  },
  {
   "cell_type": "markdown",
   "metadata": {},
   "source": [
    "#### **Preprocessing - Encoding:**"
   ]
  },
  {
   "cell_type": "code",
   "execution_count": 3,
   "metadata": {},
   "outputs": [],
   "source": [
    "from sklearn.preprocessing import OneHotEncoder\n",
    "\n",
    "# Encode categorical variables\n",
    "encoder = OneHotEncoder(sparse_output=False, drop=\"first\")\n",
    "encoded_features = encoder.fit_transform(data_imputed[[\"Sex\", \"BP\", \"Cholesterol\"]])\n",
    "data_encoded = pd.concat([data_imputed.drop([\"Sex\", \"BP\", \"Cholesterol\"], axis=1),\n",
    "                          pd.DataFrame(encoded_features, columns=encoder.get_feature_names_out([\"Sex\", \"BP\", \"Cholesterol\"]))], axis=1)\n",
    "\n"
   ]
  },
  {
   "cell_type": "markdown",
   "metadata": {},
   "source": [
    "#### **Train-Test Split:**"
   ]
  },
  {
   "cell_type": "code",
   "execution_count": 4,
   "metadata": {},
   "outputs": [],
   "source": [
    "from sklearn.model_selection import train_test_split\n",
    "\n",
    "# Split the data into train and test sets\n",
    "X = data_encoded.drop(\"Drug\", axis=1)\n",
    "y = data_encoded[\"Drug\"]\n",
    "\n",
    "# Split X and y into training and testing sets, with 80% of the data used for training and 20% for testing\n",
    "X_train, X_test, y_train, y_test = train_test_split(X, y, test_size=0.2, random_state=42)\n"
   ]
  },
  {
   "cell_type": "markdown",
   "metadata": {},
   "source": [
    "<br>"
   ]
  },
  {
   "cell_type": "markdown",
   "metadata": {},
   "source": [
    "## **Modeling**"
   ]
  },
  {
   "cell_type": "markdown",
   "metadata": {},
   "source": [
    "Implementing Gaussian Naive Bayes and Multinomial Naive Bayes classifiers involves initialising the models, training them on the training dataset, and making predictions on the test dataset. Choosing the appropriate model architecture and hyperparameters is crucial for achieving optimal performance. Evaluating multiple models allows for comparison and selection of the best performing classifier for the given task."
   ]
  },
  {
   "cell_type": "markdown",
   "metadata": {},
   "source": [
    "### **Gaussian Naive Bayes Classifier:**\n",
    "Perhaps the easiest naive Bayes classifier to understand is Gaussian naive Bayes. In this classifier, the assumption is that data from each label is drawn from a simple Gaussian distribution.\n",
    "\n",
    "#### **Change Log:**\n",
    "- Implemented Gaussian Naive Bayes classifier using Scikit-Learn's GaussianNB estimator.\n",
    "- Trained the model on the training data set."
   ]
  },
  {
   "cell_type": "code",
   "execution_count": 5,
   "metadata": {},
   "outputs": [
    {
     "data": {
      "text/html": [
       "<style>#sk-container-id-1 {color: black;}#sk-container-id-1 pre{padding: 0;}#sk-container-id-1 div.sk-toggleable {background-color: white;}#sk-container-id-1 label.sk-toggleable__label {cursor: pointer;display: block;width: 100%;margin-bottom: 0;padding: 0.3em;box-sizing: border-box;text-align: center;}#sk-container-id-1 label.sk-toggleable__label-arrow:before {content: \"▸\";float: left;margin-right: 0.25em;color: #696969;}#sk-container-id-1 label.sk-toggleable__label-arrow:hover:before {color: black;}#sk-container-id-1 div.sk-estimator:hover label.sk-toggleable__label-arrow:before {color: black;}#sk-container-id-1 div.sk-toggleable__content {max-height: 0;max-width: 0;overflow: hidden;text-align: left;background-color: #f0f8ff;}#sk-container-id-1 div.sk-toggleable__content pre {margin: 0.2em;color: black;border-radius: 0.25em;background-color: #f0f8ff;}#sk-container-id-1 input.sk-toggleable__control:checked~div.sk-toggleable__content {max-height: 200px;max-width: 100%;overflow: auto;}#sk-container-id-1 input.sk-toggleable__control:checked~label.sk-toggleable__label-arrow:before {content: \"▾\";}#sk-container-id-1 div.sk-estimator input.sk-toggleable__control:checked~label.sk-toggleable__label {background-color: #d4ebff;}#sk-container-id-1 div.sk-label input.sk-toggleable__control:checked~label.sk-toggleable__label {background-color: #d4ebff;}#sk-container-id-1 input.sk-hidden--visually {border: 0;clip: rect(1px 1px 1px 1px);clip: rect(1px, 1px, 1px, 1px);height: 1px;margin: -1px;overflow: hidden;padding: 0;position: absolute;width: 1px;}#sk-container-id-1 div.sk-estimator {font-family: monospace;background-color: #f0f8ff;border: 1px dotted black;border-radius: 0.25em;box-sizing: border-box;margin-bottom: 0.5em;}#sk-container-id-1 div.sk-estimator:hover {background-color: #d4ebff;}#sk-container-id-1 div.sk-parallel-item::after {content: \"\";width: 100%;border-bottom: 1px solid gray;flex-grow: 1;}#sk-container-id-1 div.sk-label:hover label.sk-toggleable__label {background-color: #d4ebff;}#sk-container-id-1 div.sk-serial::before {content: \"\";position: absolute;border-left: 1px solid gray;box-sizing: border-box;top: 0;bottom: 0;left: 50%;z-index: 0;}#sk-container-id-1 div.sk-serial {display: flex;flex-direction: column;align-items: center;background-color: white;padding-right: 0.2em;padding-left: 0.2em;position: relative;}#sk-container-id-1 div.sk-item {position: relative;z-index: 1;}#sk-container-id-1 div.sk-parallel {display: flex;align-items: stretch;justify-content: center;background-color: white;position: relative;}#sk-container-id-1 div.sk-item::before, #sk-container-id-1 div.sk-parallel-item::before {content: \"\";position: absolute;border-left: 1px solid gray;box-sizing: border-box;top: 0;bottom: 0;left: 50%;z-index: -1;}#sk-container-id-1 div.sk-parallel-item {display: flex;flex-direction: column;z-index: 1;position: relative;background-color: white;}#sk-container-id-1 div.sk-parallel-item:first-child::after {align-self: flex-end;width: 50%;}#sk-container-id-1 div.sk-parallel-item:last-child::after {align-self: flex-start;width: 50%;}#sk-container-id-1 div.sk-parallel-item:only-child::after {width: 0;}#sk-container-id-1 div.sk-dashed-wrapped {border: 1px dashed gray;margin: 0 0.4em 0.5em 0.4em;box-sizing: border-box;padding-bottom: 0.4em;background-color: white;}#sk-container-id-1 div.sk-label label {font-family: monospace;font-weight: bold;display: inline-block;line-height: 1.2em;}#sk-container-id-1 div.sk-label-container {text-align: center;}#sk-container-id-1 div.sk-container {/* jupyter's `normalize.less` sets `[hidden] { display: none; }` but bootstrap.min.css set `[hidden] { display: none !important; }` so we also need the `!important` here to be able to override the default hidden behavior on the sphinx rendered scikit-learn.org. See: https://github.com/scikit-learn/scikit-learn/issues/21755 */display: inline-block !important;position: relative;}#sk-container-id-1 div.sk-text-repr-fallback {display: none;}</style><div id=\"sk-container-id-1\" class=\"sk-top-container\"><div class=\"sk-text-repr-fallback\"><pre>GaussianNB()</pre><b>In a Jupyter environment, please rerun this cell to show the HTML representation or trust the notebook. <br />On GitHub, the HTML representation is unable to render, please try loading this page with nbviewer.org.</b></div><div class=\"sk-container\" hidden><div class=\"sk-item\"><div class=\"sk-estimator sk-toggleable\"><input class=\"sk-toggleable__control sk-hidden--visually\" id=\"sk-estimator-id-1\" type=\"checkbox\" checked><label for=\"sk-estimator-id-1\" class=\"sk-toggleable__label sk-toggleable__label-arrow\">GaussianNB</label><div class=\"sk-toggleable__content\"><pre>GaussianNB()</pre></div></div></div></div></div>"
      ],
      "text/plain": [
       "GaussianNB()"
      ]
     },
     "execution_count": 5,
     "metadata": {},
     "output_type": "execute_result"
    }
   ],
   "source": [
    "from sklearn.naive_bayes import GaussianNB\n",
    "\n",
    "# Initialize Gaussian Naive Bayes classifier\n",
    "gnb_model = GaussianNB()\n",
    "\n",
    "# Train the model\n",
    "gnb_model.fit(X_train, y_train)\n"
   ]
  },
  {
   "cell_type": "markdown",
   "metadata": {},
   "source": [
    "### **Multinomial Naive Bayes Classifier:**\n",
    "The Gaussian assumption just described is by no means the only simple assumption that could be used to specify the generative distribution for each label. Another useful example is multinomial naive Bayes, where the features are assumed to be generated from a simple multinomial distribution. The multinomial distribution describes the probability of observing counts among a number of categories, and thus multinomial naive Bayes is most appropriate for features that represent counts or count rates.\n",
    "\n",
    "The idea is precisely the same as before, except that instead of modeling the data distribution with the best-fit Gaussian, we model the data distribuiton with a best-fit multinomial distribution.\n",
    "#### **Change Log:**\n",
    "- Implemented Multinomial Naive Bayes classifier using Scikit-Learn's MultinomialNB estimator.\n",
    "- Trained the model on the training data set."
   ]
  },
  {
   "cell_type": "code",
   "execution_count": 6,
   "metadata": {},
   "outputs": [
    {
     "data": {
      "text/html": [
       "<style>#sk-container-id-2 {color: black;}#sk-container-id-2 pre{padding: 0;}#sk-container-id-2 div.sk-toggleable {background-color: white;}#sk-container-id-2 label.sk-toggleable__label {cursor: pointer;display: block;width: 100%;margin-bottom: 0;padding: 0.3em;box-sizing: border-box;text-align: center;}#sk-container-id-2 label.sk-toggleable__label-arrow:before {content: \"▸\";float: left;margin-right: 0.25em;color: #696969;}#sk-container-id-2 label.sk-toggleable__label-arrow:hover:before {color: black;}#sk-container-id-2 div.sk-estimator:hover label.sk-toggleable__label-arrow:before {color: black;}#sk-container-id-2 div.sk-toggleable__content {max-height: 0;max-width: 0;overflow: hidden;text-align: left;background-color: #f0f8ff;}#sk-container-id-2 div.sk-toggleable__content pre {margin: 0.2em;color: black;border-radius: 0.25em;background-color: #f0f8ff;}#sk-container-id-2 input.sk-toggleable__control:checked~div.sk-toggleable__content {max-height: 200px;max-width: 100%;overflow: auto;}#sk-container-id-2 input.sk-toggleable__control:checked~label.sk-toggleable__label-arrow:before {content: \"▾\";}#sk-container-id-2 div.sk-estimator input.sk-toggleable__control:checked~label.sk-toggleable__label {background-color: #d4ebff;}#sk-container-id-2 div.sk-label input.sk-toggleable__control:checked~label.sk-toggleable__label {background-color: #d4ebff;}#sk-container-id-2 input.sk-hidden--visually {border: 0;clip: rect(1px 1px 1px 1px);clip: rect(1px, 1px, 1px, 1px);height: 1px;margin: -1px;overflow: hidden;padding: 0;position: absolute;width: 1px;}#sk-container-id-2 div.sk-estimator {font-family: monospace;background-color: #f0f8ff;border: 1px dotted black;border-radius: 0.25em;box-sizing: border-box;margin-bottom: 0.5em;}#sk-container-id-2 div.sk-estimator:hover {background-color: #d4ebff;}#sk-container-id-2 div.sk-parallel-item::after {content: \"\";width: 100%;border-bottom: 1px solid gray;flex-grow: 1;}#sk-container-id-2 div.sk-label:hover label.sk-toggleable__label {background-color: #d4ebff;}#sk-container-id-2 div.sk-serial::before {content: \"\";position: absolute;border-left: 1px solid gray;box-sizing: border-box;top: 0;bottom: 0;left: 50%;z-index: 0;}#sk-container-id-2 div.sk-serial {display: flex;flex-direction: column;align-items: center;background-color: white;padding-right: 0.2em;padding-left: 0.2em;position: relative;}#sk-container-id-2 div.sk-item {position: relative;z-index: 1;}#sk-container-id-2 div.sk-parallel {display: flex;align-items: stretch;justify-content: center;background-color: white;position: relative;}#sk-container-id-2 div.sk-item::before, #sk-container-id-2 div.sk-parallel-item::before {content: \"\";position: absolute;border-left: 1px solid gray;box-sizing: border-box;top: 0;bottom: 0;left: 50%;z-index: -1;}#sk-container-id-2 div.sk-parallel-item {display: flex;flex-direction: column;z-index: 1;position: relative;background-color: white;}#sk-container-id-2 div.sk-parallel-item:first-child::after {align-self: flex-end;width: 50%;}#sk-container-id-2 div.sk-parallel-item:last-child::after {align-self: flex-start;width: 50%;}#sk-container-id-2 div.sk-parallel-item:only-child::after {width: 0;}#sk-container-id-2 div.sk-dashed-wrapped {border: 1px dashed gray;margin: 0 0.4em 0.5em 0.4em;box-sizing: border-box;padding-bottom: 0.4em;background-color: white;}#sk-container-id-2 div.sk-label label {font-family: monospace;font-weight: bold;display: inline-block;line-height: 1.2em;}#sk-container-id-2 div.sk-label-container {text-align: center;}#sk-container-id-2 div.sk-container {/* jupyter's `normalize.less` sets `[hidden] { display: none; }` but bootstrap.min.css set `[hidden] { display: none !important; }` so we also need the `!important` here to be able to override the default hidden behavior on the sphinx rendered scikit-learn.org. See: https://github.com/scikit-learn/scikit-learn/issues/21755 */display: inline-block !important;position: relative;}#sk-container-id-2 div.sk-text-repr-fallback {display: none;}</style><div id=\"sk-container-id-2\" class=\"sk-top-container\"><div class=\"sk-text-repr-fallback\"><pre>MultinomialNB()</pre><b>In a Jupyter environment, please rerun this cell to show the HTML representation or trust the notebook. <br />On GitHub, the HTML representation is unable to render, please try loading this page with nbviewer.org.</b></div><div class=\"sk-container\" hidden><div class=\"sk-item\"><div class=\"sk-estimator sk-toggleable\"><input class=\"sk-toggleable__control sk-hidden--visually\" id=\"sk-estimator-id-2\" type=\"checkbox\" checked><label for=\"sk-estimator-id-2\" class=\"sk-toggleable__label sk-toggleable__label-arrow\">MultinomialNB</label><div class=\"sk-toggleable__content\"><pre>MultinomialNB()</pre></div></div></div></div></div>"
      ],
      "text/plain": [
       "MultinomialNB()"
      ]
     },
     "execution_count": 6,
     "metadata": {},
     "output_type": "execute_result"
    }
   ],
   "source": [
    "from sklearn.naive_bayes import MultinomialNB\n",
    "\n",
    "# Initialize Multinomial Naive Bayes classifier\n",
    "mnb_model = MultinomialNB()\n",
    "\n",
    "# Train the model\n",
    "mnb_model.fit(X_train, y_train)\n"
   ]
  },
  {
   "cell_type": "markdown",
   "metadata": {},
   "source": [
    "<br>"
   ]
  },
  {
   "cell_type": "markdown",
   "metadata": {},
   "source": [
    "## **Evaluation**"
   ]
  },
  {
   "cell_type": "markdown",
   "metadata": {},
   "source": [
    "Evaluation metrics such as accuracy, precision, recall, and F1-score provide quantitative measures of the classifiers' performance. Analysing confusion matrices helps identify any misclassifications or areas where the model may need improvement. Understanding the strengths and weaknesses of each classifier aids in interpreting the results and guiding future model development efforts."
   ]
  },
  {
   "cell_type": "markdown",
   "metadata": {},
   "source": [
    "### **Performance Metrics:**\n",
    "\n",
    "#### **Change Log:**\n",
    "- Evaluated the performance of both Gaussian Naive Bayes and Multinomial Naive Bayes classifiers using accuracy, precision, recall, and F1-score.\n",
    "- Visualised the confusion matrices to analyze classification performance."
   ]
  },
  {
   "cell_type": "markdown",
   "metadata": {},
   "source": [
    "#### **Performance Metrics Calculation:**"
   ]
  },
  {
   "cell_type": "code",
   "execution_count": 7,
   "metadata": {},
   "outputs": [],
   "source": [
    "from sklearn.metrics import accuracy_score, precision_score, recall_score, f1_score\n",
    "\n",
    "# Predictions\n",
    "gnb_y_pred = gnb_model.predict(X_test)\n",
    "mnb_y_pred = mnb_model.predict(X_test)\n",
    "\n",
    "# Performance Metrics Calculation\n",
    "gnb_accuracy = accuracy_score(y_test, gnb_y_pred)\n",
    "mnb_accuracy = accuracy_score(y_test, mnb_y_pred)\n",
    "\n",
    "gnb_precision = precision_score(y_test, gnb_y_pred, average=\"weighted\")\n",
    "mnb_precision = precision_score(y_test, mnb_y_pred, average=\"weighted\")\n",
    "\n",
    "gnb_recall = recall_score(y_test, gnb_y_pred, average=\"weighted\")\n",
    "mnb_recall = recall_score(y_test, mnb_y_pred, average=\"weighted\")\n",
    "\n",
    "gnb_f1 = f1_score(y_test, gnb_y_pred, average=\"weighted\")\n",
    "mnb_f1 = f1_score(y_test, mnb_y_pred, average=\"weighted\")\n",
    "\n",
    "\n"
   ]
  },
  {
   "cell_type": "markdown",
   "metadata": {},
   "source": [
    "#### **Confusion Matrices:**"
   ]
  },
  {
   "cell_type": "code",
   "execution_count": 8,
   "metadata": {},
   "outputs": [
    {
     "data": {
      "image/png": "[encoded data removed]",
      "text/plain": [
       "<Figure size 1600x600 with 4 Axes>"
      ]
     },
     "metadata": {},
     "output_type": "display_data"
    }
   ],
   "source": [
    "from sklearn.metrics import confusion_matrix\n",
    "import seaborn as sns\n",
    "import matplotlib.pyplot as plt\n",
    "\n",
    "# Confusion Matrices\n",
    "gnb_conf_mat = confusion_matrix(y_test, gnb_y_pred)\n",
    "mnb_conf_mat = confusion_matrix(y_test, mnb_y_pred)\n",
    "\n",
    "# Plot confusion matrices\n",
    "fig, axes = plt.subplots(1, 2, figsize=(16, 6))\n",
    "\n",
    "sns.heatmap(gnb_conf_mat, annot=True, fmt='d', cmap=\"Blues\", xticklabels=gnb_model.classes_, yticklabels=gnb_model.classes_, ax=axes[0])\n",
    "axes[0].set_xlabel('Predicted Labels')\n",
    "axes[0].set_ylabel('True Labels')\n",
    "axes[0].set_title('Gaussian Naive Bayes Confusion Matrix')\n",
    "\n",
    "sns.heatmap(mnb_conf_mat, annot=True, fmt='d', cmap=\"Blues\", xticklabels=mnb_model.classes_, yticklabels=mnb_model.classes_, ax=axes[1])\n",
    "axes[1].set_xlabel('Predicted Labels')\n",
    "axes[1].set_ylabel('True Labels')\n",
    "axes[1].set_title('Multinomial Naive Bayes Confusion Matrix')\n",
    "\n",
    "plt.show()\n",
    "\n"
   ]
  },
  {
   "cell_type": "markdown",
   "metadata": {},
   "source": [
    "#### **Score Table:**"
   ]
  },
  {
   "cell_type": "code",
   "execution_count": 9,
   "metadata": {},
   "outputs": [
    {
     "name": "stdout",
     "output_type": "stream",
     "text": [
      "Score Table:\n",
      "      Metric  Gaussian Naive Bayes  Multinomial Naive Bayes\n",
      "0   Accuracy              0.875000                 0.700000\n",
      "1  Precision              0.891667                 0.790625\n",
      "2     Recall              0.875000                 0.700000\n",
      "3   F1-score              0.873954                 0.670489\n"
     ]
    }
   ],
   "source": [
    "import pandas as pd\n",
    "\n",
    "# Score Table\n",
    "metrics_data = {\n",
    "    'Metric': ['Accuracy', 'Precision', 'Recall', 'F1-score'],\n",
    "    'Gaussian Naive Bayes': [gnb_accuracy, gnb_precision, gnb_recall, gnb_f1],\n",
    "    'Multinomial Naive Bayes': [mnb_accuracy, mnb_precision, mnb_recall, mnb_f1]\n",
    "}\n",
    "\n",
    "metrics_df = pd.DataFrame(metrics_data)\n",
    "print(\"Score Table:\")\n",
    "print(metrics_df)"
   ]
  },
  {
   "cell_type": "markdown",
   "metadata": {},
   "source": [
    "<br>"
   ]
  },
  {
   "cell_type": "markdown",
   "metadata": {},
   "source": [
    "## **Deployment**"
   ]
  },
  {
   "cell_type": "markdown",
   "metadata": {},
   "source": [
    "#### **Serialized Models:**\n",
    "I will serialize the trained naive Bayes classifier into a serialized format for deployment. This serialized model can then be integrated into a web application or any other deployment platform for real time predictions.\n",
    "\n",
    "#### **Change Log:**\n",
    "- Serialised both the trained Gaussian Naive Bayes and Multinomial Naive Bayes classifiers into pickle files."
   ]
  },
  {
   "cell_type": "code",
   "execution_count": 10,
   "metadata": {},
   "outputs": [],
   "source": [
    "import pickle\n",
    "\n",
    "# Serialize Gaussian Naive Bayes model\n",
    "with open('models/gnb_model.pkl', 'wb') as file:\n",
    "    pickle.dump(gnb_model, file)\n",
    "\n",
    "# Serialize Multinomial Naive Bayes model\n",
    "with open('models/mnb_model.pkl', 'wb') as file:\n",
    "    pickle.dump(mnb_model, file)\n"
   ]
  },
  {
   "cell_type": "markdown",
   "metadata": {},
   "source": [
    "<br>"
   ]
  },
  {
   "cell_type": "markdown",
   "metadata": {},
   "source": [
    "## **Conclusion**"
   ]
  },
  {
   "cell_type": "markdown",
   "metadata": {},
   "source": [
    "In this project, I expanded my data science and machine learning portfolio by implementing and exploring Gaussian Naive Bayes and Multinomial Naive Bayes classification algorithms using the drug200.csv dataset.\n",
    "\n",
    "#### **Key Findings:**\n",
    "1. **Exploratory Data Analysis:** I explored the drug200.csv dataset to understand its structure, distribution, and relationships between features. This exploration helped in identifying preprocessing steps required and gaining insights into the characteristics of the dataset.\n",
    "\n",
    "2. **Data Preparation:** Preprocessing steps such as handling missing values and encoding categorical variables were performed to prepare the dataset for modeling. The dataset was split into training and testing sets to evaluate the performance of the classifiers.\n",
    "\n",
    "3. **Modeling:** Gaussian Naive Bayes and Multinomial Naive Bayes classifiers were implemented using Scikit-Learn. Both models were trained on the training dataset to predict the appropriate drug for patients based on their characteristics.\n",
    "\n",
    "4. **Evaluation:** The performance of both classifiers was evaluated using accuracy, precision, recall, and F1-score metrics. Additionally, confusion matrices were visualized to analyze the classification performance.\n",
    "\n",
    "#### **Key Outcomes:**\n",
    "- **Gaussian Naive Bayes Performance:** The Gaussian Naive Bayes classifier achieved an accuracy of 87.5%, with precision, recall, and F1-score values of approximately 89.17%, 87.5%, and 87.40%.\n",
    "\n",
    "- **Multinomial Naive Bayes Performance:** The Multinomial Naive Bayes classifier exhibited an accuracy of 70.0%, with precision, recall, and F1-score values of around 79.06%, 70.0%, and 67.05%.\n",
    "\n",
    "#### **Conclusion:**\n",
    "In conclusion, both Gaussian Naive Bayes and Multinomial Naive Bayes classifiers showed promising performance in predicting the appropriate drug based on patient characteristics. The Gaussian Naive Bayes classifier outperformed the Multinomial Naive Bayes classifier in terms of accuracy, precision, recall, and F1-score. However, it's essential to consider the specific requirements and characteristics of the application domain when choosing between these classifiers.\n",
    "\n",
    "Overall, this notebook provided valuable insights into the application of Naive Bayes classifiers in pharmaceutical research and healthcare analytics, contributing to the enhancement of the data science and machine learning portfolio."
   ]
  },
  {
   "cell_type": "markdown",
   "metadata": {},
   "source": [
    "<br>"
   ]
  }
 ],
 "metadata": {
  "anaconda-cloud": {},
  "kernelspec": {
   "display_name": "Python 3",
   "language": "python",
   "name": "python3"
  },
  "language_info": {
   "codemirror_mode": {
    "name": "ipython",
    "version": 3
   },
   "file_extension": ".py",
   "mimetype": "text/x-python",
   "name": "python",
   "nbconvert_exporter": "python",
   "pygments_lexer": "ipython3",
   "version": "3.12.0"
  }
 },
 "nbformat": 4,
 "nbformat_minor": 0
}
