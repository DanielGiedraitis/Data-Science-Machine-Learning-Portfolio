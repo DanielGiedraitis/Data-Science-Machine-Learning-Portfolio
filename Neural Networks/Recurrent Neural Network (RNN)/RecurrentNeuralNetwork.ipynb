{
 "cells": [
  {
   "cell_type": "markdown",
   "metadata": {},
   "source": [
    "# **Recurrent Neural Network**"
   ]
  },
  {
   "cell_type": "markdown",
   "metadata": {},
   "source": [
    "#### **Student Name:** Daniel Giedraitis \n",
    "\n",
    "#### **Student Number:** C00260331\n",
    "\n",
    "#### **Module:** Data Science and Machine Learning 2 - Y4"
   ]
  },
  {
   "cell_type": "markdown",
   "metadata": {},
   "source": [
    "In this notebook, I will build a Recurrent Neural Network (RNN) model using TensorFlow to recognize handwritten digits. An RNN is a type of neural network that is well-suited for sequential data and has memory capabilities, making it suitable for tasks like handwriting recognition.\n",
    "\n",
    "The purpose of this notebook is to explore the application of RNNs in handwritten digit recognition and to gain a deeper understanding of their architecture and performance in comparison to Convolutional Neural Networks (CNNs)."
   ]
  },
  {
   "cell_type": "markdown",
   "metadata": {},
   "source": [
    "## **Change Log:**"
   ]
  },
  {
   "cell_type": "markdown",
   "metadata": {},
   "source": [
    "### **Change 1:**\n",
    "Increase the number of units in the RNN layer from 128 to 256.\n",
    "\n",
    "#### **Results:**\n",
    "**Number of units in the RNN layer: 128**\n",
    "- Training Accuracy: 97.76%\n",
    "- Training Loss: 0.08096\n",
    "- Validation Accuracy: 97.35%\n",
    "- Validation Loss: 0.10101\n",
    "\n",
    "\n",
    "**Number of units in the RNN layer: 256**\n",
    "- Training Accuracy: 97.35%\n",
    "- Training Loss: 0.09638\n",
    "- Validation Accuracy: 97.15%\n",
    "- Validation Loss: 0.11060\n",
    "\n",
    "<br>\n",
    "\n",
    "**Training Accuracy:** There is a slight decrease in training accuracy when increasing the number of units in the RNN layer from 128 to 256. The model with 128 units achieved a higher training accuracy of 97.76%, compared to 97.35% with 256 units. This suggests that increasing the number of units did not necessarily improve the model's ability to fit the training data.\n",
    "\n",
    "**Validation Accuracy:** Similarly, the validation accuracy also decreased slightly when using 256 units in the RNN layer. The model with 128 units achieved a validation accuracy of 97.35%, while the model with 256 units achieved a slightly lower validation accuracy of 97.15%. This indicates that the larger model may not generalize as well to unseen data as the smaller model.\n",
    "\n",
    "**Training Loss:** The training loss is lower when using 128 units compared to 256 units in the RNN layer. The model with 128 units achieved a training loss of 0.08096, while the model with 256 units had a higher training loss of 0.09638. This suggests that the model with 128 units better fits the training data.\n",
    "\n",
    "**Validation Loss:** Similarly, the validation loss is higher when using 256 units compared to 128 units in the RNN layer. The model with 128 units achieved a validation loss of 0.10101, while the model with 256 units had a slightly higher validation loss of 0.11060. This indicates that the larger model may be overfitting more to the training data, resulting in higher validation loss.\n",
    "\n",
    "Overall, increasing the number of units in the RNN layer from 128 to 256 did not lead to improvements in training or validation accuracy, and it resulted in slightly higher losses. This suggests that the original configuration with 128 units may be more suitable for the task of handwritten digit recognition."
   ]
  },
  {
   "cell_type": "markdown",
   "metadata": {},
   "source": [
    "### **Change 2:**\n",
    "Change the activation function in the RNN layer from 'relu' to 'tanh'.\n",
    "\n",
    "#### **Results:**\n",
    "**ReLU Activation Function:**\n",
    "- Training Accuracy: 97.76%\n",
    "- Training Loss: 0.08096\n",
    "- Validation Accuracy: 97.35%\n",
    "- Validation Loss: 0.10101\n",
    "\n",
    "\n",
    "**Tanh Activation Function:**\n",
    "- Training Accuracy: 95.88%\n",
    "- Training Loss: 0.14922\n",
    "- Validation Accuracy: 95.97%\n",
    "- Validation Loss: 0.15056\n",
    "\n",
    "<br>\n",
    "\n",
    "**Training Accuracy:** There is a noticeable drop in training accuracy when using the tanh activation function compared to ReLU. The model with ReLU achieved a training accuracy of 97.77%, while the model with tanh achieved a lower training accuracy of 95.88%. This indicates that the ReLU activation function allowed the model to better fit the training data.\n",
    "\n",
    "**Validation Accuracy:** Similarly, there is a decrease in validation accuracy when using the tanh activation function. The model with ReLU achieved a validation accuracy of 97.35%, while the model with tanh achieved a slightly lower validation accuracy of 95.97%. This suggests that the model with ReLU may generalize better to unseen data.\n",
    "\n",
    "**Training Loss:** The training loss is higher when using the tanh activation function compared to ReLU. The model with ReLU achieved a training loss of 0.08096, while the model with tanh had a higher training loss of 0.14922. This indicates that the model with tanh is less effective at minimizing the loss on the training data\n",
    "\n",
    "**Validation Loss:** Similarly, the validation loss is higher when using the tanh activation function compared to ReLU. The model with ReLU achieved a validation loss of 0.10101, while the model with tanh had a higher validation loss of 0.15056. This suggests that the model with tanh may be overfitting more to the training data.\n",
    "\n",
    "Overall, changing the activation function from ReLU to tanh resulted in lower performance in terms of both training and validation accuracy, as well as higher losses. This indicates that ReLU may be a more suitable activation function for this particular task of handwritten digit recognition."
   ]
  },
  {
   "cell_type": "markdown",
   "metadata": {},
   "source": [
    "### **Change 3:**\n",
    "Increase the batch size from 32 to 64.\n",
    "\n",
    "#### **Results:**\n",
    "**Batch Size 32:**\n",
    "- Training Accuracy: 97.76%\n",
    "- Training Loss: 0.08096\n",
    "- Validation Accuracy: 97.35%\n",
    "- Validation Loss: 0.10101\n",
    "\n",
    "\n",
    "**Batch Size 64:**\n",
    "- Training Accuracy: 97.70%\n",
    "- Training Loss: 0.07727\n",
    "- Validation Accuracy: 97.42%\n",
    "- Validation Loss: 0.09066\n",
    "\n",
    "<br>\n",
    "\n",
    "**Training Accuracy:** There is a slight decrease in training accuracy when the batch size is increased from 32 to 64. The model with a batch size of 32 achieved a training accuracy of 97.77%, while the model with a batch size of 64 achieved a slightly lower training accuracy of 97.70%. This suggests that a larger batch size may slightly hinder the model's ability to fit the training data.\n",
    "\n",
    "**Validation Accuracy:**  Interestingly, there is a slight improvement in validation accuracy when the batch size is increased. The model with a batch size of 32 achieved a validation accuracy of 97.35%, while the model with a batch size of 64 achieved a slightly higher validation accuracy of 97.42%. This indicates that increasing the batch size did not negatively impact the model's ability to generalize to unseen data.\n",
    "\n",
    "**Training Loss:** The training loss is slightly lower when the batch size is increased from 32 to 64. The model with a batch size of 32 had a training loss of 0.08096, while the model with a batch size of 64 had a slightly lower training loss of 0.07727. This suggests that the model with a larger batch size may be better at minimizing the loss on the training data.\n",
    "\n",
    "**Validation Loss:** Similarly, the validation loss is slightly lower when the batch size is increased. The model with a batch size of 32 had a validation loss of 0.10101, while the model with a batch size of 64 had a slightly lower validation loss of 0.09066. This indicates that the model with a larger batch size may be less prone to overfitting to the training data.\n",
    "\n",
    "Overall, increasing the batch size from 32 to 64 resulted in a slight improvement in validation accuracy and a slight decrease in both training and validation loss, without significantly impacting training accuracy. This suggests that a larger batch size may be beneficial for training the model more efficiently and effectively."
   ]
  },
  {
   "cell_type": "markdown",
   "metadata": {},
   "source": [
    "### **Change 4:**\n",
    "Changed the optimizer from Adam to RMSprop.\n",
    "\n",
    "#### **Results:**\n",
    "**Adam Optimizer:**\n",
    "- Training Accuracy: 97.76%\n",
    "- Training Loss: 0.08096\n",
    "- Validation Accuracy: 97.35%\n",
    "- Validation Loss: 0.10101\n",
    "\n",
    "\n",
    "**RMSprop Optimizer:**\n",
    "- Training Accuracy: 92.49%\n",
    "- Training Loss: 0.27103\n",
    "- Validation Accuracy: 92.37%\n",
    "- Validation Loss: 0.27902\n",
    "\n",
    "<br>\n",
    "\n",
    "**Training Accuracy:** There is a significant decrease in training accuracy when switching from the Adam optimizer to RMSprop. The model trained with RMSprop achieved a training accuracy of 92.49%, compared to 97.77% with Adam. This suggests that the RMSprop optimizer may not be as effective as Adam in optimizing the model parameters on the training data.\n",
    "\n",
    "**Validation Accuracy:** Similarly, there is a notable decrease in validation accuracy when using RMSprop. The model trained with RMSprop achieved a validation accuracy of 92.37%, compared to 97.35% with Adam. This indicates that the model's ability to generalize to unseen data is significantly reduced when using RMSprop.\n",
    "\n",
    "**Training Loss:** The training loss is substantially higher when using RMSprop compared to Adam. The model trained with RMSprop had a training loss of 0.27103, whereas the model trained with Adam had a much lower training loss of 0.08096. This suggests that RMSprop may not be as effective in minimizing the loss on the training data.\n",
    "\n",
    "**Validation Loss:** Similarly, the validation loss is significantly higher with RMSprop compared to Adam. The model trained with RMSprop had a validation loss of 0.27902, whereas the model trained with Adam had a much lower validation loss of 0.10101. This indicates that the model's performance on unseen data is compromised when using RMSprop as the optimizer.\n",
    "\n",
    "Overall, switching from the Adam optimizer to RMSprop led to a significant decrease in both training and validation accuracy, as well as an increase in both training and validation loss. This suggests that RMSprop may not be the most suitable optimizer for this particular model and dataset compared to Adam."
   ]
  },
  {
   "cell_type": "markdown",
   "metadata": {},
   "source": [
    "### **Change 5:**\n",
    "Added another RNN layer with 128 units after the existing RNN layer.\n",
    "\n",
    "#### **Results:**\n",
    "**Before:**\n",
    "- Training Accuracy: 97.76%\n",
    "- Training Loss: 0.08096\n",
    "- Validation Accuracy: 97.35%\n",
    "- Validation Loss: 0.10101\n",
    "\n",
    "\n",
    "**After:**\n",
    "- Training Accuracy: 98.26%\n",
    "- Training Loss: 0.06253\n",
    "- Validation Accuracy: 97.74%\n",
    "- Validation Loss: 0.08303\n",
    "\n",
    "<br>\n",
    "\n",
    "**Training Accuracy:** There is a slight improvement in training accuracy after adding another RNN layer, increasing from 97.77% to 98.26%. This suggests that the additional layer helps the model learn more complex patterns in the training data.\n",
    "\n",
    "**Validation Accuracy:** Similarly, there is a slight improvement in validation accuracy after adding the extra layer, rising from 97.35% to 97.74%. This indicates that the model's ability to generalize to unseen data has been slightly enhanced.\n",
    "\n",
    "**Training Loss:** The training loss has decreased noticeably from 0.08096 to 0.06253 after adding another RNN layer. This indicates that the model is better able to minimize its error on the training data with the additional layer.\n",
    "\n",
    "**Validation Loss:** Similarly, the validation loss has decreased from 0.10101 to 0.08303 after adding the extra layer. This suggests that the model's performance on unseen data has improved as well.\n",
    "\n",
    "The addition of another RNN layer with 128 units has resulted in a slight improvement in both training and validation accuracy, as well as a reduction in training and validation loss. This indicates that the model's capacity to capture and learn complex patterns in the data has been enhanced by the additional layer."
   ]
  },
  {
   "cell_type": "markdown",
   "metadata": {},
   "source": [
    "## **Import Dependencies:**"
   ]
  },
  {
   "cell_type": "markdown",
   "metadata": {},
   "source": [
    "Start by importing the necessary libraries."
   ]
  },
  {
   "cell_type": "code",
   "execution_count": 1,
   "metadata": {},
   "outputs": [],
   "source": [
    "import tensorflow as tf\n",
    "import matplotlib.pyplot as plt\n",
    "import numpy as np\n",
    "import math\n",
    "import datetime\n"
   ]
  },
  {
   "cell_type": "markdown",
   "metadata": {},
   "source": [
    "## **Load the Data:**"
   ]
  },
  {
   "cell_type": "markdown",
   "metadata": {},
   "source": [
    "Load the MNIST dataset, which consists of handwritten digits.\n",
    "\n"
   ]
  },
  {
   "cell_type": "code",
   "execution_count": 2,
   "metadata": {},
   "outputs": [
    {
     "name": "stdout",
     "output_type": "stream",
     "text": [
      "x_train: (60000, 28, 28)\n",
      "y_train: (60000,)\n",
      "x_test: (10000, 28, 28)\n",
      "y_test: (10000,)\n"
     ]
    }
   ],
   "source": [
    "# Load the MNIST dataset\n",
    "mnist_dataset = tf.keras.datasets.mnist\n",
    "(x_train, y_train), (x_test, y_test) = mnist_dataset.load_data()\n",
    "\n",
    "# Print dataset shapes\n",
    "print('x_train:', x_train.shape)\n",
    "print('y_train:', y_train.shape)\n",
    "print('x_test:', x_test.shape)\n",
    "print('y_test:', y_test.shape)\n"
   ]
  },
  {
   "cell_type": "markdown",
   "metadata": {},
   "source": [
    "## **Explore the Data:**"
   ]
  },
  {
   "cell_type": "markdown",
   "metadata": {},
   "source": [
    "Visualize some sample images from the dataset to understand the characteristics of the handwritten digits."
   ]
  },
  {
   "cell_type": "code",
   "execution_count": 3,
   "metadata": {},
   "outputs": [
    {
     "data": {
      "image/png": "[encoded data removed]",
      "text/plain": [
       "<Figure size 1000x1000 with 16 Axes>"
      ]
     },
     "metadata": {},
     "output_type": "display_data"
    }
   ],
   "source": [
    "# Visualize sample images\n",
    "numbers_to_display = 16\n",
    "num_cells = math.ceil(math.sqrt(numbers_to_display))\n",
    "plt.figure(figsize=(10,10))\n",
    "for i in range(numbers_to_display):\n",
    "    plt.subplot(num_cells, num_cells, i+1)\n",
    "    plt.xticks([])\n",
    "    plt.yticks([])\n",
    "    plt.grid(False)\n",
    "    plt.imshow(x_train[i], cmap=plt.cm.binary)\n",
    "    plt.xlabel(y_train[i])\n",
    "plt.show()\n"
   ]
  },
  {
   "cell_type": "markdown",
   "metadata": {},
   "source": [
    "## **Preprocess the Data:**"
   ]
  },
  {
   "cell_type": "markdown",
   "metadata": {},
   "source": [
    "Reshape the data and normalize it to prepare it for training."
   ]
  },
  {
   "cell_type": "code",
   "execution_count": 4,
   "metadata": {},
   "outputs": [
    {
     "name": "stdout",
     "output_type": "stream",
     "text": [
      "x_train_normalized: (60000, 28, 28, 1)\n",
      "x_test_normalized: (10000, 28, 28, 1)\n"
     ]
    }
   ],
   "source": [
    "# Define image dimensions\n",
    "IMAGE_WIDTH = 28\n",
    "IMAGE_HEIGHT = 28\n",
    "IMAGE_CHANNELS = 1  # Grayscale images have one channel\n",
    "\n",
    "# Reshape the data and add color channels\n",
    "x_train_with_chanels = x_train.reshape(\n",
    "    x_train.shape[0],\n",
    "    IMAGE_WIDTH,\n",
    "    IMAGE_HEIGHT,\n",
    "    IMAGE_CHANNELS\n",
    ")\n",
    "\n",
    "x_test_with_chanels = x_test.reshape(\n",
    "    x_test.shape[0],\n",
    "    IMAGE_WIDTH,\n",
    "    IMAGE_HEIGHT,\n",
    "    IMAGE_CHANNELS\n",
    ")\n",
    "\n",
    "# Normalize the data\n",
    "x_train_normalized = x_train_with_chanels / 255\n",
    "x_test_normalized = x_test_with_chanels / 255\n",
    "\n",
    "# Check the shape after normalization\n",
    "print('x_train_normalized:', x_train_normalized.shape)\n",
    "print('x_test_normalized:', x_test_normalized.shape)\n"
   ]
  },
  {
   "cell_type": "markdown",
   "metadata": {},
   "source": [
    "## **Build the Model:**"
   ]
  },
  {
   "cell_type": "markdown",
   "metadata": {},
   "source": [
    "Build an RNN model using TensorFlow's Sequential API."
   ]
  },
  {
   "cell_type": "code",
   "execution_count": 5,
   "metadata": {},
   "outputs": [
    {
     "data": {
      "text/html": [
       "<pre style=\"white-space:pre;overflow-x:auto;line-height:normal;font-family:Menlo,'DejaVu Sans Mono',consolas,'Courier New',monospace\"><span style=\"font-weight: bold\">Model: \"sequential\"</span>\n",
       "</pre>\n"
      ],
      "text/plain": [
       "\u001b[1mModel: \"sequential\"\u001b[0m\n"
      ]
     },
     "metadata": {},
     "output_type": "display_data"
    },
    {
     "data": {
      "text/html": [
       "<pre style=\"white-space:pre;overflow-x:auto;line-height:normal;font-family:Menlo,'DejaVu Sans Mono',consolas,'Courier New',monospace\">┏━━━━━━━━━━━━━━━━━━━━━━━━━━━━━━━━━┳━━━━━━━━━━━━━━━━━━━━━━━━┳━━━━━━━━━━━━━━━┓\n",
       "┃<span style=\"font-weight: bold\"> Layer (type)                    </span>┃<span style=\"font-weight: bold\"> Output Shape           </span>┃<span style=\"font-weight: bold\">       Param # </span>┃\n",
       "┡━━━━━━━━━━━━━━━━━━━━━━━━━━━━━━━━━╇━━━━━━━━━━━━━━━━━━━━━━━━╇━━━━━━━━━━━━━━━┩\n",
       "│ simple_rnn (<span style=\"color: #0087ff; text-decoration-color: #0087ff\">SimpleRNN</span>)          │ (<span style=\"color: #00d7ff; text-decoration-color: #00d7ff\">None</span>, <span style=\"color: #00af00; text-decoration-color: #00af00\">28</span>, <span style=\"color: #00af00; text-decoration-color: #00af00\">128</span>)        │        <span style=\"color: #00af00; text-decoration-color: #00af00\">20,096</span> │\n",
       "├─────────────────────────────────┼────────────────────────┼───────────────┤\n",
       "│ simple_rnn_1 (<span style=\"color: #0087ff; text-decoration-color: #0087ff\">SimpleRNN</span>)        │ (<span style=\"color: #00d7ff; text-decoration-color: #00d7ff\">None</span>, <span style=\"color: #00af00; text-decoration-color: #00af00\">128</span>)            │        <span style=\"color: #00af00; text-decoration-color: #00af00\">32,896</span> │\n",
       "├─────────────────────────────────┼────────────────────────┼───────────────┤\n",
       "│ dropout (<span style=\"color: #0087ff; text-decoration-color: #0087ff\">Dropout</span>)               │ (<span style=\"color: #00d7ff; text-decoration-color: #00d7ff\">None</span>, <span style=\"color: #00af00; text-decoration-color: #00af00\">128</span>)            │             <span style=\"color: #00af00; text-decoration-color: #00af00\">0</span> │\n",
       "├─────────────────────────────────┼────────────────────────┼───────────────┤\n",
       "│ dense (<span style=\"color: #0087ff; text-decoration-color: #0087ff\">Dense</span>)                   │ (<span style=\"color: #00d7ff; text-decoration-color: #00d7ff\">None</span>, <span style=\"color: #00af00; text-decoration-color: #00af00\">10</span>)             │         <span style=\"color: #00af00; text-decoration-color: #00af00\">1,290</span> │\n",
       "└─────────────────────────────────┴────────────────────────┴───────────────┘\n",
       "</pre>\n"
      ],
      "text/plain": [
       "┏━━━━━━━━━━━━━━━━━━━━━━━━━━━━━━━━━┳━━━━━━━━━━━━━━━━━━━━━━━━┳━━━━━━━━━━━━━━━┓\n",
       "┃\u001b[1m \u001b[0m\u001b[1mLayer (type)                   \u001b[0m\u001b[1m \u001b[0m┃\u001b[1m \u001b[0m\u001b[1mOutput Shape          \u001b[0m\u001b[1m \u001b[0m┃\u001b[1m \u001b[0m\u001b[1m      Param #\u001b[0m\u001b[1m \u001b[0m┃\n",
       "┡━━━━━━━━━━━━━━━━━━━━━━━━━━━━━━━━━╇━━━━━━━━━━━━━━━━━━━━━━━━╇━━━━━━━━━━━━━━━┩\n",
       "│ simple_rnn (\u001b[38;5;33mSimpleRNN\u001b[0m)          │ (\u001b[38;5;45mNone\u001b[0m, \u001b[38;5;34m28\u001b[0m, \u001b[38;5;34m128\u001b[0m)        │        \u001b[38;5;34m20,096\u001b[0m │\n",
       "├─────────────────────────────────┼────────────────────────┼───────────────┤\n",
       "│ simple_rnn_1 (\u001b[38;5;33mSimpleRNN\u001b[0m)        │ (\u001b[38;5;45mNone\u001b[0m, \u001b[38;5;34m128\u001b[0m)            │        \u001b[38;5;34m32,896\u001b[0m │\n",
       "├─────────────────────────────────┼────────────────────────┼───────────────┤\n",
       "│ dropout (\u001b[38;5;33mDropout\u001b[0m)               │ (\u001b[38;5;45mNone\u001b[0m, \u001b[38;5;34m128\u001b[0m)            │             \u001b[38;5;34m0\u001b[0m │\n",
       "├─────────────────────────────────┼────────────────────────┼───────────────┤\n",
       "│ dense (\u001b[38;5;33mDense\u001b[0m)                   │ (\u001b[38;5;45mNone\u001b[0m, \u001b[38;5;34m10\u001b[0m)             │         \u001b[38;5;34m1,290\u001b[0m │\n",
       "└─────────────────────────────────┴────────────────────────┴───────────────┘\n"
      ]
     },
     "metadata": {},
     "output_type": "display_data"
    },
    {
     "data": {
      "text/html": [
       "<pre style=\"white-space:pre;overflow-x:auto;line-height:normal;font-family:Menlo,'DejaVu Sans Mono',consolas,'Courier New',monospace\"><span style=\"font-weight: bold\"> Total params: </span><span style=\"color: #00af00; text-decoration-color: #00af00\">54,282</span> (212.04 KB)\n",
       "</pre>\n"
      ],
      "text/plain": [
       "\u001b[1m Total params: \u001b[0m\u001b[38;5;34m54,282\u001b[0m (212.04 KB)\n"
      ]
     },
     "metadata": {},
     "output_type": "display_data"
    },
    {
     "data": {
      "text/html": [
       "<pre style=\"white-space:pre;overflow-x:auto;line-height:normal;font-family:Menlo,'DejaVu Sans Mono',consolas,'Courier New',monospace\"><span style=\"font-weight: bold\"> Trainable params: </span><span style=\"color: #00af00; text-decoration-color: #00af00\">54,282</span> (212.04 KB)\n",
       "</pre>\n"
      ],
      "text/plain": [
       "\u001b[1m Trainable params: \u001b[0m\u001b[38;5;34m54,282\u001b[0m (212.04 KB)\n"
      ]
     },
     "metadata": {},
     "output_type": "display_data"
    },
    {
     "data": {
      "text/html": [
       "<pre style=\"white-space:pre;overflow-x:auto;line-height:normal;font-family:Menlo,'DejaVu Sans Mono',consolas,'Courier New',monospace\"><span style=\"font-weight: bold\"> Non-trainable params: </span><span style=\"color: #00af00; text-decoration-color: #00af00\">0</span> (0.00 B)\n",
       "</pre>\n"
      ],
      "text/plain": [
       "\u001b[1m Non-trainable params: \u001b[0m\u001b[38;5;34m0\u001b[0m (0.00 B)\n"
      ]
     },
     "metadata": {},
     "output_type": "display_data"
    }
   ],
   "source": [
    "# Define image dimensions\n",
    "IMAGE_WIDTH = 28\n",
    "IMAGE_HEIGHT = 28\n",
    "\n",
    "# Build the RNN model\n",
    "model = tf.keras.models.Sequential()\n",
    "\n",
    "# Define input shape\n",
    "input_shape = (IMAGE_WIDTH, IMAGE_HEIGHT)\n",
    "\n",
    "# Add input layer\n",
    "model.add(tf.keras.layers.Input(shape=input_shape))\n",
    "\n",
    "# Add RNN layer with return_sequences=True\n",
    "model.add(tf.keras.layers.SimpleRNN(units=128, activation='relu', return_sequences=True))\n",
    "\n",
    "# Add another RNN layer (Change Log)\n",
    "model.add(tf.keras.layers.SimpleRNN(units=128, activation='relu'))\n",
    "\n",
    "# Add dropout layer\n",
    "model.add(tf.keras.layers.Dropout(0.3))\n",
    "\n",
    "# Add output layer\n",
    "model.add(tf.keras.layers.Dense(units=10, activation='softmax'))\n",
    "\n",
    "# Print model summary\n",
    "model.summary()\n",
    "\n"
   ]
  },
  {
   "cell_type": "markdown",
   "metadata": {},
   "source": [
    "## **Compile the Model:**"
   ]
  },
  {
   "cell_type": "markdown",
   "metadata": {},
   "source": [
    "Compile the model using the Adam optimizer and sparse categorical crossentropy loss function."
   ]
  },
  {
   "cell_type": "code",
   "execution_count": 6,
   "metadata": {},
   "outputs": [],
   "source": [
    "# Compile the model\n",
    "adam_optimizer = tf.keras.optimizers.Adam(learning_rate=0.001)\n",
    "model.compile(\n",
    "    optimizer=adam_optimizer,\n",
    "    loss=tf.keras.losses.sparse_categorical_crossentropy,\n",
    "    metrics=['accuracy']\n",
    ")\n"
   ]
  },
  {
   "cell_type": "markdown",
   "metadata": {},
   "source": [
    "## **Train the Model:**"
   ]
  },
  {
   "cell_type": "markdown",
   "metadata": {},
   "source": [
    "Train the model on the training data and evaluate its performance on the test set."
   ]
  },
  {
   "cell_type": "code",
   "execution_count": 7,
   "metadata": {},
   "outputs": [
    {
     "name": "stdout",
     "output_type": "stream",
     "text": [
      "Epoch 1/20\n",
      "\u001b[1m1875/1875\u001b[0m \u001b[32m━━━━━━━━━━━━━━━━━━━━\u001b[0m\u001b[37m\u001b[0m \u001b[1m20s\u001b[0m 10ms/step - accuracy: 0.7654 - loss: 0.7080 - val_accuracy: 0.9555 - val_loss: 0.1403\n",
      "Epoch 2/20\n",
      "\u001b[1m1875/1875\u001b[0m \u001b[32m━━━━━━━━━━━━━━━━━━━━\u001b[0m\u001b[37m\u001b[0m \u001b[1m17s\u001b[0m 9ms/step - accuracy: 0.9497 - loss: 0.1864 - val_accuracy: 0.9691 - val_loss: 0.1083\n",
      "Epoch 3/20\n",
      "\u001b[1m1875/1875\u001b[0m \u001b[32m━━━━━━━━━━━━━━━━━━━━\u001b[0m\u001b[37m\u001b[0m \u001b[1m17s\u001b[0m 9ms/step - accuracy: 0.9609 - loss: 0.1468 - val_accuracy: 0.9643 - val_loss: 0.1238\n",
      "Epoch 4/20\n",
      "\u001b[1m1875/1875\u001b[0m \u001b[32m━━━━━━━━━━━━━━━━━━━━\u001b[0m\u001b[37m\u001b[0m \u001b[1m17s\u001b[0m 9ms/step - accuracy: 0.9672 - loss: 0.1260 - val_accuracy: 0.9711 - val_loss: 0.0997\n",
      "Epoch 5/20\n",
      "\u001b[1m1875/1875\u001b[0m \u001b[32m━━━━━━━━━━━━━━━━━━━━\u001b[0m\u001b[37m\u001b[0m \u001b[1m17s\u001b[0m 9ms/step - accuracy: 0.9631 - loss: 0.1350 - val_accuracy: 0.9711 - val_loss: 0.1010\n",
      "Epoch 6/20\n",
      "\u001b[1m1875/1875\u001b[0m \u001b[32m━━━━━━━━━━━━━━━━━━━━\u001b[0m\u001b[37m\u001b[0m \u001b[1m17s\u001b[0m 9ms/step - accuracy: 0.9742 - loss: 0.1023 - val_accuracy: 0.9735 - val_loss: 0.1062\n",
      "Epoch 7/20\n",
      "\u001b[1m1875/1875\u001b[0m \u001b[32m━━━━━━━━━━━━━━━━━━━━\u001b[0m\u001b[37m\u001b[0m \u001b[1m17s\u001b[0m 9ms/step - accuracy: 0.9749 - loss: 0.0951 - val_accuracy: 0.9742 - val_loss: 0.0918\n",
      "Epoch 8/20\n",
      "\u001b[1m1875/1875\u001b[0m \u001b[32m━━━━━━━━━━━━━━━━━━━━\u001b[0m\u001b[37m\u001b[0m \u001b[1m18s\u001b[0m 9ms/step - accuracy: 0.9743 - loss: 0.0959 - val_accuracy: 0.9800 - val_loss: 0.0773\n",
      "Epoch 9/20\n",
      "\u001b[1m1875/1875\u001b[0m \u001b[32m━━━━━━━━━━━━━━━━━━━━\u001b[0m\u001b[37m\u001b[0m \u001b[1m18s\u001b[0m 9ms/step - accuracy: 0.9778 - loss: 0.0842 - val_accuracy: 0.9788 - val_loss: 0.0871\n",
      "Epoch 10/20\n",
      "\u001b[1m1875/1875\u001b[0m \u001b[32m━━━━━━━━━━━━━━━━━━━━\u001b[0m\u001b[37m\u001b[0m \u001b[1m17s\u001b[0m 9ms/step - accuracy: 0.9781 - loss: 0.0807 - val_accuracy: 0.9788 - val_loss: 0.0852\n",
      "Epoch 11/20\n",
      "\u001b[1m1875/1875\u001b[0m \u001b[32m━━━━━━━━━━━━━━━━━━━━\u001b[0m\u001b[37m\u001b[0m \u001b[1m18s\u001b[0m 9ms/step - accuracy: 0.9778 - loss: 0.0848 - val_accuracy: 0.9625 - val_loss: 0.1403\n",
      "Epoch 12/20\n",
      "\u001b[1m1875/1875\u001b[0m \u001b[32m━━━━━━━━━━━━━━━━━━━━\u001b[0m\u001b[37m\u001b[0m \u001b[1m18s\u001b[0m 9ms/step - accuracy: 0.9781 - loss: 0.0803 - val_accuracy: 0.9752 - val_loss: 0.0948\n",
      "Epoch 13/20\n",
      "\u001b[1m1875/1875\u001b[0m \u001b[32m━━━━━━━━━━━━━━━━━━━━\u001b[0m\u001b[37m\u001b[0m \u001b[1m18s\u001b[0m 9ms/step - accuracy: 0.9797 - loss: 0.0789 - val_accuracy: 0.9797 - val_loss: 0.0826\n",
      "Epoch 14/20\n",
      "\u001b[1m1875/1875\u001b[0m \u001b[32m━━━━━━━━━━━━━━━━━━━━\u001b[0m\u001b[37m\u001b[0m \u001b[1m18s\u001b[0m 9ms/step - accuracy: 0.9798 - loss: 0.0751 - val_accuracy: 0.9760 - val_loss: 0.0948\n",
      "Epoch 15/20\n",
      "\u001b[1m1875/1875\u001b[0m \u001b[32m━━━━━━━━━━━━━━━━━━━━\u001b[0m\u001b[37m\u001b[0m \u001b[1m18s\u001b[0m 9ms/step - accuracy: 0.9815 - loss: 0.0682 - val_accuracy: 0.9806 - val_loss: 0.0735\n",
      "Epoch 16/20\n",
      "\u001b[1m1875/1875\u001b[0m \u001b[32m━━━━━━━━━━━━━━━━━━━━\u001b[0m\u001b[37m\u001b[0m \u001b[1m18s\u001b[0m 9ms/step - accuracy: 0.9820 - loss: 0.0671 - val_accuracy: 0.9823 - val_loss: 0.0713\n",
      "Epoch 17/20\n",
      "\u001b[1m1875/1875\u001b[0m \u001b[32m━━━━━━━━━━━━━━━━━━━━\u001b[0m\u001b[37m\u001b[0m \u001b[1m18s\u001b[0m 9ms/step - accuracy: 0.9791 - loss: 0.0790 - val_accuracy: 0.9792 - val_loss: 0.0791\n",
      "Epoch 18/20\n",
      "\u001b[1m1875/1875\u001b[0m \u001b[32m━━━━━━━━━━━━━━━━━━━━\u001b[0m\u001b[37m\u001b[0m \u001b[1m18s\u001b[0m 9ms/step - accuracy: 0.9817 - loss: 0.0669 - val_accuracy: 0.9769 - val_loss: 0.0822\n",
      "Epoch 19/20\n",
      "\u001b[1m1875/1875\u001b[0m \u001b[32m━━━━━━━━━━━━━━━━━━━━\u001b[0m\u001b[37m\u001b[0m \u001b[1m18s\u001b[0m 9ms/step - accuracy: 0.9817 - loss: 0.0722 - val_accuracy: 0.9818 - val_loss: 0.0644\n",
      "Epoch 20/20\n",
      "\u001b[1m1875/1875\u001b[0m \u001b[32m━━━━━━━━━━━━━━━━━━━━\u001b[0m\u001b[37m\u001b[0m \u001b[1m18s\u001b[0m 10ms/step - accuracy: 0.9811 - loss: 0.0720 - val_accuracy: 0.9774 - val_loss: 0.0830\n"
     ]
    }
   ],
   "source": [
    "# Train the model\n",
    "log_dir=\".logs/fit/\" + datetime.datetime.now().strftime(\"%Y%m%d-%H%M%S\")\n",
    "tensorboard_callback = tf.keras.callbacks.TensorBoard(log_dir=log_dir, histogram_freq=1)\n",
    "\n",
    "training_history = model.fit(\n",
    "    x_train_normalized,\n",
    "    y_train,\n",
    "    epochs=20,\n",
    "    validation_data=(x_test_normalized, y_test),\n",
    "    callbacks=[tensorboard_callback]\n",
    ")\n"
   ]
  },
  {
   "cell_type": "markdown",
   "metadata": {},
   "source": [
    "## **Visualize Training History:**"
   ]
  },
  {
   "cell_type": "markdown",
   "metadata": {},
   "source": [
    "Visualize the model's training and validation loss and accuracy."
   ]
  },
  {
   "cell_type": "code",
   "execution_count": 8,
   "metadata": {},
   "outputs": [
    {
     "data": {
      "image/png": "[encoded data removed]",
      "text/plain": [
       "<Figure size 640x480 with 1 Axes>"
      ]
     },
     "metadata": {},
     "output_type": "display_data"
    },
    {
     "data": {
      "image/png": "[encoded data removed]",
      "text/plain": [
       "<Figure size 640x480 with 1 Axes>"
      ]
     },
     "metadata": {},
     "output_type": "display_data"
    }
   ],
   "source": [
    "plt.xlabel('Epoch Number')\n",
    "plt.ylabel('Loss')\n",
    "plt.plot(training_history.history['loss'], label='training set')\n",
    "plt.plot(training_history.history['val_loss'], label='test set')\n",
    "plt.legend()\n",
    "plt.show()\n",
    "\n",
    "plt.xlabel('Epoch Number')\n",
    "plt.ylabel('Accuracy')\n",
    "plt.plot(training_history.history['accuracy'], label='training set')\n",
    "plt.plot(training_history.history['val_accuracy'], label='test set')\n",
    "plt.legend()\n",
    "plt.show()\n"
   ]
  },
  {
   "cell_type": "markdown",
   "metadata": {},
   "source": [
    "## **Evaluate Model Accuracy:**"
   ]
  },
  {
   "cell_type": "markdown",
   "metadata": {},
   "source": [
    "Evaluate the model's accuracy on both the training and test sets."
   ]
  },
  {
   "cell_type": "code",
   "execution_count": 9,
   "metadata": {},
   "outputs": [
    {
     "name": "stdout",
     "output_type": "stream",
     "text": [
      "\u001b[1m1875/1875\u001b[0m \u001b[32m━━━━━━━━━━━━━━━━━━━━\u001b[0m\u001b[37m\u001b[0m \u001b[1m7s\u001b[0m 4ms/step - accuracy: 0.9823 - loss: 0.0641\n",
      "Training loss:  0.06253281980752945\n",
      "Training accuracy:  0.982616662979126\n",
      "\u001b[1m313/313\u001b[0m \u001b[32m━━━━━━━━━━━━━━━━━━━━\u001b[0m\u001b[37m\u001b[0m \u001b[1m1s\u001b[0m 4ms/step - accuracy: 0.9744 - loss: 0.0948\n",
      "Validation loss:  0.08302661776542664\n",
      "Validation accuracy:  0.977400004863739\n"
     ]
    }
   ],
   "source": [
    "# Evaluate model accuracy\n",
    "train_loss, train_accuracy = model.evaluate(x_train_normalized, y_train)\n",
    "print('Training loss: ', train_loss)\n",
    "print('Training accuracy: ', train_accuracy)\n",
    "\n",
    "validation_loss, validation_accuracy = model.evaluate(x_test_normalized, y_test)\n",
    "print('Validation loss: ', validation_loss)\n",
    "print('Validation accuracy: ', validation_accuracy)\n"
   ]
  },
  {
   "cell_type": "markdown",
   "metadata": {},
   "source": [
    "## **Save the Model:**"
   ]
  },
  {
   "cell_type": "markdown",
   "metadata": {},
   "source": [
    "Save the trained model to a HDF5 file."
   ]
  },
  {
   "cell_type": "code",
   "execution_count": 10,
   "metadata": {},
   "outputs": [],
   "source": [
    "# Save the model in the native Keras format\n",
    "model_name = 'digits_recognition_rnn.keras'\n",
    "model.save(model_name)"
   ]
  },
  {
   "cell_type": "markdown",
   "metadata": {},
   "source": [
    "## **Conclusion:**"
   ]
  },
  {
   "cell_type": "markdown",
   "metadata": {},
   "source": [
    "In this notebook, I successfully built and trained a Recurrent Neural Network (RNN) model using TensorFlow to recognize handwritten digits from the MNIST dataset. The trained model achieved high accuracy on both the training and test sets. I visualized the model's training history using TensorBoard and saved the trained model to a HDF5 file for future use. Overall, this experiment provided valuable insights into the application of RNNs in handwritten digit recognition tasks.\n",
    "\n",
    "**Compared Results from my other Models**:\n",
    "\n",
    "**Feedforward Neural Network (FNN):**\n",
    "\n",
    "- The FNN model achieved impressive results with a training accuracy of 99.74% and a test accuracy of 97.99%.\n",
    "\n",
    "- Despite its simplicity compared to CNNs and RNNs, the FNN demonstrated remarkable performance in digit recognition.\n",
    "\n",
    "<br>\n",
    "\n",
    "**Convolutional Neural Network (CNN):**\n",
    "- The CNN model outperformed the FNN, achieving a training accuracy of 99.82% and a test accuracy of 99.10%.\n",
    "\n",
    "- CNNs are well-suited for image classification tasks due to their ability to capture spatial hierarchies of features, leading to superior performance compared to traditional FNNs.\n",
    "\n",
    "<br>\n",
    "\n",
    "**Recurrent Neural Network (RNN):**\n",
    "- The RNN model, while not achieving as high accuracy as the CNN, still demonstrated strong performance.\n",
    "\n",
    "- With a training accuracy of 98.26% and a test accuracy of 97.74%, the RNN effectively captured sequential dependencies in the digit sequences.\n",
    "\n",
    "- Although RNNs are traditionally used for sequential data like text and time series, they can also be applied to image data with sequential characteristics, such as handwritten digits.\n",
    "\n",
    "<br>\n",
    "\n",
    "**Overall Insights:**\n",
    "- These notebooks provided valuable insights into the strengths and weaknesses of different neural network architectures for handwritten digit recognition.\n",
    "\n",
    "- While FNNs offer simplicity and competitive performance, CNNs excel in capturing spatial features, making them ideal for image-related tasks.\n"
   ]
  }
 ],
 "metadata": {
  "kernelspec": {
   "display_name": "Python 3",
   "language": "python",
   "name": "python3"
  },
  "language_info": {
   "codemirror_mode": {
    "name": "ipython",
    "version": 3
   },
   "file_extension": ".py",
   "mimetype": "text/x-python",
   "name": "python",
   "nbconvert_exporter": "python",
   "pygments_lexer": "ipython3",
   "version": "3.12.0"
  },
  "orig_nbformat": 4
 },
 "nbformat": 4,
 "nbformat_minor": 2
}
