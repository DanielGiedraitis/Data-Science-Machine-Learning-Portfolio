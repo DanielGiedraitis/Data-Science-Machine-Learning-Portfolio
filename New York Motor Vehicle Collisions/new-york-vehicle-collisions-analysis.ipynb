{
 "cells": [
  {
   "cell_type": "markdown",
   "id": "ff27caf3",
   "metadata": {
    "_cell_guid": "b1076dfc-b9ad-4769-8c92-a6c4dae69d19",
    "_uuid": "8f2839f25d086af736a60e9eeb907d3b93b6e0e5",
    "papermill": {
     "duration": 0.026417,
     "end_time": "2023-10-26T07:29:03.727788",
     "exception": false,
     "start_time": "2023-10-26T07:29:03.701371",
     "status": "completed"
    },
    "tags": []
   },
   "source": [
    "# Data Import, Cleaning and Structuring"
   ]
  },
  {
   "cell_type": "code",
   "execution_count": 3,
   "id": "0de09c01",
   "metadata": {
    "execution": {
     "iopub.execute_input": "2023-10-26T07:29:03.832702Z",
     "iopub.status.busy": "2023-10-26T07:29:03.832247Z",
     "iopub.status.idle": "2023-10-26T07:29:05.957479Z",
     "shell.execute_reply": "2023-10-26T07:29:05.956302Z"
    },
    "papermill": {
     "duration": 2.155579,
     "end_time": "2023-10-26T07:29:05.960772",
     "exception": false,
     "start_time": "2023-10-26T07:29:03.805193",
     "status": "completed"
    },
    "tags": []
   },
   "outputs": [],
   "source": [
    "import warnings\n",
    "import pandas as pd\n",
    "import numpy as np\n",
    "import matplotlib.pyplot as plt\n",
    "import seaborn as sns"
   ]
  },
  {
   "cell_type": "code",
   "execution_count": 4,
   "id": "aa0f74ae",
   "metadata": {
    "execution": {
     "iopub.execute_input": "2023-10-26T07:29:06.014479Z",
     "iopub.status.busy": "2023-10-26T07:29:06.013669Z",
     "iopub.status.idle": "2023-10-26T07:29:24.588565Z",
     "shell.execute_reply": "2023-10-26T07:29:24.587337Z"
    },
    "papermill": {
     "duration": 18.605865,
     "end_time": "2023-10-26T07:29:24.592285",
     "exception": false,
     "start_time": "2023-10-26T07:29:05.986420",
     "status": "completed"
    },
    "tags": []
   },
   "outputs": [],
   "source": [
    "Data = pd.read_csv('Motor_Vehicle_Collisions_-_Crashes.csv', low_memory=False)\n"
   ]
  },
  {
   "cell_type": "markdown",
   "id": "e4ec695f",
   "metadata": {},
   "source": [
    "This code displays the first five rows of the \"Data\" DataFrame. It provides a quick look at the dataset to see what the data looks like at the beginning."
   ]
  },
  {
   "cell_type": "code",
   "execution_count": 5,
   "id": "2f41d1e7",
   "metadata": {},
   "outputs": [
    {
     "data": {
      "text/html": [
       "<div>\n",
       "<style scoped>\n",
       "    .dataframe tbody tr th:only-of-type {\n",
       "        vertical-align: middle;\n",
       "    }\n",
       "\n",
       "    .dataframe tbody tr th {\n",
       "        vertical-align: top;\n",
       "    }\n",
       "\n",
       "    .dataframe thead th {\n",
       "        text-align: right;\n",
       "    }\n",
       "</style>\n",
       "<table border=\"1\" class=\"dataframe\">\n",
       "  <thead>\n",
       "    <tr style=\"text-align: right;\">\n",
       "      <th></th>\n",
       "      <th>CRASH DATE</th>\n",
       "      <th>CRASH TIME</th>\n",
       "      <th>BOROUGH</th>\n",
       "      <th>ZIP CODE</th>\n",
       "      <th>LATITUDE</th>\n",
       "      <th>LONGITUDE</th>\n",
       "      <th>LOCATION</th>\n",
       "      <th>ON STREET NAME</th>\n",
       "      <th>CROSS STREET NAME</th>\n",
       "      <th>OFF STREET NAME</th>\n",
       "      <th>...</th>\n",
       "      <th>CONTRIBUTING FACTOR VEHICLE 2</th>\n",
       "      <th>CONTRIBUTING FACTOR VEHICLE 3</th>\n",
       "      <th>CONTRIBUTING FACTOR VEHICLE 4</th>\n",
       "      <th>CONTRIBUTING FACTOR VEHICLE 5</th>\n",
       "      <th>COLLISION_ID</th>\n",
       "      <th>VEHICLE TYPE CODE 1</th>\n",
       "      <th>VEHICLE TYPE CODE 2</th>\n",
       "      <th>VEHICLE TYPE CODE 3</th>\n",
       "      <th>VEHICLE TYPE CODE 4</th>\n",
       "      <th>VEHICLE TYPE CODE 5</th>\n",
       "    </tr>\n",
       "  </thead>\n",
       "  <tbody>\n",
       "    <tr>\n",
       "      <th>0</th>\n",
       "      <td>09/11/2021</td>\n",
       "      <td>2:39</td>\n",
       "      <td>NaN</td>\n",
       "      <td>NaN</td>\n",
       "      <td>NaN</td>\n",
       "      <td>NaN</td>\n",
       "      <td>NaN</td>\n",
       "      <td>WHITESTONE EXPRESSWAY</td>\n",
       "      <td>20 AVENUE</td>\n",
       "      <td>NaN</td>\n",
       "      <td>...</td>\n",
       "      <td>Unspecified</td>\n",
       "      <td>NaN</td>\n",
       "      <td>NaN</td>\n",
       "      <td>NaN</td>\n",
       "      <td>4455765</td>\n",
       "      <td>Sedan</td>\n",
       "      <td>Sedan</td>\n",
       "      <td>NaN</td>\n",
       "      <td>NaN</td>\n",
       "      <td>NaN</td>\n",
       "    </tr>\n",
       "    <tr>\n",
       "      <th>1</th>\n",
       "      <td>03/26/2022</td>\n",
       "      <td>11:45</td>\n",
       "      <td>NaN</td>\n",
       "      <td>NaN</td>\n",
       "      <td>NaN</td>\n",
       "      <td>NaN</td>\n",
       "      <td>NaN</td>\n",
       "      <td>QUEENSBORO BRIDGE UPPER</td>\n",
       "      <td>NaN</td>\n",
       "      <td>NaN</td>\n",
       "      <td>...</td>\n",
       "      <td>NaN</td>\n",
       "      <td>NaN</td>\n",
       "      <td>NaN</td>\n",
       "      <td>NaN</td>\n",
       "      <td>4513547</td>\n",
       "      <td>Sedan</td>\n",
       "      <td>NaN</td>\n",
       "      <td>NaN</td>\n",
       "      <td>NaN</td>\n",
       "      <td>NaN</td>\n",
       "    </tr>\n",
       "    <tr>\n",
       "      <th>2</th>\n",
       "      <td>06/29/2022</td>\n",
       "      <td>6:55</td>\n",
       "      <td>NaN</td>\n",
       "      <td>NaN</td>\n",
       "      <td>NaN</td>\n",
       "      <td>NaN</td>\n",
       "      <td>NaN</td>\n",
       "      <td>THROGS NECK BRIDGE</td>\n",
       "      <td>NaN</td>\n",
       "      <td>NaN</td>\n",
       "      <td>...</td>\n",
       "      <td>Unspecified</td>\n",
       "      <td>NaN</td>\n",
       "      <td>NaN</td>\n",
       "      <td>NaN</td>\n",
       "      <td>4541903</td>\n",
       "      <td>Sedan</td>\n",
       "      <td>Pick-up Truck</td>\n",
       "      <td>NaN</td>\n",
       "      <td>NaN</td>\n",
       "      <td>NaN</td>\n",
       "    </tr>\n",
       "    <tr>\n",
       "      <th>3</th>\n",
       "      <td>09/11/2021</td>\n",
       "      <td>9:35</td>\n",
       "      <td>BROOKLYN</td>\n",
       "      <td>11208</td>\n",
       "      <td>40.667202</td>\n",
       "      <td>-73.866500</td>\n",
       "      <td>(40.667202, -73.8665)</td>\n",
       "      <td>NaN</td>\n",
       "      <td>NaN</td>\n",
       "      <td>1211      LORING AVENUE</td>\n",
       "      <td>...</td>\n",
       "      <td>NaN</td>\n",
       "      <td>NaN</td>\n",
       "      <td>NaN</td>\n",
       "      <td>NaN</td>\n",
       "      <td>4456314</td>\n",
       "      <td>Sedan</td>\n",
       "      <td>NaN</td>\n",
       "      <td>NaN</td>\n",
       "      <td>NaN</td>\n",
       "      <td>NaN</td>\n",
       "    </tr>\n",
       "    <tr>\n",
       "      <th>4</th>\n",
       "      <td>12/14/2021</td>\n",
       "      <td>8:13</td>\n",
       "      <td>BROOKLYN</td>\n",
       "      <td>11233</td>\n",
       "      <td>40.683304</td>\n",
       "      <td>-73.917274</td>\n",
       "      <td>(40.683304, -73.917274)</td>\n",
       "      <td>SARATOGA AVENUE</td>\n",
       "      <td>DECATUR STREET</td>\n",
       "      <td>NaN</td>\n",
       "      <td>...</td>\n",
       "      <td>NaN</td>\n",
       "      <td>NaN</td>\n",
       "      <td>NaN</td>\n",
       "      <td>NaN</td>\n",
       "      <td>4486609</td>\n",
       "      <td>NaN</td>\n",
       "      <td>NaN</td>\n",
       "      <td>NaN</td>\n",
       "      <td>NaN</td>\n",
       "      <td>NaN</td>\n",
       "    </tr>\n",
       "  </tbody>\n",
       "</table>\n",
       "<p>5 rows × 29 columns</p>\n",
       "</div>"
      ],
      "text/plain": [
       "   CRASH DATE CRASH TIME   BOROUGH ZIP CODE   LATITUDE  LONGITUDE  \\\n",
       "0  09/11/2021       2:39       NaN      NaN        NaN        NaN   \n",
       "1  03/26/2022      11:45       NaN      NaN        NaN        NaN   \n",
       "2  06/29/2022       6:55       NaN      NaN        NaN        NaN   \n",
       "3  09/11/2021       9:35  BROOKLYN    11208  40.667202 -73.866500   \n",
       "4  12/14/2021       8:13  BROOKLYN    11233  40.683304 -73.917274   \n",
       "\n",
       "                  LOCATION           ON STREET NAME CROSS STREET NAME  \\\n",
       "0                      NaN    WHITESTONE EXPRESSWAY         20 AVENUE   \n",
       "1                      NaN  QUEENSBORO BRIDGE UPPER               NaN   \n",
       "2                      NaN       THROGS NECK BRIDGE               NaN   \n",
       "3    (40.667202, -73.8665)                      NaN               NaN   \n",
       "4  (40.683304, -73.917274)          SARATOGA AVENUE    DECATUR STREET   \n",
       "\n",
       "           OFF STREET NAME  ...  CONTRIBUTING FACTOR VEHICLE 2  \\\n",
       "0                      NaN  ...                    Unspecified   \n",
       "1                      NaN  ...                            NaN   \n",
       "2                      NaN  ...                    Unspecified   \n",
       "3  1211      LORING AVENUE  ...                            NaN   \n",
       "4                      NaN  ...                            NaN   \n",
       "\n",
       "   CONTRIBUTING FACTOR VEHICLE 3  CONTRIBUTING FACTOR VEHICLE 4  \\\n",
       "0                            NaN                            NaN   \n",
       "1                            NaN                            NaN   \n",
       "2                            NaN                            NaN   \n",
       "3                            NaN                            NaN   \n",
       "4                            NaN                            NaN   \n",
       "\n",
       "   CONTRIBUTING FACTOR VEHICLE 5  COLLISION_ID  VEHICLE TYPE CODE 1  \\\n",
       "0                            NaN       4455765                Sedan   \n",
       "1                            NaN       4513547                Sedan   \n",
       "2                            NaN       4541903                Sedan   \n",
       "3                            NaN       4456314                Sedan   \n",
       "4                            NaN       4486609                  NaN   \n",
       "\n",
       "   VEHICLE TYPE CODE 2  VEHICLE TYPE CODE 3 VEHICLE TYPE CODE 4  \\\n",
       "0                Sedan                  NaN                 NaN   \n",
       "1                  NaN                  NaN                 NaN   \n",
       "2        Pick-up Truck                  NaN                 NaN   \n",
       "3                  NaN                  NaN                 NaN   \n",
       "4                  NaN                  NaN                 NaN   \n",
       "\n",
       "  VEHICLE TYPE CODE 5  \n",
       "0                 NaN  \n",
       "1                 NaN  \n",
       "2                 NaN  \n",
       "3                 NaN  \n",
       "4                 NaN  \n",
       "\n",
       "[5 rows x 29 columns]"
      ]
     },
     "execution_count": 5,
     "metadata": {},
     "output_type": "execute_result"
    }
   ],
   "source": [
    "Data.head()"
   ]
  },
  {
   "cell_type": "markdown",
   "id": "823197e6",
   "metadata": {},
   "source": [
    "This displays the last five rows of the \"Data\" DataFrame, showing the data's end."
   ]
  },
  {
   "cell_type": "code",
   "execution_count": 6,
   "id": "bf71df20",
   "metadata": {},
   "outputs": [
    {
     "data": {
      "text/html": [
       "<div>\n",
       "<style scoped>\n",
       "    .dataframe tbody tr th:only-of-type {\n",
       "        vertical-align: middle;\n",
       "    }\n",
       "\n",
       "    .dataframe tbody tr th {\n",
       "        vertical-align: top;\n",
       "    }\n",
       "\n",
       "    .dataframe thead th {\n",
       "        text-align: right;\n",
       "    }\n",
       "</style>\n",
       "<table border=\"1\" class=\"dataframe\">\n",
       "  <thead>\n",
       "    <tr style=\"text-align: right;\">\n",
       "      <th></th>\n",
       "      <th>CRASH DATE</th>\n",
       "      <th>CRASH TIME</th>\n",
       "      <th>BOROUGH</th>\n",
       "      <th>ZIP CODE</th>\n",
       "      <th>LATITUDE</th>\n",
       "      <th>LONGITUDE</th>\n",
       "      <th>LOCATION</th>\n",
       "      <th>ON STREET NAME</th>\n",
       "      <th>CROSS STREET NAME</th>\n",
       "      <th>OFF STREET NAME</th>\n",
       "      <th>...</th>\n",
       "      <th>CONTRIBUTING FACTOR VEHICLE 2</th>\n",
       "      <th>CONTRIBUTING FACTOR VEHICLE 3</th>\n",
       "      <th>CONTRIBUTING FACTOR VEHICLE 4</th>\n",
       "      <th>CONTRIBUTING FACTOR VEHICLE 5</th>\n",
       "      <th>COLLISION_ID</th>\n",
       "      <th>VEHICLE TYPE CODE 1</th>\n",
       "      <th>VEHICLE TYPE CODE 2</th>\n",
       "      <th>VEHICLE TYPE CODE 3</th>\n",
       "      <th>VEHICLE TYPE CODE 4</th>\n",
       "      <th>VEHICLE TYPE CODE 5</th>\n",
       "    </tr>\n",
       "  </thead>\n",
       "  <tbody>\n",
       "    <tr>\n",
       "      <th>2010521</th>\n",
       "      <td>07/18/2023</td>\n",
       "      <td>9:45</td>\n",
       "      <td>NaN</td>\n",
       "      <td>NaN</td>\n",
       "      <td>40.735237</td>\n",
       "      <td>-73.89602</td>\n",
       "      <td>(40.735237, -73.89602)</td>\n",
       "      <td>69 STREET</td>\n",
       "      <td>NaN</td>\n",
       "      <td>NaN</td>\n",
       "      <td>...</td>\n",
       "      <td>Unspecified</td>\n",
       "      <td>NaN</td>\n",
       "      <td>NaN</td>\n",
       "      <td>NaN</td>\n",
       "      <td>4646797</td>\n",
       "      <td>Station Wagon/Sport Utility Vehicle</td>\n",
       "      <td>Motorscooter</td>\n",
       "      <td>NaN</td>\n",
       "      <td>NaN</td>\n",
       "      <td>NaN</td>\n",
       "    </tr>\n",
       "    <tr>\n",
       "      <th>2010522</th>\n",
       "      <td>07/16/2023</td>\n",
       "      <td>14:40</td>\n",
       "      <td>STATEN ISLAND</td>\n",
       "      <td>10305</td>\n",
       "      <td>40.596848</td>\n",
       "      <td>-74.06206</td>\n",
       "      <td>(40.596848, -74.06206)</td>\n",
       "      <td>LILY POND AVENUE</td>\n",
       "      <td>GUILFORD STREET</td>\n",
       "      <td>NaN</td>\n",
       "      <td>...</td>\n",
       "      <td>Obstruction/Debris</td>\n",
       "      <td>NaN</td>\n",
       "      <td>NaN</td>\n",
       "      <td>NaN</td>\n",
       "      <td>4647160</td>\n",
       "      <td>Sedan</td>\n",
       "      <td>Sedan</td>\n",
       "      <td>NaN</td>\n",
       "      <td>NaN</td>\n",
       "      <td>NaN</td>\n",
       "    </tr>\n",
       "    <tr>\n",
       "      <th>2010523</th>\n",
       "      <td>07/16/2023</td>\n",
       "      <td>21:29</td>\n",
       "      <td>STATEN ISLAND</td>\n",
       "      <td>10306</td>\n",
       "      <td>40.585922</td>\n",
       "      <td>-74.10526</td>\n",
       "      <td>(40.585922, -74.10526)</td>\n",
       "      <td>RICHMOND ROAD</td>\n",
       "      <td>JEFFERSON AVENUE</td>\n",
       "      <td>NaN</td>\n",
       "      <td>...</td>\n",
       "      <td>Unspecified</td>\n",
       "      <td>NaN</td>\n",
       "      <td>NaN</td>\n",
       "      <td>NaN</td>\n",
       "      <td>4647168</td>\n",
       "      <td>Station Wagon/Sport Utility Vehicle</td>\n",
       "      <td>Station Wagon/Sport Utility Vehicle</td>\n",
       "      <td>NaN</td>\n",
       "      <td>NaN</td>\n",
       "      <td>NaN</td>\n",
       "    </tr>\n",
       "    <tr>\n",
       "      <th>2010524</th>\n",
       "      <td>07/14/2023</td>\n",
       "      <td>15:20</td>\n",
       "      <td>BROOKLYN</td>\n",
       "      <td>11203</td>\n",
       "      <td>40.641125</td>\n",
       "      <td>-73.94563</td>\n",
       "      <td>(40.641125, -73.94563)</td>\n",
       "      <td>NEW YORK AVENUE</td>\n",
       "      <td>AVENUE D</td>\n",
       "      <td>NaN</td>\n",
       "      <td>...</td>\n",
       "      <td>Unspecified</td>\n",
       "      <td>NaN</td>\n",
       "      <td>NaN</td>\n",
       "      <td>NaN</td>\n",
       "      <td>4647183</td>\n",
       "      <td>Van</td>\n",
       "      <td>Taxi</td>\n",
       "      <td>NaN</td>\n",
       "      <td>NaN</td>\n",
       "      <td>NaN</td>\n",
       "    </tr>\n",
       "    <tr>\n",
       "      <th>2010525</th>\n",
       "      <td>07/18/2023</td>\n",
       "      <td>9:56</td>\n",
       "      <td>QUEENS</td>\n",
       "      <td>11426</td>\n",
       "      <td>40.724335</td>\n",
       "      <td>-73.72464</td>\n",
       "      <td>(40.724335, -73.72464)</td>\n",
       "      <td>CROSS ISLAND PARKWAY</td>\n",
       "      <td>JAMAICA AVENUE</td>\n",
       "      <td>NaN</td>\n",
       "      <td>...</td>\n",
       "      <td>Unspecified</td>\n",
       "      <td>NaN</td>\n",
       "      <td>NaN</td>\n",
       "      <td>NaN</td>\n",
       "      <td>4646828</td>\n",
       "      <td>Station Wagon/Sport Utility Vehicle</td>\n",
       "      <td>Station Wagon/Sport Utility Vehicle</td>\n",
       "      <td>NaN</td>\n",
       "      <td>NaN</td>\n",
       "      <td>NaN</td>\n",
       "    </tr>\n",
       "  </tbody>\n",
       "</table>\n",
       "<p>5 rows × 29 columns</p>\n",
       "</div>"
      ],
      "text/plain": [
       "         CRASH DATE CRASH TIME        BOROUGH ZIP CODE   LATITUDE  LONGITUDE  \\\n",
       "2010521  07/18/2023       9:45            NaN      NaN  40.735237  -73.89602   \n",
       "2010522  07/16/2023      14:40  STATEN ISLAND    10305  40.596848  -74.06206   \n",
       "2010523  07/16/2023      21:29  STATEN ISLAND    10306  40.585922  -74.10526   \n",
       "2010524  07/14/2023      15:20       BROOKLYN    11203  40.641125  -73.94563   \n",
       "2010525  07/18/2023       9:56         QUEENS    11426  40.724335  -73.72464   \n",
       "\n",
       "                       LOCATION        ON STREET NAME CROSS STREET NAME  \\\n",
       "2010521  (40.735237, -73.89602)             69 STREET               NaN   \n",
       "2010522  (40.596848, -74.06206)      LILY POND AVENUE   GUILFORD STREET   \n",
       "2010523  (40.585922, -74.10526)         RICHMOND ROAD  JEFFERSON AVENUE   \n",
       "2010524  (40.641125, -73.94563)       NEW YORK AVENUE          AVENUE D   \n",
       "2010525  (40.724335, -73.72464)  CROSS ISLAND PARKWAY    JAMAICA AVENUE   \n",
       "\n",
       "        OFF STREET NAME  ...  CONTRIBUTING FACTOR VEHICLE 2  \\\n",
       "2010521             NaN  ...                    Unspecified   \n",
       "2010522             NaN  ...             Obstruction/Debris   \n",
       "2010523             NaN  ...                    Unspecified   \n",
       "2010524             NaN  ...                    Unspecified   \n",
       "2010525             NaN  ...                    Unspecified   \n",
       "\n",
       "         CONTRIBUTING FACTOR VEHICLE 3  CONTRIBUTING FACTOR VEHICLE 4  \\\n",
       "2010521                            NaN                            NaN   \n",
       "2010522                            NaN                            NaN   \n",
       "2010523                            NaN                            NaN   \n",
       "2010524                            NaN                            NaN   \n",
       "2010525                            NaN                            NaN   \n",
       "\n",
       "         CONTRIBUTING FACTOR VEHICLE 5  COLLISION_ID  \\\n",
       "2010521                            NaN       4646797   \n",
       "2010522                            NaN       4647160   \n",
       "2010523                            NaN       4647168   \n",
       "2010524                            NaN       4647183   \n",
       "2010525                            NaN       4646828   \n",
       "\n",
       "                         VEHICLE TYPE CODE 1  \\\n",
       "2010521  Station Wagon/Sport Utility Vehicle   \n",
       "2010522                                Sedan   \n",
       "2010523  Station Wagon/Sport Utility Vehicle   \n",
       "2010524                                  Van   \n",
       "2010525  Station Wagon/Sport Utility Vehicle   \n",
       "\n",
       "                         VEHICLE TYPE CODE 2  VEHICLE TYPE CODE 3  \\\n",
       "2010521                         Motorscooter                  NaN   \n",
       "2010522                                Sedan                  NaN   \n",
       "2010523  Station Wagon/Sport Utility Vehicle                  NaN   \n",
       "2010524                                 Taxi                  NaN   \n",
       "2010525  Station Wagon/Sport Utility Vehicle                  NaN   \n",
       "\n",
       "        VEHICLE TYPE CODE 4 VEHICLE TYPE CODE 5  \n",
       "2010521                 NaN                 NaN  \n",
       "2010522                 NaN                 NaN  \n",
       "2010523                 NaN                 NaN  \n",
       "2010524                 NaN                 NaN  \n",
       "2010525                 NaN                 NaN  \n",
       "\n",
       "[5 rows x 29 columns]"
      ]
     },
     "execution_count": 6,
     "metadata": {},
     "output_type": "execute_result"
    }
   ],
   "source": [
    "Data.tail()"
   ]
  },
  {
   "cell_type": "code",
   "execution_count": 7,
   "id": "1c970238",
   "metadata": {
    "execution": {
     "iopub.execute_input": "2023-10-26T07:29:24.648642Z",
     "iopub.status.busy": "2023-10-26T07:29:24.647823Z",
     "iopub.status.idle": "2023-10-26T07:29:24.678295Z",
     "shell.execute_reply": "2023-10-26T07:29:24.677176Z"
    },
    "papermill": {
     "duration": 0.061244,
     "end_time": "2023-10-26T07:29:24.681310",
     "exception": false,
     "start_time": "2023-10-26T07:29:24.620066",
     "status": "completed"
    },
    "tags": []
   },
   "outputs": [
    {
     "name": "stdout",
     "output_type": "stream",
     "text": [
      "<class 'pandas.core.frame.DataFrame'>\n",
      "RangeIndex: 2010526 entries, 0 to 2010525\n",
      "Data columns (total 29 columns):\n",
      " #   Column                         Dtype  \n",
      "---  ------                         -----  \n",
      " 0   CRASH DATE                     object \n",
      " 1   CRASH TIME                     object \n",
      " 2   BOROUGH                        object \n",
      " 3   ZIP CODE                       object \n",
      " 4   LATITUDE                       float64\n",
      " 5   LONGITUDE                      float64\n",
      " 6   LOCATION                       object \n",
      " 7   ON STREET NAME                 object \n",
      " 8   CROSS STREET NAME              object \n",
      " 9   OFF STREET NAME                object \n",
      " 10  NUMBER OF PERSONS INJURED      float64\n",
      " 11  NUMBER OF PERSONS KILLED       float64\n",
      " 12  NUMBER OF PEDESTRIANS INJURED  int64  \n",
      " 13  NUMBER OF PEDESTRIANS KILLED   int64  \n",
      " 14  NUMBER OF CYCLIST INJURED      int64  \n",
      " 15  NUMBER OF CYCLIST KILLED       int64  \n",
      " 16  NUMBER OF MOTORIST INJURED     int64  \n",
      " 17  NUMBER OF MOTORIST KILLED      int64  \n",
      " 18  CONTRIBUTING FACTOR VEHICLE 1  object \n",
      " 19  CONTRIBUTING FACTOR VEHICLE 2  object \n",
      " 20  CONTRIBUTING FACTOR VEHICLE 3  object \n",
      " 21  CONTRIBUTING FACTOR VEHICLE 4  object \n",
      " 22  CONTRIBUTING FACTOR VEHICLE 5  object \n",
      " 23  COLLISION_ID                   int64  \n",
      " 24  VEHICLE TYPE CODE 1            object \n",
      " 25  VEHICLE TYPE CODE 2            object \n",
      " 26  VEHICLE TYPE CODE 3            object \n",
      " 27  VEHICLE TYPE CODE 4            object \n",
      " 28  VEHICLE TYPE CODE 5            object \n",
      "dtypes: float64(4), int64(7), object(18)\n",
      "memory usage: 444.8+ MB\n"
     ]
    }
   ],
   "source": [
    "Data.info()"
   ]
  },
  {
   "cell_type": "markdown",
   "id": "c991162c",
   "metadata": {
    "papermill": {
     "duration": 0.118651,
     "end_time": "2023-10-26T07:29:24.826436",
     "exception": false,
     "start_time": "2023-10-26T07:29:24.707785",
     "status": "completed"
    },
    "tags": []
   },
   "source": [
    "Put the date and time coloumn together and then convert to datetime format"
   ]
  },
  {
   "cell_type": "code",
   "execution_count": 8,
   "id": "c1ec8995",
   "metadata": {
    "execution": {
     "iopub.execute_input": "2023-10-26T07:29:24.880995Z",
     "iopub.status.busy": "2023-10-26T07:29:24.880589Z",
     "iopub.status.idle": "2023-10-26T07:29:25.531492Z",
     "shell.execute_reply": "2023-10-26T07:29:25.530653Z"
    },
    "papermill": {
     "duration": 0.681638,
     "end_time": "2023-10-26T07:29:25.534589",
     "exception": false,
     "start_time": "2023-10-26T07:29:24.852951",
     "status": "completed"
    },
    "tags": []
   },
   "outputs": [],
   "source": [
    "Data[\"CRASH DATE\"] = Data[\"CRASH DATE\"] + \" \" + Data[\"CRASH TIME\"]"
   ]
  },
  {
   "cell_type": "code",
   "execution_count": 9,
   "id": "b9511f74",
   "metadata": {
    "execution": {
     "iopub.execute_input": "2023-10-26T07:29:25.589861Z",
     "iopub.status.busy": "2023-10-26T07:29:25.589119Z",
     "iopub.status.idle": "2023-10-26T07:29:37.477272Z",
     "shell.execute_reply": "2023-10-26T07:29:37.476169Z"
    },
    "papermill": {
     "duration": 11.919111,
     "end_time": "2023-10-26T07:29:37.480358",
     "exception": false,
     "start_time": "2023-10-26T07:29:25.561247",
     "status": "completed"
    },
    "tags": []
   },
   "outputs": [],
   "source": [
    "# Converting the 'CRASH DATE' column to datetime format for standardized date representation\n",
    "Data[\"CRASH DATE\"] = pd.to_datetime(Data[\"CRASH DATE\"])"
   ]
  },
  {
   "cell_type": "code",
   "execution_count": 10,
   "id": "3f3328eb",
   "metadata": {
    "execution": {
     "iopub.execute_input": "2023-10-26T07:29:37.536249Z",
     "iopub.status.busy": "2023-10-26T07:29:37.535604Z",
     "iopub.status.idle": "2023-10-26T07:29:37.544131Z",
     "shell.execute_reply": "2023-10-26T07:29:37.542779Z"
    },
    "papermill": {
     "duration": 0.038592,
     "end_time": "2023-10-26T07:29:37.546679",
     "exception": false,
     "start_time": "2023-10-26T07:29:37.508087",
     "status": "completed"
    },
    "tags": []
   },
   "outputs": [
    {
     "data": {
      "text/plain": [
       "(2010526, 29)"
      ]
     },
     "execution_count": 10,
     "metadata": {},
     "output_type": "execute_result"
    }
   ],
   "source": [
    "Data.shape"
   ]
  },
  {
   "cell_type": "markdown",
   "id": "b44a0504",
   "metadata": {
    "papermill": {
     "duration": 0.026959,
     "end_time": "2023-10-26T07:29:37.600307",
     "exception": false,
     "start_time": "2023-10-26T07:29:37.573348",
     "status": "completed"
    },
    "tags": []
   },
   "source": [
    "Create four more columns from the data coloumn\n",
    "* Crash year\n",
    "* Crash month will have the month relating to the crash in numeric format.\n",
    "* Crash month name will be the name of the month.\n",
    "* Crash hour in 24hr format"
   ]
  },
  {
   "cell_type": "code",
   "execution_count": 12,
   "id": "b43f0ca2",
   "metadata": {
    "execution": {
     "iopub.execute_input": "2023-10-26T07:29:37.657414Z",
     "iopub.status.busy": "2023-10-26T07:29:37.657017Z",
     "iopub.status.idle": "2023-10-26T07:30:11.775177Z",
     "shell.execute_reply": "2023-10-26T07:30:11.773956Z"
    },
    "papermill": {
     "duration": 34.15033,
     "end_time": "2023-10-26T07:30:11.778386",
     "exception": false,
     "start_time": "2023-10-26T07:29:37.628056",
     "status": "completed"
    },
    "tags": []
   },
   "outputs": [],
   "source": [
    "Data[\"CRASH YEAR\"] = Data[\"CRASH DATE\"].dt.year\n",
    "Data[\"CRASH MONTH\"] = Data[\"CRASH DATE\"].dt.month\n",
    "\n",
    "# Extracts the abbreviated name of the month from the 'CRASH DATE' column and creates a new column 'CRASH MONTH NAME' to store the month's name in abbreviated form (e.g., Jan, Feb, etc.).\n",
    "Data[\"CRASH MONTH NAME\"] = Data[\"CRASH DATE\"].dt.strftime('%b')\n",
    "\n",
    "Data[\"CRASH HOUR\"] = Data[\"CRASH DATE\"].dt.hour\n",
    "\n",
    "# Extracts the abbreviated name of the day of the week from the 'CRASH DATE' column and creates a new column 'CRASH WEEK' to store the day of the week's name in abbreviated form (e.g., Mon, Tue, etc.).\n",
    "Data[\"CRASH WEEK\"] = Data[\"CRASH DATE\"].dt.strftime('%a')"
   ]
  },
  {
   "cell_type": "markdown",
   "id": "900d453d",
   "metadata": {
    "papermill": {
     "duration": 0.026557,
     "end_time": "2023-10-26T07:30:11.832161",
     "exception": false,
     "start_time": "2023-10-26T07:30:11.805604",
     "status": "completed"
    },
    "tags": []
   },
   "source": [
    "Later on during the analysis, some of the vehicle types have thier names in different cases(upper and lower) in Vehicle Type Code 1 column. To avoid getting back data preparation once the analysis has started.\n",
    "* **SPORT UTILITY / STATION WAGON** and **Station Wagon/Sport Utility Vehicle** are treated and different categories.\n",
    "* The same is observed in the instances of **PICK-UP TRUCK** vs **Pick-up Truck** and **TAXI** vs **Taxi**"
   ]
  },
  {
   "cell_type": "code",
   "execution_count": 13,
   "id": "f9efdcbe",
   "metadata": {
    "execution": {
     "iopub.execute_input": "2023-10-26T07:30:11.891686Z",
     "iopub.status.busy": "2023-10-26T07:30:11.890248Z",
     "iopub.status.idle": "2023-10-26T07:30:12.670539Z",
     "shell.execute_reply": "2023-10-26T07:30:12.669234Z"
    },
    "papermill": {
     "duration": 0.8136,
     "end_time": "2023-10-26T07:30:12.673818",
     "exception": false,
     "start_time": "2023-10-26T07:30:11.860218",
     "status": "completed"
    },
    "tags": []
   },
   "outputs": [],
   "source": [
    "Data[\"VEHICLE TYPE CODE 1\"] = Data[\"VEHICLE TYPE CODE 1\"].replace([\"SPORT UTILITY / STATION WAGON\"], \"Station Wagon/Sport Utility Vehicle\")"
   ]
  },
  {
   "cell_type": "code",
   "execution_count": 14,
   "id": "8f8030dc",
   "metadata": {
    "execution": {
     "iopub.execute_input": "2023-10-26T07:30:12.729242Z",
     "iopub.status.busy": "2023-10-26T07:30:12.728818Z",
     "iopub.status.idle": "2023-10-26T07:30:13.490490Z",
     "shell.execute_reply": "2023-10-26T07:30:13.489312Z"
    },
    "papermill": {
     "duration": 0.793274,
     "end_time": "2023-10-26T07:30:13.493923",
     "exception": false,
     "start_time": "2023-10-26T07:30:12.700649",
     "status": "completed"
    },
    "tags": []
   },
   "outputs": [],
   "source": [
    "Data['VEHICLE TYPE CODE 1'] = Data['VEHICLE TYPE CODE 1'].replace([\"PICK-UP TRUCK\"], \"Pick-up Truck\")"
   ]
  },
  {
   "cell_type": "code",
   "execution_count": 15,
   "id": "f3914985",
   "metadata": {
    "execution": {
     "iopub.execute_input": "2023-10-26T07:30:13.552866Z",
     "iopub.status.busy": "2023-10-26T07:30:13.552082Z",
     "iopub.status.idle": "2023-10-26T07:30:14.318229Z",
     "shell.execute_reply": "2023-10-26T07:30:14.316996Z"
    },
    "papermill": {
     "duration": 0.799772,
     "end_time": "2023-10-26T07:30:14.321469",
     "exception": false,
     "start_time": "2023-10-26T07:30:13.521697",
     "status": "completed"
    },
    "tags": []
   },
   "outputs": [],
   "source": [
    "Data['VEHICLE TYPE CODE 1'] = Data['VEHICLE TYPE CODE 1'].replace([\"TAXI\"], \"Taxi\")"
   ]
  },
  {
   "cell_type": "markdown",
   "id": "06a7bd63",
   "metadata": {
    "papermill": {
     "duration": 0.027872,
     "end_time": "2023-10-26T07:30:14.377035",
     "exception": false,
     "start_time": "2023-10-26T07:30:14.349163",
     "status": "completed"
    },
    "tags": []
   },
   "source": [
    "Put **4 dr sedan** in the **Sedan** category"
   ]
  },
  {
   "cell_type": "code",
   "execution_count": 16,
   "id": "2df425e3",
   "metadata": {
    "execution": {
     "iopub.execute_input": "2023-10-26T07:30:14.434038Z",
     "iopub.status.busy": "2023-10-26T07:30:14.433630Z",
     "iopub.status.idle": "2023-10-26T07:30:15.157416Z",
     "shell.execute_reply": "2023-10-26T07:30:15.156195Z"
    },
    "papermill": {
     "duration": 0.755966,
     "end_time": "2023-10-26T07:30:15.160739",
     "exception": false,
     "start_time": "2023-10-26T07:30:14.404773",
     "status": "completed"
    },
    "tags": []
   },
   "outputs": [],
   "source": [
    "Data['VEHICLE TYPE CODE 1'] = Data['VEHICLE TYPE CODE 1'].replace([\"4 dr sedan\"], \"Sedan\")"
   ]
  },
  {
   "cell_type": "markdown",
   "id": "3217e2ba",
   "metadata": {
    "papermill": {
     "duration": 0.026466,
     "end_time": "2023-10-26T07:30:15.214498",
     "exception": false,
     "start_time": "2023-10-26T07:30:15.188032",
     "status": "completed"
    },
    "tags": []
   },
   "source": [
    "Create a Crash Season column, to check the road accidents during different seasons"
   ]
  },
  {
   "cell_type": "code",
   "execution_count": 17,
   "id": "4650dc21",
   "metadata": {
    "execution": {
     "iopub.execute_input": "2023-10-26T07:30:15.271027Z",
     "iopub.status.busy": "2023-10-26T07:30:15.270624Z",
     "iopub.status.idle": "2023-10-26T07:30:16.148972Z",
     "shell.execute_reply": "2023-10-26T07:30:16.147756Z"
    },
    "papermill": {
     "duration": 0.910657,
     "end_time": "2023-10-26T07:30:16.152332",
     "exception": false,
     "start_time": "2023-10-26T07:30:15.241675",
     "status": "completed"
    },
    "tags": []
   },
   "outputs": [],
   "source": [
    "def get_season(month):\n",
    "    if 3 <= month <= 5:\n",
    "        return \"Spring\"\n",
    "    elif 6 <= month <= 8:\n",
    "        return \"Summer\"\n",
    "    elif 9 <= month <= 11:\n",
    "        return \"Autumn\"\n",
    "    else:\n",
    "        return \"Winter\"\n",
    "\n",
    "Data[\"CRASH SEASON\"] = Data['CRASH MONTH'].apply(get_season)"
   ]
  },
  {
   "cell_type": "code",
   "execution_count": 18,
   "id": "dd667c45",
   "metadata": {
    "execution": {
     "iopub.execute_input": "2023-10-26T07:30:16.209094Z",
     "iopub.status.busy": "2023-10-26T07:30:16.208683Z",
     "iopub.status.idle": "2023-10-26T07:30:16.215358Z",
     "shell.execute_reply": "2023-10-26T07:30:16.214212Z"
    },
    "papermill": {
     "duration": 0.038186,
     "end_time": "2023-10-26T07:30:16.218420",
     "exception": false,
     "start_time": "2023-10-26T07:30:16.180234",
     "status": "completed"
    },
    "tags": []
   },
   "outputs": [
    {
     "data": {
      "text/plain": [
       "(2010526, 35)"
      ]
     },
     "execution_count": 18,
     "metadata": {},
     "output_type": "execute_result"
    }
   ],
   "source": [
    "Data.shape"
   ]
  },
  {
   "cell_type": "code",
   "execution_count": 19,
   "id": "3e2f94c7",
   "metadata": {
    "execution": {
     "iopub.execute_input": "2023-10-26T07:30:16.274586Z",
     "iopub.status.busy": "2023-10-26T07:30:16.274178Z",
     "iopub.status.idle": "2023-10-26T07:30:19.600029Z",
     "shell.execute_reply": "2023-10-26T07:30:19.599085Z"
    },
    "papermill": {
     "duration": 3.357464,
     "end_time": "2023-10-26T07:30:19.602383",
     "exception": false,
     "start_time": "2023-10-26T07:30:16.244919",
     "status": "completed"
    },
    "tags": []
   },
   "outputs": [
    {
     "data": {
      "text/plain": [
       "CRASH DATE                             0\n",
       "CRASH TIME                             0\n",
       "BOROUGH                           625474\n",
       "ZIP CODE                          625712\n",
       "LATITUDE                          229136\n",
       "LONGITUDE                         229136\n",
       "LOCATION                          229136\n",
       "ON STREET NAME                    422563\n",
       "CROSS STREET NAME                 751506\n",
       "OFF STREET NAME                  1680334\n",
       "NUMBER OF PERSONS INJURED             18\n",
       "NUMBER OF PERSONS KILLED              31\n",
       "NUMBER OF PEDESTRIANS INJURED          0\n",
       "NUMBER OF PEDESTRIANS KILLED           0\n",
       "NUMBER OF CYCLIST INJURED              0\n",
       "NUMBER OF CYCLIST KILLED               0\n",
       "NUMBER OF MOTORIST INJURED             0\n",
       "NUMBER OF MOTORIST KILLED              0\n",
       "CONTRIBUTING FACTOR VEHICLE 1       6302\n",
       "CONTRIBUTING FACTOR VEHICLE 2     306220\n",
       "CONTRIBUTING FACTOR VEHICLE 3    1868130\n",
       "CONTRIBUTING FACTOR VEHICLE 4    1978597\n",
       "CONTRIBUTING FACTOR VEHICLE 5    2001908\n",
       "COLLISION_ID                           0\n",
       "VEHICLE TYPE CODE 1                12571\n",
       "VEHICLE TYPE CODE 2               374513\n",
       "VEHICLE TYPE CODE 3              1873067\n",
       "VEHICLE TYPE CODE 4              1979663\n",
       "VEHICLE TYPE CODE 5              2002163\n",
       "CRASH YEAR                             0\n",
       "CRASH MONTH                            0\n",
       "CRASH MONTH NAME                       0\n",
       "CRASH HOUR                             0\n",
       "CRASH WEEK                             0\n",
       "CRASH SEASON                           0\n",
       "dtype: int64"
      ]
     },
     "execution_count": 19,
     "metadata": {},
     "output_type": "execute_result"
    }
   ],
   "source": [
    "# Checks for missing values in 'Data', and .sum() calculates the total missing values per column.\n",
    "Data.isna().sum()"
   ]
  },
  {
   "cell_type": "markdown",
   "id": "6c0df2ba",
   "metadata": {
    "papermill": {
     "duration": 0.026574,
     "end_time": "2023-10-26T07:30:19.656144",
     "exception": false,
     "start_time": "2023-10-26T07:30:19.629570",
     "status": "completed"
    },
    "tags": []
   },
   "source": [
    "There are a number of columns which will not be of help with the analysis, I will get rid of them. Currently, there are a totals of 35 columns, 18 will be of no use that means I will only need 17 of them. \n",
    "For the columns that I will use, there are only a few of them which are missing their values hence the missing values are insignificant and will not affect the analysis"
   ]
  },
  {
   "cell_type": "code",
   "execution_count": 20,
   "id": "63284694",
   "metadata": {
    "execution": {
     "iopub.execute_input": "2023-10-26T07:30:19.714916Z",
     "iopub.status.busy": "2023-10-26T07:30:19.714059Z",
     "iopub.status.idle": "2023-10-26T07:30:19.719774Z",
     "shell.execute_reply": "2023-10-26T07:30:19.718716Z"
    },
    "papermill": {
     "duration": 0.037679,
     "end_time": "2023-10-26T07:30:19.722345",
     "exception": false,
     "start_time": "2023-10-26T07:30:19.684666",
     "status": "completed"
    },
    "tags": []
   },
   "outputs": [],
   "source": [
    "retain = [\"CRASH DATE\", \"CRASH YEAR\", \"CRASH MONTH\", \"CRASH MONTH NAME\", \n",
    "          \"CRASH HOUR\", \"CRASH WEEK\", \"CRASH SEASON\",\"NUMBER OF PERSONS INJURED\", \"NUMBER OF PERSONS KILLED\",\n",
    "        \"NUMBER OF PEDESTRIANS INJURED\", \"NUMBER OF PEDESTRIANS KILLED\", \n",
    "        \"NUMBER OF CYCLIST INJURED\", \"NUMBER OF CYCLIST KILLED\", \n",
    "        \"NUMBER OF MOTORIST INJURED\", \"NUMBER OF MOTORIST KILLED\", \n",
    "        \"CONTRIBUTING FACTOR VEHICLE 1\", \n",
    "        \"VEHICLE TYPE CODE 1\"]"
   ]
  },
  {
   "cell_type": "code",
   "execution_count": 21,
   "id": "5347498a",
   "metadata": {
    "execution": {
     "iopub.execute_input": "2023-10-26T07:30:19.779750Z",
     "iopub.status.busy": "2023-10-26T07:30:19.779309Z",
     "iopub.status.idle": "2023-10-26T07:30:20.127521Z",
     "shell.execute_reply": "2023-10-26T07:30:20.126205Z"
    },
    "papermill": {
     "duration": 0.380373,
     "end_time": "2023-10-26T07:30:20.130638",
     "exception": false,
     "start_time": "2023-10-26T07:30:19.750265",
     "status": "completed"
    },
    "tags": []
   },
   "outputs": [],
   "source": [
    "# Filtered data containing only the collisions to be moved to 'mv_collisions'\n",
    "mv_collisions = Data[retain]"
   ]
  },
  {
   "cell_type": "code",
   "execution_count": 22,
   "id": "dbffdca9",
   "metadata": {
    "execution": {
     "iopub.execute_input": "2023-10-26T07:30:20.188074Z",
     "iopub.status.busy": "2023-10-26T07:30:20.187652Z",
     "iopub.status.idle": "2023-10-26T07:30:20.202932Z",
     "shell.execute_reply": "2023-10-26T07:30:20.201514Z"
    },
    "papermill": {
     "duration": 0.047659,
     "end_time": "2023-10-26T07:30:20.205777",
     "exception": false,
     "start_time": "2023-10-26T07:30:20.158118",
     "status": "completed"
    },
    "tags": []
   },
   "outputs": [
    {
     "name": "stdout",
     "output_type": "stream",
     "text": [
      "<class 'pandas.core.frame.DataFrame'>\n",
      "RangeIndex: 2010526 entries, 0 to 2010525\n",
      "Data columns (total 17 columns):\n",
      " #   Column                         Dtype         \n",
      "---  ------                         -----         \n",
      " 0   CRASH DATE                     datetime64[ns]\n",
      " 1   CRASH YEAR                     int32         \n",
      " 2   CRASH MONTH                    int32         \n",
      " 3   CRASH MONTH NAME               object        \n",
      " 4   CRASH HOUR                     int32         \n",
      " 5   CRASH WEEK                     object        \n",
      " 6   CRASH SEASON                   object        \n",
      " 7   NUMBER OF PERSONS INJURED      float64       \n",
      " 8   NUMBER OF PERSONS KILLED       float64       \n",
      " 9   NUMBER OF PEDESTRIANS INJURED  int64         \n",
      " 10  NUMBER OF PEDESTRIANS KILLED   int64         \n",
      " 11  NUMBER OF CYCLIST INJURED      int64         \n",
      " 12  NUMBER OF CYCLIST KILLED       int64         \n",
      " 13  NUMBER OF MOTORIST INJURED     int64         \n",
      " 14  NUMBER OF MOTORIST KILLED      int64         \n",
      " 15  CONTRIBUTING FACTOR VEHICLE 1  object        \n",
      " 16  VEHICLE TYPE CODE 1            object        \n",
      "dtypes: datetime64[ns](1), float64(2), int32(3), int64(6), object(5)\n",
      "memory usage: 237.8+ MB\n"
     ]
    }
   ],
   "source": [
    "mv_collisions.info()"
   ]
  },
  {
   "cell_type": "code",
   "execution_count": 23,
   "id": "c38b8e38",
   "metadata": {
    "execution": {
     "iopub.execute_input": "2023-10-26T07:30:20.262616Z",
     "iopub.status.busy": "2023-10-26T07:30:20.262222Z",
     "iopub.status.idle": "2023-10-26T07:30:20.269003Z",
     "shell.execute_reply": "2023-10-26T07:30:20.267638Z"
    },
    "papermill": {
     "duration": 0.038432,
     "end_time": "2023-10-26T07:30:20.271714",
     "exception": false,
     "start_time": "2023-10-26T07:30:20.233282",
     "status": "completed"
    },
    "tags": []
   },
   "outputs": [
    {
     "data": {
      "text/plain": [
       "(2010526, 17)"
      ]
     },
     "execution_count": 23,
     "metadata": {},
     "output_type": "execute_result"
    }
   ],
   "source": [
    "mv_collisions.shape"
   ]
  },
  {
   "cell_type": "markdown",
   "id": "e14f8ec3",
   "metadata": {
    "papermill": {
     "duration": 0.02727,
     "end_time": "2023-10-26T07:30:20.326828",
     "exception": false,
     "start_time": "2023-10-26T07:30:20.299558",
     "status": "completed"
    },
    "tags": []
   },
   "source": [
    "This dataset may have some duplicated rows, and for accurate analysis, I will have to get rid of them."
   ]
  },
  {
   "cell_type": "code",
   "execution_count": 24,
   "id": "81f51584",
   "metadata": {
    "execution": {
     "iopub.execute_input": "2023-10-26T07:30:20.384472Z",
     "iopub.status.busy": "2023-10-26T07:30:20.384022Z",
     "iopub.status.idle": "2023-10-26T07:30:23.912257Z",
     "shell.execute_reply": "2023-10-26T07:30:23.910972Z"
    },
    "papermill": {
     "duration": 3.560862,
     "end_time": "2023-10-26T07:30:23.915466",
     "exception": false,
     "start_time": "2023-10-26T07:30:20.354604",
     "status": "completed"
    },
    "tags": []
   },
   "outputs": [],
   "source": [
    "mv_collisions = mv_collisions.drop_duplicates()"
   ]
  },
  {
   "cell_type": "markdown",
   "id": "228a2103",
   "metadata": {
    "papermill": {
     "duration": 0.028078,
     "end_time": "2023-10-26T07:30:23.973284",
     "exception": false,
     "start_time": "2023-10-26T07:30:23.945206",
     "status": "completed"
    },
    "tags": []
   },
   "source": [
    "# Analysis\n",
    "# Road Collisions\n",
    "## Yearly Collisons "
   ]
  },
  {
   "cell_type": "code",
   "execution_count": 25,
   "id": "e188956d",
   "metadata": {
    "execution": {
     "iopub.execute_input": "2023-10-26T07:30:24.030780Z",
     "iopub.status.busy": "2023-10-26T07:30:24.030317Z",
     "iopub.status.idle": "2023-10-26T07:30:24.053716Z",
     "shell.execute_reply": "2023-10-26T07:30:24.052572Z"
    },
    "papermill": {
     "duration": 0.055325,
     "end_time": "2023-10-26T07:30:24.056323",
     "exception": false,
     "start_time": "2023-10-26T07:30:24.000998",
     "status": "completed"
    },
    "tags": []
   },
   "outputs": [
    {
     "data": {
      "text/plain": [
       "CRASH YEAR\n",
       "2018    219914\n",
       "2017    217965\n",
       "2016    217068\n",
       "2015    203209\n",
       "2019    202141\n",
       "2014    189980\n",
       "2013    186408\n",
       "2020    110131\n",
       "2021    108580\n",
       "2022    102323\n",
       "2012     91750\n",
       "2023     50746\n",
       "Name: count, dtype: int64"
      ]
     },
     "execution_count": 25,
     "metadata": {},
     "output_type": "execute_result"
    }
   ],
   "source": [
    "mv_collisions[\"CRASH YEAR\"].value_counts()"
   ]
  },
  {
   "cell_type": "markdown",
   "id": "3ea75fab",
   "metadata": {
    "papermill": {
     "duration": 0.027318,
     "end_time": "2023-10-26T07:30:24.111204",
     "exception": false,
     "start_time": "2023-10-26T07:30:24.083886",
     "status": "completed"
    },
    "tags": []
   },
   "source": [
    "As at the time of this exploratory data analysis, the year 2023 is not yet over hence I will exempt the same from my analysis"
   ]
  },
  {
   "cell_type": "code",
   "execution_count": 26,
   "id": "2091296f",
   "metadata": {
    "execution": {
     "iopub.execute_input": "2023-10-26T07:30:24.167583Z",
     "iopub.status.busy": "2023-10-26T07:30:24.167152Z",
     "iopub.status.idle": "2023-10-26T07:30:24.486440Z",
     "shell.execute_reply": "2023-10-26T07:30:24.485352Z"
    },
    "papermill": {
     "duration": 0.351068,
     "end_time": "2023-10-26T07:30:24.489582",
     "exception": false,
     "start_time": "2023-10-26T07:30:24.138514",
     "status": "completed"
    },
    "tags": []
   },
   "outputs": [],
   "source": [
    "col_12to22 = mv_collisions[mv_collisions[\"CRASH YEAR\"] != 2023]"
   ]
  },
  {
   "cell_type": "code",
   "execution_count": 27,
   "id": "dc564ef3",
   "metadata": {
    "execution": {
     "iopub.execute_input": "2023-10-26T07:30:24.548225Z",
     "iopub.status.busy": "2023-10-26T07:30:24.547799Z",
     "iopub.status.idle": "2023-10-26T07:30:24.571204Z",
     "shell.execute_reply": "2023-10-26T07:30:24.570051Z"
    },
    "papermill": {
     "duration": 0.056319,
     "end_time": "2023-10-26T07:30:24.573797",
     "exception": false,
     "start_time": "2023-10-26T07:30:24.517478",
     "status": "completed"
    },
    "tags": []
   },
   "outputs": [
    {
     "data": {
      "text/plain": [
       "CRASH YEAR\n",
       "2018    219914\n",
       "2017    217965\n",
       "2016    217068\n",
       "2015    203209\n",
       "2019    202141\n",
       "2014    189980\n",
       "2013    186408\n",
       "2020    110131\n",
       "2021    108580\n",
       "2022    102323\n",
       "2012     91750\n",
       "Name: count, dtype: int64"
      ]
     },
     "execution_count": 27,
     "metadata": {},
     "output_type": "execute_result"
    }
   ],
   "source": [
    "col_12to22[\"CRASH YEAR\"].value_counts()"
   ]
  },
  {
   "cell_type": "code",
   "execution_count": 28,
   "id": "443b475f",
   "metadata": {
    "execution": {
     "iopub.execute_input": "2023-10-26T07:30:24.634422Z",
     "iopub.status.busy": "2023-10-26T07:30:24.632835Z",
     "iopub.status.idle": "2023-10-26T07:30:24.663634Z",
     "shell.execute_reply": "2023-10-26T07:30:24.662460Z"
    },
    "papermill": {
     "duration": 0.06417,
     "end_time": "2023-10-26T07:30:24.666536",
     "exception": false,
     "start_time": "2023-10-26T07:30:24.602366",
     "status": "completed"
    },
    "tags": []
   },
   "outputs": [
    {
     "data": {
      "text/html": [
       "<div>\n",
       "<style scoped>\n",
       "    .dataframe tbody tr th:only-of-type {\n",
       "        vertical-align: middle;\n",
       "    }\n",
       "\n",
       "    .dataframe tbody tr th {\n",
       "        vertical-align: top;\n",
       "    }\n",
       "\n",
       "    .dataframe thead th {\n",
       "        text-align: right;\n",
       "    }\n",
       "</style>\n",
       "<table border=\"1\" class=\"dataframe\">\n",
       "  <thead>\n",
       "    <tr style=\"text-align: right;\">\n",
       "      <th></th>\n",
       "      <th>CRASH YEAR</th>\n",
       "      <th>COUNTS</th>\n",
       "    </tr>\n",
       "  </thead>\n",
       "  <tbody>\n",
       "    <tr>\n",
       "      <th>0</th>\n",
       "      <td>2018</td>\n",
       "      <td>219914</td>\n",
       "    </tr>\n",
       "    <tr>\n",
       "      <th>1</th>\n",
       "      <td>2017</td>\n",
       "      <td>217965</td>\n",
       "    </tr>\n",
       "    <tr>\n",
       "      <th>2</th>\n",
       "      <td>2016</td>\n",
       "      <td>217068</td>\n",
       "    </tr>\n",
       "    <tr>\n",
       "      <th>3</th>\n",
       "      <td>2015</td>\n",
       "      <td>203209</td>\n",
       "    </tr>\n",
       "    <tr>\n",
       "      <th>4</th>\n",
       "      <td>2019</td>\n",
       "      <td>202141</td>\n",
       "    </tr>\n",
       "    <tr>\n",
       "      <th>5</th>\n",
       "      <td>2014</td>\n",
       "      <td>189980</td>\n",
       "    </tr>\n",
       "    <tr>\n",
       "      <th>6</th>\n",
       "      <td>2013</td>\n",
       "      <td>186408</td>\n",
       "    </tr>\n",
       "    <tr>\n",
       "      <th>7</th>\n",
       "      <td>2020</td>\n",
       "      <td>110131</td>\n",
       "    </tr>\n",
       "    <tr>\n",
       "      <th>8</th>\n",
       "      <td>2021</td>\n",
       "      <td>108580</td>\n",
       "    </tr>\n",
       "    <tr>\n",
       "      <th>9</th>\n",
       "      <td>2022</td>\n",
       "      <td>102323</td>\n",
       "    </tr>\n",
       "    <tr>\n",
       "      <th>10</th>\n",
       "      <td>2012</td>\n",
       "      <td>91750</td>\n",
       "    </tr>\n",
       "  </tbody>\n",
       "</table>\n",
       "</div>"
      ],
      "text/plain": [
       "    CRASH YEAR  COUNTS\n",
       "0         2018  219914\n",
       "1         2017  217965\n",
       "2         2016  217068\n",
       "3         2015  203209\n",
       "4         2019  202141\n",
       "5         2014  189980\n",
       "6         2013  186408\n",
       "7         2020  110131\n",
       "8         2021  108580\n",
       "9         2022  102323\n",
       "10        2012   91750"
      ]
     },
     "execution_count": 28,
     "metadata": {},
     "output_type": "execute_result"
    }
   ],
   "source": [
    "yearly_col = col_12to22[\"CRASH YEAR\"].value_counts().reset_index()\n",
    "yearly_col.columns = [\"CRASH YEAR\", \"COUNTS\"]\n",
    "yearly_col"
   ]
  },
  {
   "cell_type": "code",
   "execution_count": 29,
   "id": "cfa0b91e",
   "metadata": {
    "execution": {
     "iopub.execute_input": "2023-10-26T07:30:24.723975Z",
     "iopub.status.busy": "2023-10-26T07:30:24.722972Z",
     "iopub.status.idle": "2023-10-26T07:30:25.128273Z",
     "shell.execute_reply": "2023-10-26T07:30:25.126926Z"
    },
    "papermill": {
     "duration": 0.436418,
     "end_time": "2023-10-26T07:30:25.130719",
     "exception": false,
     "start_time": "2023-10-26T07:30:24.694301",
     "status": "completed"
    },
    "tags": []
   },
   "outputs": [
    {
     "data": {
      "image/png": "[encoded data removed]",
      "text/plain": [
       "<Figure size 1200x600 with 1 Axes>"
      ]
     },
     "metadata": {},
     "output_type": "display_data"
    }
   ],
   "source": [
    "palette_x= [\"red\"] \n",
    "palette_y= [\"orange\"]\n",
    "\n",
    "plt.figure(figsize=(12, 6))\n",
    "\n",
    "# Suppressing the warning\n",
    "with warnings.catch_warnings():\n",
    "    warnings.simplefilter(\"ignore\")\n",
    "    sns.barplot(data=yearly_col, x=\"CRASH YEAR\", y=\"COUNTS\", palette=palette_x)\n",
    "    \n",
    "    plt.ylabel(\"Number Of Collisions\", fontweight=\"bold\", fontsize=13)\n",
    "    plt.xlabel(\"Year\", fontweight=\"bold\", fontsize=13)\n",
    "    plt.title(\"Number Of Road Collisions Over The Years: 2012 - 2022\", fontweight=\"bold\", fontsize=13)\n",
    "\n",
    "\n",
    "plt.show()"
   ]
  },
  {
   "cell_type": "markdown",
   "id": "c092f685",
   "metadata": {
    "papermill": {
     "duration": 0.028162,
     "end_time": "2023-10-26T07:30:25.186969",
     "exception": false,
     "start_time": "2023-10-26T07:30:25.158807",
     "status": "completed"
    },
    "tags": []
   },
   "source": [
    "The visualization above is a bar graph containing the number of collisions that happened between the year 2012 till 2022. The number of collisons rose in the period, 2012 till 2016 then stagnated a bit in the next two years."
   ]
  },
  {
   "cell_type": "markdown",
   "id": "b555f0d3",
   "metadata": {
    "papermill": {
     "duration": 0.027729,
     "end_time": "2023-10-26T07:30:25.242467",
     "exception": false,
     "start_time": "2023-10-26T07:30:25.214738",
     "status": "completed"
    },
    "tags": []
   },
   "source": [
    "## Hourly Collisions"
   ]
  },
  {
   "cell_type": "code",
   "execution_count": 30,
   "id": "dfc23529",
   "metadata": {
    "execution": {
     "iopub.execute_input": "2023-10-26T07:30:25.301341Z",
     "iopub.status.busy": "2023-10-26T07:30:25.300552Z",
     "iopub.status.idle": "2023-10-26T07:30:25.364042Z",
     "shell.execute_reply": "2023-10-26T07:30:25.362764Z"
    },
    "papermill": {
     "duration": 0.096309,
     "end_time": "2023-10-26T07:30:25.366620",
     "exception": false,
     "start_time": "2023-10-26T07:30:25.270311",
     "status": "completed"
    },
    "tags": []
   },
   "outputs": [
    {
     "data": {
      "text/html": [
       "<div>\n",
       "<style scoped>\n",
       "    .dataframe tbody tr th:only-of-type {\n",
       "        vertical-align: middle;\n",
       "    }\n",
       "\n",
       "    .dataframe tbody tr th {\n",
       "        vertical-align: top;\n",
       "    }\n",
       "\n",
       "    .dataframe thead th {\n",
       "        text-align: right;\n",
       "    }\n",
       "</style>\n",
       "<table border=\"1\" class=\"dataframe\">\n",
       "  <thead>\n",
       "    <tr style=\"text-align: right;\">\n",
       "      <th></th>\n",
       "      <th>CRASH HOUR</th>\n",
       "      <th>Number Of Collisions</th>\n",
       "    </tr>\n",
       "  </thead>\n",
       "  <tbody>\n",
       "    <tr>\n",
       "      <th>0</th>\n",
       "      <td>0</td>\n",
       "      <td>58519</td>\n",
       "    </tr>\n",
       "    <tr>\n",
       "      <th>1</th>\n",
       "      <td>1</td>\n",
       "      <td>32403</td>\n",
       "    </tr>\n",
       "    <tr>\n",
       "      <th>2</th>\n",
       "      <td>2</td>\n",
       "      <td>24947</td>\n",
       "    </tr>\n",
       "    <tr>\n",
       "      <th>3</th>\n",
       "      <td>3</td>\n",
       "      <td>21789</td>\n",
       "    </tr>\n",
       "    <tr>\n",
       "      <th>4</th>\n",
       "      <td>4</td>\n",
       "      <td>24670</td>\n",
       "    </tr>\n",
       "    <tr>\n",
       "      <th>5</th>\n",
       "      <td>5</td>\n",
       "      <td>26969</td>\n",
       "    </tr>\n",
       "    <tr>\n",
       "      <th>6</th>\n",
       "      <td>6</td>\n",
       "      <td>41959</td>\n",
       "    </tr>\n",
       "    <tr>\n",
       "      <th>7</th>\n",
       "      <td>7</td>\n",
       "      <td>56662</td>\n",
       "    </tr>\n",
       "    <tr>\n",
       "      <th>8</th>\n",
       "      <td>8</td>\n",
       "      <td>100830</td>\n",
       "    </tr>\n",
       "    <tr>\n",
       "      <th>9</th>\n",
       "      <td>9</td>\n",
       "      <td>97992</td>\n",
       "    </tr>\n",
       "    <tr>\n",
       "      <th>10</th>\n",
       "      <td>10</td>\n",
       "      <td>92261</td>\n",
       "    </tr>\n",
       "    <tr>\n",
       "      <th>11</th>\n",
       "      <td>11</td>\n",
       "      <td>96401</td>\n",
       "    </tr>\n",
       "    <tr>\n",
       "      <th>12</th>\n",
       "      <td>12</td>\n",
       "      <td>102156</td>\n",
       "    </tr>\n",
       "    <tr>\n",
       "      <th>13</th>\n",
       "      <td>13</td>\n",
       "      <td>106872</td>\n",
       "    </tr>\n",
       "    <tr>\n",
       "      <th>14</th>\n",
       "      <td>14</td>\n",
       "      <td>122859</td>\n",
       "    </tr>\n",
       "    <tr>\n",
       "      <th>15</th>\n",
       "      <td>15</td>\n",
       "      <td>114781</td>\n",
       "    </tr>\n",
       "    <tr>\n",
       "      <th>16</th>\n",
       "      <td>16</td>\n",
       "      <td>131574</td>\n",
       "    </tr>\n",
       "    <tr>\n",
       "      <th>17</th>\n",
       "      <td>17</td>\n",
       "      <td>128645</td>\n",
       "    </tr>\n",
       "    <tr>\n",
       "      <th>18</th>\n",
       "      <td>18</td>\n",
       "      <td>113503</td>\n",
       "    </tr>\n",
       "    <tr>\n",
       "      <th>19</th>\n",
       "      <td>19</td>\n",
       "      <td>93879</td>\n",
       "    </tr>\n",
       "    <tr>\n",
       "      <th>20</th>\n",
       "      <td>20</td>\n",
       "      <td>79043</td>\n",
       "    </tr>\n",
       "    <tr>\n",
       "      <th>21</th>\n",
       "      <td>21</td>\n",
       "      <td>67392</td>\n",
       "    </tr>\n",
       "    <tr>\n",
       "      <th>22</th>\n",
       "      <td>22</td>\n",
       "      <td>61640</td>\n",
       "    </tr>\n",
       "    <tr>\n",
       "      <th>23</th>\n",
       "      <td>23</td>\n",
       "      <td>51723</td>\n",
       "    </tr>\n",
       "  </tbody>\n",
       "</table>\n",
       "</div>"
      ],
      "text/plain": [
       "    CRASH HOUR  Number Of Collisions\n",
       "0            0                 58519\n",
       "1            1                 32403\n",
       "2            2                 24947\n",
       "3            3                 21789\n",
       "4            4                 24670\n",
       "5            5                 26969\n",
       "6            6                 41959\n",
       "7            7                 56662\n",
       "8            8                100830\n",
       "9            9                 97992\n",
       "10          10                 92261\n",
       "11          11                 96401\n",
       "12          12                102156\n",
       "13          13                106872\n",
       "14          14                122859\n",
       "15          15                114781\n",
       "16          16                131574\n",
       "17          17                128645\n",
       "18          18                113503\n",
       "19          19                 93879\n",
       "20          20                 79043\n",
       "21          21                 67392\n",
       "22          22                 61640\n",
       "23          23                 51723"
      ]
     },
     "execution_count": 30,
     "metadata": {},
     "output_type": "execute_result"
    }
   ],
   "source": [
    "hourly_crash = col_12to22.groupby(\"CRASH HOUR\").size().reset_index(name=\"Number Of Collisions\")\n",
    "hourly_crash"
   ]
  },
  {
   "cell_type": "code",
   "execution_count": 31,
   "id": "ce60185f",
   "metadata": {
    "execution": {
     "iopub.execute_input": "2023-10-26T07:30:25.425734Z",
     "iopub.status.busy": "2023-10-26T07:30:25.425274Z",
     "iopub.status.idle": "2023-10-26T07:30:25.947055Z",
     "shell.execute_reply": "2023-10-26T07:30:25.945579Z"
    },
    "papermill": {
     "duration": 0.55465,
     "end_time": "2023-10-26T07:30:25.949964",
     "exception": false,
     "start_time": "2023-10-26T07:30:25.395314",
     "status": "completed"
    },
    "tags": []
   },
   "outputs": [
    {
     "data": {
      "image/png": "[encoded data removed]",
      "text/plain": [
       "<Figure size 1200x600 with 1 Axes>"
      ]
     },
     "metadata": {},
     "output_type": "display_data"
    }
   ],
   "source": [
    "plt.figure(figsize=(12, 6))\n",
    "\n",
    "# Suppressing the warning\n",
    "with warnings.catch_warnings():\n",
    "    warnings.simplefilter(\"ignore\")\n",
    "    sns.barplot(data=hourly_crash, x=\"CRASH HOUR\", y=\"Number Of Collisions\", palette=palette_y)\n",
    "    \n",
    "    plt.ylabel(\"Number Of Collisions\", fontweight=\"bold\", fontsize=13)\n",
    "    plt.xlabel(\"Hour Of The Day\", fontweight=\"bold\", fontsize=13)\n",
    "    plt.title(\"Number Of Collisions During Different Hours Of The Day\", \n",
    "              fontweight=\"bold\", fontsize=14)\n",
    "plt.show()"
   ]
  },
  {
   "cell_type": "code",
   "execution_count": 32,
   "id": "8c6ceed6",
   "metadata": {},
   "outputs": [
    {
     "data": {
      "image/png": "[encoded data removed]",
      "text/plain": [
       "<Figure size 1200x600 with 1 Axes>"
      ]
     },
     "metadata": {},
     "output_type": "display_data"
    }
   ],
   "source": [
    "plt.figure(figsize=(12, 6))\n",
    "\n",
    "# Suppressing the warning\n",
    "with warnings.catch_warnings():\n",
    "    warnings.simplefilter(\"ignore\")\n",
    "    sns.lineplot(data=hourly_crash, x=\"CRASH HOUR\", y=\"Number Of Collisions\", palette=palette_y)\n",
    "    \n",
    "    plt.ylabel(\"Number Of Collisions\", fontweight=\"bold\", fontsize=13)\n",
    "    plt.xlabel(\"Hour Of The Day\", fontweight=\"bold\", fontsize=13)\n",
    "    plt.title(\"Number Of Collisions During Different Hours Of The Day\", \n",
    "              fontweight=\"bold\", fontsize=14)\n",
    "plt.show()"
   ]
  },
  {
   "cell_type": "markdown",
   "id": "e360e64b",
   "metadata": {
    "papermill": {
     "duration": 0.029614,
     "end_time": "2023-10-26T07:30:26.009946",
     "exception": false,
     "start_time": "2023-10-26T07:30:25.980332",
     "status": "completed"
    },
    "tags": []
   },
   "source": [
    "During the hours of the late night till early morning, 1am to around 5am, there are few number of collisions, this could be due to lower number of vehicles on the road. From 6am and as the day gets by, the road becomes busier therefore higher chances of collisons.\n",
    "From 5pm the number of road collisions drops gradually till midnight."
   ]
  },
  {
   "cell_type": "markdown",
   "id": "25ee55d6",
   "metadata": {
    "papermill": {
     "duration": 0.029416,
     "end_time": "2023-10-26T07:30:26.069569",
     "exception": false,
     "start_time": "2023-10-26T07:30:26.040153",
     "status": "completed"
    },
    "tags": []
   },
   "source": [
    "## Weekly Collisions\n"
   ]
  },
  {
   "cell_type": "code",
   "execution_count": 33,
   "id": "e67ac6dc",
   "metadata": {
    "execution": {
     "iopub.execute_input": "2023-10-26T07:30:26.131928Z",
     "iopub.status.busy": "2023-10-26T07:30:26.131532Z",
     "iopub.status.idle": "2023-10-26T07:30:26.430638Z",
     "shell.execute_reply": "2023-10-26T07:30:26.429452Z"
    },
    "papermill": {
     "duration": 0.332903,
     "end_time": "2023-10-26T07:30:26.433019",
     "exception": false,
     "start_time": "2023-10-26T07:30:26.100116",
     "status": "completed"
    },
    "tags": []
   },
   "outputs": [
    {
     "data": {
      "text/html": [
       "<div>\n",
       "<style scoped>\n",
       "    .dataframe tbody tr th:only-of-type {\n",
       "        vertical-align: middle;\n",
       "    }\n",
       "\n",
       "    .dataframe tbody tr th {\n",
       "        vertical-align: top;\n",
       "    }\n",
       "\n",
       "    .dataframe thead th {\n",
       "        text-align: right;\n",
       "    }\n",
       "</style>\n",
       "<table border=\"1\" class=\"dataframe\">\n",
       "  <thead>\n",
       "    <tr style=\"text-align: right;\">\n",
       "      <th></th>\n",
       "      <th>CRASH YEAR</th>\n",
       "      <th>CRASH WEEK</th>\n",
       "      <th>Number Of Collisions</th>\n",
       "    </tr>\n",
       "  </thead>\n",
       "  <tbody>\n",
       "    <tr>\n",
       "      <th>0</th>\n",
       "      <td>2012</td>\n",
       "      <td>Fri</td>\n",
       "      <td>14786</td>\n",
       "    </tr>\n",
       "    <tr>\n",
       "      <th>1</th>\n",
       "      <td>2012</td>\n",
       "      <td>Mon</td>\n",
       "      <td>13042</td>\n",
       "    </tr>\n",
       "    <tr>\n",
       "      <th>2</th>\n",
       "      <td>2012</td>\n",
       "      <td>Sat</td>\n",
       "      <td>12238</td>\n",
       "    </tr>\n",
       "    <tr>\n",
       "      <th>3</th>\n",
       "      <td>2012</td>\n",
       "      <td>Sun</td>\n",
       "      <td>11504</td>\n",
       "    </tr>\n",
       "    <tr>\n",
       "      <th>4</th>\n",
       "      <td>2012</td>\n",
       "      <td>Thu</td>\n",
       "      <td>13409</td>\n",
       "    </tr>\n",
       "  </tbody>\n",
       "</table>\n",
       "</div>"
      ],
      "text/plain": [
       "   CRASH YEAR CRASH WEEK  Number Of Collisions\n",
       "0        2012        Fri                 14786\n",
       "1        2012        Mon                 13042\n",
       "2        2012        Sat                 12238\n",
       "3        2012        Sun                 11504\n",
       "4        2012        Thu                 13409"
      ]
     },
     "execution_count": 33,
     "metadata": {},
     "output_type": "execute_result"
    }
   ],
   "source": [
    "# Grouping data by 'CRASH YEAR' and 'CRASH WEEK' and counting the occurrences, creating a DataFrame with the number of collisions per year and week\n",
    "yrly_weekly = col_12to22.groupby([\"CRASH YEAR\", \"CRASH WEEK\"]).size().reset_index(name=\"Number Of Collisions\")\n",
    "\n",
    "weekday_order = ['Mon', 'Tue', 'Wed', 'Thu', 'Fri', 'Sat', 'Sun']\n",
    "yrly_weekly['CRASH WEEK'] = pd.Categorical(yrly_weekly['CRASH WEEK'], categories=weekday_order, ordered=True)\n",
    "\n",
    "# Displaying the first few rows of the resulting DataFrame\n",
    "yrly_weekly.head()"
   ]
  },
  {
   "cell_type": "code",
   "execution_count": 34,
   "id": "0dfaa8ab",
   "metadata": {
    "execution": {
     "iopub.execute_input": "2023-10-26T07:30:26.497756Z",
     "iopub.status.busy": "2023-10-26T07:30:26.496300Z",
     "iopub.status.idle": "2023-10-26T07:30:27.281363Z",
     "shell.execute_reply": "2023-10-26T07:30:27.280154Z"
    },
    "papermill": {
     "duration": 0.821119,
     "end_time": "2023-10-26T07:30:27.284259",
     "exception": false,
     "start_time": "2023-10-26T07:30:26.463140",
     "status": "completed"
    },
    "tags": []
   },
   "outputs": [
    {
     "data": {
      "image/png": "[encoded data removed]",
      "text/plain": [
       "<Figure size 1200x600 with 1 Axes>"
      ]
     },
     "metadata": {},
     "output_type": "display_data"
    }
   ],
   "source": [
    "plt.figure(figsize=(12, 6))\n",
    "sns.barplot(data=yrly_weekly, x=\"CRASH YEAR\", y=\"Number Of Collisions\", hue=\"CRASH WEEK\")\n",
    "plt.ylabel(\"Number Of Collisions\", fontweight=\"bold\", fontsize=13)\n",
    "plt.xlabel(\"Day Of The Week\", fontweight=\"bold\", fontsize=13)\n",
    "plt.title(\"Number Of Road Collisions During Different Years And Days Of Week\", \n",
    "          fontweight=\"bold\", fontsize=14)\n",
    "\n",
    "plt.show()"
   ]
  },
  {
   "cell_type": "markdown",
   "id": "f9cb3f37",
   "metadata": {
    "papermill": {
     "duration": 0.029637,
     "end_time": "2023-10-26T07:30:27.345156",
     "exception": false,
     "start_time": "2023-10-26T07:30:27.315519",
     "status": "completed"
    },
    "tags": []
   },
   "source": [
    "In all of the years, there seems to be some consistency. The number of collisions slowly rises from Monday till Thusday before shooting up on Friday. \n",
    "A gradual drop is then observed in the two days of the weekend."
   ]
  },
  {
   "cell_type": "markdown",
   "id": "34549482",
   "metadata": {
    "papermill": {
     "duration": 0.029585,
     "end_time": "2023-10-26T07:30:27.404774",
     "exception": false,
     "start_time": "2023-10-26T07:30:27.375189",
     "status": "completed"
    },
    "tags": []
   },
   "source": [
    "## Collisions During Different Seasons"
   ]
  },
  {
   "cell_type": "code",
   "execution_count": 35,
   "id": "42960c67",
   "metadata": {
    "execution": {
     "iopub.execute_input": "2023-10-26T07:30:27.466741Z",
     "iopub.status.busy": "2023-10-26T07:30:27.466324Z",
     "iopub.status.idle": "2023-10-26T07:30:27.671711Z",
     "shell.execute_reply": "2023-10-26T07:30:27.670549Z"
    },
    "papermill": {
     "duration": 0.239177,
     "end_time": "2023-10-26T07:30:27.674196",
     "exception": false,
     "start_time": "2023-10-26T07:30:27.435019",
     "status": "completed"
    },
    "tags": []
   },
   "outputs": [
    {
     "data": {
      "text/html": [
       "<div>\n",
       "<style scoped>\n",
       "    .dataframe tbody tr th:only-of-type {\n",
       "        vertical-align: middle;\n",
       "    }\n",
       "\n",
       "    .dataframe tbody tr th {\n",
       "        vertical-align: top;\n",
       "    }\n",
       "\n",
       "    .dataframe thead th {\n",
       "        text-align: right;\n",
       "    }\n",
       "</style>\n",
       "<table border=\"1\" class=\"dataframe\">\n",
       "  <thead>\n",
       "    <tr style=\"text-align: right;\">\n",
       "      <th></th>\n",
       "      <th>CRASH SEASON</th>\n",
       "      <th>Number Of Collisions</th>\n",
       "    </tr>\n",
       "  </thead>\n",
       "  <tbody>\n",
       "    <tr>\n",
       "      <th>0</th>\n",
       "      <td>Autumn</td>\n",
       "      <td>495256</td>\n",
       "    </tr>\n",
       "    <tr>\n",
       "      <th>1</th>\n",
       "      <td>Spring</td>\n",
       "      <td>434402</td>\n",
       "    </tr>\n",
       "    <tr>\n",
       "      <th>2</th>\n",
       "      <td>Summer</td>\n",
       "      <td>487154</td>\n",
       "    </tr>\n",
       "    <tr>\n",
       "      <th>3</th>\n",
       "      <td>Winter</td>\n",
       "      <td>432657</td>\n",
       "    </tr>\n",
       "  </tbody>\n",
       "</table>\n",
       "</div>"
      ],
      "text/plain": [
       "  CRASH SEASON  Number Of Collisions\n",
       "0       Autumn                495256\n",
       "1       Spring                434402\n",
       "2       Summer                487154\n",
       "3       Winter                432657"
      ]
     },
     "execution_count": 35,
     "metadata": {},
     "output_type": "execute_result"
    }
   ],
   "source": [
    "seasons_crash = col_12to22.groupby([\"CRASH SEASON\"]).size().reset_index(name=\"Number Of Collisions\")\n",
    "seasons_crash"
   ]
  },
  {
   "cell_type": "code",
   "execution_count": 36,
   "id": "f5639b83",
   "metadata": {
    "execution": {
     "iopub.execute_input": "2023-10-26T07:30:27.738106Z",
     "iopub.status.busy": "2023-10-26T07:30:27.737476Z",
     "iopub.status.idle": "2023-10-26T07:30:28.041314Z",
     "shell.execute_reply": "2023-10-26T07:30:28.039783Z"
    },
    "papermill": {
     "duration": 0.339135,
     "end_time": "2023-10-26T07:30:28.044038",
     "exception": false,
     "start_time": "2023-10-26T07:30:27.704903",
     "status": "completed"
    },
    "tags": []
   },
   "outputs": [
    {
     "data": {
      "image/png": "[encoded data removed]",
      "text/plain": [
       "<Figure size 1200x600 with 1 Axes>"
      ]
     },
     "metadata": {},
     "output_type": "display_data"
    }
   ],
   "source": [
    "seasons_order = [\"Spring\", \"Summer\", \"Autumn\", \"Winter\"]\n",
    "\n",
    "# Converting the 'CRASH SEASON' column to a categorical variable with specified order\n",
    "seasons_crash[\"CRASH SEASON\"] = pd.Categorical(seasons_crash[\"CRASH SEASON\"], categories=seasons_order, ordered=True)\n",
    "\n",
    "plt.figure(figsize=(12, 6))\n",
    "sns.barplot(data=seasons_crash, x=\"CRASH SEASON\", y=\"Number Of Collisions\")\n",
    "plt.ylabel(\"Number Of Collisions\", fontweight=\"bold\", fontsize=13)\n",
    "plt.xlabel(\"Seasons\", fontweight=\"bold\", fontsize=13)\n",
    "plt.title(\"Number Of Road Collisons During Each Season Of The Year\", \n",
    "          fontweight=\"bold\", fontsize=14)\n",
    "plt.show()"
   ]
  },
  {
   "cell_type": "markdown",
   "id": "be606af7",
   "metadata": {
    "papermill": {
     "duration": 0.030624,
     "end_time": "2023-10-26T07:30:28.105770",
     "exception": false,
     "start_time": "2023-10-26T07:30:28.075146",
     "status": "completed"
    },
    "tags": []
   },
   "source": [
    "Overall, there is a higher number of collisions in Autumn and Summer. \n",
    "* For Summer, this could be due to higher number vehicles in the road as a result warmer temperatures which favours outdoor activities, holidays, etc...\n",
    "* In Autumn, during the transition from summer, there are unpredictable weather, including rain and fog which causes more accidents."
   ]
  },
  {
   "cell_type": "code",
   "execution_count": 37,
   "id": "69bf4860",
   "metadata": {
    "execution": {
     "iopub.execute_input": "2023-10-26T07:30:28.169346Z",
     "iopub.status.busy": "2023-10-26T07:30:28.168961Z",
     "iopub.status.idle": "2023-10-26T07:30:28.437214Z",
     "shell.execute_reply": "2023-10-26T07:30:28.436048Z"
    },
    "papermill": {
     "duration": 0.30346,
     "end_time": "2023-10-26T07:30:28.440131",
     "exception": false,
     "start_time": "2023-10-26T07:30:28.136671",
     "status": "completed"
    },
    "tags": []
   },
   "outputs": [],
   "source": [
    "# Grouping collision data by year and season, counting the occurrences, and creating a new dataframe\n",
    "yrly_seasons = col_12to22.groupby([\"CRASH YEAR\", \"CRASH SEASON\"]).size().reset_index(name=\"Number Of Collisions\")"
   ]
  },
  {
   "cell_type": "code",
   "execution_count": 38,
   "id": "cf559eb1",
   "metadata": {
    "execution": {
     "iopub.execute_input": "2023-10-26T07:30:28.505118Z",
     "iopub.status.busy": "2023-10-26T07:30:28.504212Z",
     "iopub.status.idle": "2023-10-26T07:30:29.057680Z",
     "shell.execute_reply": "2023-10-26T07:30:29.056469Z"
    },
    "papermill": {
     "duration": 0.588896,
     "end_time": "2023-10-26T07:30:29.060194",
     "exception": false,
     "start_time": "2023-10-26T07:30:28.471298",
     "status": "completed"
    },
    "tags": []
   },
   "outputs": [
    {
     "data": {
      "image/png": "[encoded data removed]",
      "text/plain": [
       "<Figure size 1200x600 with 1 Axes>"
      ]
     },
     "metadata": {},
     "output_type": "display_data"
    }
   ],
   "source": [
    "# Convert the \"CRASH SEASON\" column to a categorical variable with specified order\n",
    "yrly_seasons[\"CRASH SEASON\"] = pd.Categorical(yrly_seasons[\"CRASH SEASON\"], categories=seasons_order, ordered=True)\n",
    "\n",
    "plt.figure(figsize=(12, 6))\n",
    "sns.barplot(yrly_seasons, x=\"CRASH YEAR\", y=\"Number Of Collisions\", hue=\"CRASH SEASON\")\n",
    "plt.ylabel(\"Number Of Collisions\", fontweight=\"bold\", fontsize=13)\n",
    "plt.xlabel(\"Year\", fontweight=\"bold\", fontsize=13)\n",
    "plt.title(\"Number Road Collisons Over Years and Seasons\", \n",
    "          fontweight=\"bold\", fontsize=14)\n",
    "plt.legend(title=\"Seasons\", loc=\"upper right\")\n",
    "plt.show()"
   ]
  },
  {
   "cell_type": "markdown",
   "id": "1c0c88c8",
   "metadata": {
    "papermill": {
     "duration": 0.031601,
     "end_time": "2023-10-26T07:30:29.124252",
     "exception": false,
     "start_time": "2023-10-26T07:30:29.092651",
     "status": "completed"
    },
    "tags": []
   },
   "source": [
    "In almost all years, the number of road collisions are usually lower in Winter. This is due to reduced vehicles on the road because of the bad weather conditions. The case of 2020-21 Winter was however different. The number of collisions was more as the region faced a significant winter season "
   ]
  },
  {
   "cell_type": "markdown",
   "id": "d629e5c1",
   "metadata": {
    "papermill": {
     "duration": 0.032318,
     "end_time": "2023-10-26T07:30:29.188702",
     "exception": false,
     "start_time": "2023-10-26T07:30:29.156384",
     "status": "completed"
    },
    "tags": []
   },
   "source": [
    "## Vehicle Types Vs Collisions"
   ]
  },
  {
   "cell_type": "code",
   "execution_count": 39,
   "id": "f79a2445",
   "metadata": {
    "execution": {
     "iopub.execute_input": "2023-10-26T07:30:29.255254Z",
     "iopub.status.busy": "2023-10-26T07:30:29.254799Z",
     "iopub.status.idle": "2023-10-26T07:30:29.519550Z",
     "shell.execute_reply": "2023-10-26T07:30:29.518443Z"
    },
    "papermill": {
     "duration": 0.30158,
     "end_time": "2023-10-26T07:30:29.521921",
     "exception": false,
     "start_time": "2023-10-26T07:30:29.220341",
     "status": "completed"
    },
    "tags": []
   },
   "outputs": [
    {
     "data": {
      "text/plain": [
       "VEHICLE TYPE CODE 1\n",
       "Station Wagon/Sport Utility Vehicle    565264\n",
       "Sedan                                  531975\n",
       "PASSENGER VEHICLE                      368659\n",
       "Taxi                                    79877\n",
       "Pick-up Truck                           43263\n",
       "VAN                                     24934\n",
       "OTHER                                   22697\n",
       "Box Truck                               22386\n",
       "UNKNOWN                                 19728\n",
       "Bus                                     19238\n",
       "LARGE COM VEH(6 OR MORE TIRES)          14317\n",
       "BUS                                     13880\n",
       "SMALL COM VEH(4 TIRES)                  13137\n",
       "Bike                                    12866\n",
       "LIVERY VEHICLE                          10449\n",
       "Tractor Truck Diesel                     9554\n",
       "Van                                      8275\n",
       "Motorcycle                               7031\n",
       "MOTORCYCLE                               4178\n",
       "Ambulance                                3709\n",
       "Name: count, dtype: int64"
      ]
     },
     "execution_count": 39,
     "metadata": {},
     "output_type": "execute_result"
    }
   ],
   "source": [
    "col_12to22[\"VEHICLE TYPE CODE 1\"].value_counts().head(20)"
   ]
  },
  {
   "cell_type": "code",
   "execution_count": 40,
   "id": "923922af",
   "metadata": {
    "execution": {
     "iopub.execute_input": "2023-10-26T07:30:29.957674Z",
     "iopub.status.busy": "2023-10-26T07:30:29.957247Z",
     "iopub.status.idle": "2023-10-26T07:30:30.512069Z",
     "shell.execute_reply": "2023-10-26T07:30:30.510729Z"
    },
    "papermill": {
     "duration": 0.591108,
     "end_time": "2023-10-26T07:30:30.514851",
     "exception": false,
     "start_time": "2023-10-26T07:30:29.923743",
     "status": "completed"
    },
    "tags": []
   },
   "outputs": [],
   "source": [
    "vehicle_type = [\"Sedan\", \"Station Wagon/Sport Utility Vehicle\", \"PASSENGER VEHICLE\", \"Pick-up Truck\", \"Taxi\"]\n",
    "\n",
    "type_1 = col_12to22[col_12to22[\"VEHICLE TYPE CODE 1\"].isin(vehicle_type)]"
   ]
  },
  {
   "cell_type": "code",
   "execution_count": 41,
   "id": "ab62f2f4",
   "metadata": {
    "execution": {
     "iopub.execute_input": "2023-10-26T07:30:30.582998Z",
     "iopub.status.busy": "2023-10-26T07:30:30.581910Z",
     "iopub.status.idle": "2023-10-26T07:30:30.894427Z",
     "shell.execute_reply": "2023-10-26T07:30:30.893293Z"
    },
    "papermill": {
     "duration": 0.349829,
     "end_time": "2023-10-26T07:30:30.896972",
     "exception": false,
     "start_time": "2023-10-26T07:30:30.547143",
     "status": "completed"
    },
    "tags": []
   },
   "outputs": [
    {
     "data": {
      "text/html": [
       "<div>\n",
       "<style scoped>\n",
       "    .dataframe tbody tr th:only-of-type {\n",
       "        vertical-align: middle;\n",
       "    }\n",
       "\n",
       "    .dataframe tbody tr th {\n",
       "        vertical-align: top;\n",
       "    }\n",
       "\n",
       "    .dataframe thead th {\n",
       "        text-align: right;\n",
       "    }\n",
       "</style>\n",
       "<table border=\"1\" class=\"dataframe\">\n",
       "  <thead>\n",
       "    <tr style=\"text-align: right;\">\n",
       "      <th></th>\n",
       "      <th>CRASH YEAR</th>\n",
       "      <th>VEHICLE TYPE CODE 1</th>\n",
       "      <th>Counts</th>\n",
       "    </tr>\n",
       "  </thead>\n",
       "  <tbody>\n",
       "    <tr>\n",
       "      <th>0</th>\n",
       "      <td>2012</td>\n",
       "      <td>PASSENGER VEHICLE</td>\n",
       "      <td>50349</td>\n",
       "    </tr>\n",
       "    <tr>\n",
       "      <th>1</th>\n",
       "      <td>2012</td>\n",
       "      <td>Pick-up Truck</td>\n",
       "      <td>1481</td>\n",
       "    </tr>\n",
       "    <tr>\n",
       "      <th>2</th>\n",
       "      <td>2012</td>\n",
       "      <td>Sedan</td>\n",
       "      <td>11</td>\n",
       "    </tr>\n",
       "    <tr>\n",
       "      <th>3</th>\n",
       "      <td>2012</td>\n",
       "      <td>Station Wagon/Sport Utility Vehicle</td>\n",
       "      <td>19566</td>\n",
       "    </tr>\n",
       "    <tr>\n",
       "      <th>4</th>\n",
       "      <td>2012</td>\n",
       "      <td>Taxi</td>\n",
       "      <td>4039</td>\n",
       "    </tr>\n",
       "    <tr>\n",
       "      <th>5</th>\n",
       "      <td>2013</td>\n",
       "      <td>PASSENGER VEHICLE</td>\n",
       "      <td>99555</td>\n",
       "    </tr>\n",
       "    <tr>\n",
       "      <th>6</th>\n",
       "      <td>2013</td>\n",
       "      <td>Pick-up Truck</td>\n",
       "      <td>2988</td>\n",
       "    </tr>\n",
       "    <tr>\n",
       "      <th>7</th>\n",
       "      <td>2013</td>\n",
       "      <td>Sedan</td>\n",
       "      <td>29</td>\n",
       "    </tr>\n",
       "    <tr>\n",
       "      <th>8</th>\n",
       "      <td>2013</td>\n",
       "      <td>Station Wagon/Sport Utility Vehicle</td>\n",
       "      <td>42918</td>\n",
       "    </tr>\n",
       "    <tr>\n",
       "      <th>9</th>\n",
       "      <td>2013</td>\n",
       "      <td>Taxi</td>\n",
       "      <td>8703</td>\n",
       "    </tr>\n",
       "    <tr>\n",
       "      <th>10</th>\n",
       "      <td>2014</td>\n",
       "      <td>PASSENGER VEHICLE</td>\n",
       "      <td>97790</td>\n",
       "    </tr>\n",
       "    <tr>\n",
       "      <th>11</th>\n",
       "      <td>2014</td>\n",
       "      <td>Pick-up Truck</td>\n",
       "      <td>2985</td>\n",
       "    </tr>\n",
       "    <tr>\n",
       "      <th>12</th>\n",
       "      <td>2014</td>\n",
       "      <td>Sedan</td>\n",
       "      <td>57</td>\n",
       "    </tr>\n",
       "    <tr>\n",
       "      <th>13</th>\n",
       "      <td>2014</td>\n",
       "      <td>Station Wagon/Sport Utility Vehicle</td>\n",
       "      <td>45319</td>\n",
       "    </tr>\n",
       "    <tr>\n",
       "      <th>14</th>\n",
       "      <td>2014</td>\n",
       "      <td>Taxi</td>\n",
       "      <td>8696</td>\n",
       "    </tr>\n",
       "    <tr>\n",
       "      <th>15</th>\n",
       "      <td>2015</td>\n",
       "      <td>PASSENGER VEHICLE</td>\n",
       "      <td>101843</td>\n",
       "    </tr>\n",
       "    <tr>\n",
       "      <th>16</th>\n",
       "      <td>2015</td>\n",
       "      <td>Pick-up Truck</td>\n",
       "      <td>3349</td>\n",
       "    </tr>\n",
       "    <tr>\n",
       "      <th>17</th>\n",
       "      <td>2015</td>\n",
       "      <td>Sedan</td>\n",
       "      <td>69</td>\n",
       "    </tr>\n",
       "    <tr>\n",
       "      <th>18</th>\n",
       "      <td>2015</td>\n",
       "      <td>Station Wagon/Sport Utility Vehicle</td>\n",
       "      <td>51984</td>\n",
       "    </tr>\n",
       "    <tr>\n",
       "      <th>19</th>\n",
       "      <td>2015</td>\n",
       "      <td>Taxi</td>\n",
       "      <td>8660</td>\n",
       "    </tr>\n",
       "  </tbody>\n",
       "</table>\n",
       "</div>"
      ],
      "text/plain": [
       "    CRASH YEAR                  VEHICLE TYPE CODE 1  Counts\n",
       "0         2012                    PASSENGER VEHICLE   50349\n",
       "1         2012                        Pick-up Truck    1481\n",
       "2         2012                                Sedan      11\n",
       "3         2012  Station Wagon/Sport Utility Vehicle   19566\n",
       "4         2012                                 Taxi    4039\n",
       "5         2013                    PASSENGER VEHICLE   99555\n",
       "6         2013                        Pick-up Truck    2988\n",
       "7         2013                                Sedan      29\n",
       "8         2013  Station Wagon/Sport Utility Vehicle   42918\n",
       "9         2013                                 Taxi    8703\n",
       "10        2014                    PASSENGER VEHICLE   97790\n",
       "11        2014                        Pick-up Truck    2985\n",
       "12        2014                                Sedan      57\n",
       "13        2014  Station Wagon/Sport Utility Vehicle   45319\n",
       "14        2014                                 Taxi    8696\n",
       "15        2015                    PASSENGER VEHICLE  101843\n",
       "16        2015                        Pick-up Truck    3349\n",
       "17        2015                                Sedan      69\n",
       "18        2015  Station Wagon/Sport Utility Vehicle   51984\n",
       "19        2015                                 Taxi    8660"
      ]
     },
     "execution_count": 41,
     "metadata": {},
     "output_type": "execute_result"
    }
   ],
   "source": [
    "yrly_type_1 = type_1.groupby([\"CRASH YEAR\", \"VEHICLE TYPE CODE 1\"]).size().reset_index(name=\"Counts\")\n",
    "yrly_type_1.head(20)"
   ]
  },
  {
   "cell_type": "code",
   "execution_count": 42,
   "id": "3de8d4af",
   "metadata": {
    "execution": {
     "iopub.execute_input": "2023-10-26T07:30:30.967456Z",
     "iopub.status.busy": "2023-10-26T07:30:30.966960Z",
     "iopub.status.idle": "2023-10-26T07:30:31.576096Z",
     "shell.execute_reply": "2023-10-26T07:30:31.574895Z"
    },
    "papermill": {
     "duration": 0.648349,
     "end_time": "2023-10-26T07:30:31.578381",
     "exception": false,
     "start_time": "2023-10-26T07:30:30.930032",
     "status": "completed"
    },
    "tags": []
   },
   "outputs": [
    {
     "data": {
      "image/png": "[encoded data removed]",
      "text/plain": [
       "<Figure size 1300x700 with 1 Axes>"
      ]
     },
     "metadata": {},
     "output_type": "display_data"
    }
   ],
   "source": [
    "plt.figure(figsize=(13, 7))\n",
    "sns.barplot(data=yrly_type_1, x=\"CRASH YEAR\", y=\"Counts\", hue=\"VEHICLE TYPE CODE 1\")\n",
    "plt.ylabel(\"Number Of Collisions\", fontweight=\"bold\", fontsize=13)\n",
    "plt.xlabel(\"Year\", fontweight=\"bold\", fontsize=13)\n",
    "plt.title(\"Top 5 Vehicle Types Causing Road Collisons Over Years\", \n",
    "          fontweight=\"bold\", fontsize=14)\n",
    "plt.legend(title=\"Vehicle Type\", loc=\"upper right\")\n",
    "\n",
    "plt.show()"
   ]
  },
  {
   "cell_type": "markdown",
   "id": "09efeecf",
   "metadata": {
    "papermill": {
     "duration": 0.034983,
     "end_time": "2023-10-26T07:30:33.298759",
     "exception": false,
     "start_time": "2023-10-26T07:30:33.263776",
     "status": "completed"
    },
    "tags": []
   },
   "source": [
    "# Collison Contributing Factors"
   ]
  },
  {
   "cell_type": "code",
   "execution_count": 43,
   "id": "b355aecc",
   "metadata": {
    "execution": {
     "iopub.execute_input": "2023-10-26T07:30:33.371263Z",
     "iopub.status.busy": "2023-10-26T07:30:33.370426Z",
     "iopub.status.idle": "2023-10-26T07:30:33.617302Z",
     "shell.execute_reply": "2023-10-26T07:30:33.615864Z"
    },
    "papermill": {
     "duration": 0.286232,
     "end_time": "2023-10-26T07:30:33.620053",
     "exception": false,
     "start_time": "2023-10-26T07:30:33.333821",
     "status": "completed"
    },
    "tags": []
   },
   "outputs": [
    {
     "data": {
      "text/plain": [
       "CONTRIBUTING FACTOR VEHICLE 1\n",
       "Unspecified                       605207\n",
       "Driver Inattention/Distraction    364529\n",
       "Failure to Yield Right-of-Way     113327\n",
       "Following Too Closely             100018\n",
       "Backing Unsafely                   71836\n",
       "Other Vehicular                    60228\n",
       "Passing or Lane Usage Improper     51850\n",
       "Turning Improperly                 47973\n",
       "Passing Too Closely                46918\n",
       "Fatigued/Drowsy                    46124\n",
       "Unsafe Lane Changing               37943\n",
       "Traffic Control Disregarded        33283\n",
       "Driver Inexperience                29795\n",
       "Unsafe Speed                       24422\n",
       "Alcohol Involvement                20429\n",
       "Lost Consciousness                 20072\n",
       "Reaction to Uninvolved Vehicle     18696\n",
       "Pavement Slippery                  17976\n",
       "Prescription Medication            15286\n",
       "View Obstructed/Limited            12680\n",
       "Name: count, dtype: int64"
      ]
     },
     "execution_count": 43,
     "metadata": {},
     "output_type": "execute_result"
    }
   ],
   "source": [
    "col_12to22[\"CONTRIBUTING FACTOR VEHICLE 1\"].value_counts().head(20)"
   ]
  },
  {
   "cell_type": "markdown",
   "id": "448c6cf0",
   "metadata": {
    "papermill": {
     "duration": 0.035635,
     "end_time": "2023-10-26T07:30:33.691210",
     "exception": false,
     "start_time": "2023-10-26T07:30:33.655575",
     "status": "completed"
    },
    "tags": []
   },
   "source": [
    "Ther are many factors which could contribute to accidents and the top 3 for vehicle type code 1 are:\n",
    "* Driver Inattention/Distraction\n",
    "* Failure to Yield Right-of-Way\n",
    "* Following Too Closely \n",
    "\n",
    "I will filter the data to reflect the above then compare how those top 3 factors have been causing collissions over years"
   ]
  },
  {
   "cell_type": "code",
   "execution_count": 44,
   "id": "af820478",
   "metadata": {
    "execution": {
     "iopub.execute_input": "2023-10-26T07:30:33.766060Z",
     "iopub.status.busy": "2023-10-26T07:30:33.765642Z",
     "iopub.status.idle": "2023-10-26T07:30:34.105502Z",
     "shell.execute_reply": "2023-10-26T07:30:34.104421Z"
    },
    "papermill": {
     "duration": 0.380889,
     "end_time": "2023-10-26T07:30:34.108472",
     "exception": false,
     "start_time": "2023-10-26T07:30:33.727583",
     "status": "completed"
    },
    "tags": []
   },
   "outputs": [],
   "source": [
    "top3_causes_vh1 = [\"Driver Inattention/Distraction\", \"Failure to Yield Right-of-Way\", \"Following Too Closely\"]\n",
    "\n",
    "top3_vh1 = col_12to22[col_12to22[\"CONTRIBUTING FACTOR VEHICLE 1\"].isin(top3_causes_vh1)]"
   ]
  },
  {
   "cell_type": "code",
   "execution_count": 45,
   "id": "4ab8dd42",
   "metadata": {
    "execution": {
     "iopub.execute_input": "2023-10-26T07:30:34.181935Z",
     "iopub.status.busy": "2023-10-26T07:30:34.181556Z",
     "iopub.status.idle": "2023-10-26T07:30:34.300733Z",
     "shell.execute_reply": "2023-10-26T07:30:34.299418Z"
    },
    "papermill": {
     "duration": 0.158806,
     "end_time": "2023-10-26T07:30:34.303298",
     "exception": false,
     "start_time": "2023-10-26T07:30:34.144492",
     "status": "completed"
    },
    "tags": []
   },
   "outputs": [
    {
     "data": {
      "text/html": [
       "<div>\n",
       "<style scoped>\n",
       "    .dataframe tbody tr th:only-of-type {\n",
       "        vertical-align: middle;\n",
       "    }\n",
       "\n",
       "    .dataframe tbody tr th {\n",
       "        vertical-align: top;\n",
       "    }\n",
       "\n",
       "    .dataframe thead th {\n",
       "        text-align: right;\n",
       "    }\n",
       "</style>\n",
       "<table border=\"1\" class=\"dataframe\">\n",
       "  <thead>\n",
       "    <tr style=\"text-align: right;\">\n",
       "      <th></th>\n",
       "      <th>CRASH YEAR</th>\n",
       "      <th>CONTRIBUTING FACTOR VEHICLE 1</th>\n",
       "      <th>COLLISIONS COUNT</th>\n",
       "    </tr>\n",
       "  </thead>\n",
       "  <tbody>\n",
       "    <tr>\n",
       "      <th>0</th>\n",
       "      <td>2012</td>\n",
       "      <td>Driver Inattention/Distraction</td>\n",
       "      <td>10109</td>\n",
       "    </tr>\n",
       "    <tr>\n",
       "      <th>1</th>\n",
       "      <td>2012</td>\n",
       "      <td>Failure to Yield Right-of-Way</td>\n",
       "      <td>3892</td>\n",
       "    </tr>\n",
       "    <tr>\n",
       "      <th>2</th>\n",
       "      <td>2012</td>\n",
       "      <td>Following Too Closely</td>\n",
       "      <td>73</td>\n",
       "    </tr>\n",
       "    <tr>\n",
       "      <th>3</th>\n",
       "      <td>2013</td>\n",
       "      <td>Driver Inattention/Distraction</td>\n",
       "      <td>21674</td>\n",
       "    </tr>\n",
       "    <tr>\n",
       "      <th>4</th>\n",
       "      <td>2013</td>\n",
       "      <td>Failure to Yield Right-of-Way</td>\n",
       "      <td>7944</td>\n",
       "    </tr>\n",
       "    <tr>\n",
       "      <th>5</th>\n",
       "      <td>2013</td>\n",
       "      <td>Following Too Closely</td>\n",
       "      <td>146</td>\n",
       "    </tr>\n",
       "  </tbody>\n",
       "</table>\n",
       "</div>"
      ],
      "text/plain": [
       "   CRASH YEAR   CONTRIBUTING FACTOR VEHICLE 1  COLLISIONS COUNT\n",
       "0        2012  Driver Inattention/Distraction             10109\n",
       "1        2012   Failure to Yield Right-of-Way              3892\n",
       "2        2012           Following Too Closely                73\n",
       "3        2013  Driver Inattention/Distraction             21674\n",
       "4        2013   Failure to Yield Right-of-Way              7944\n",
       "5        2013           Following Too Closely               146"
      ]
     },
     "execution_count": 45,
     "metadata": {},
     "output_type": "execute_result"
    }
   ],
   "source": [
    "# Grouping data by crash year and contributing factor for vehicle 1 to count collisions per year and factor\n",
    "yrly_top3_vh1 = top3_vh1.groupby([\"CRASH YEAR\", \"CONTRIBUTING FACTOR VEHICLE 1\"]).size().reset_index(name =\"COLLISIONS COUNT\")\n",
    "\n",
    "yrly_top3_vh1.head(6)"
   ]
  },
  {
   "cell_type": "code",
   "execution_count": 46,
   "id": "4e9c8ad0",
   "metadata": {
    "execution": {
     "iopub.execute_input": "2023-10-26T07:30:34.377821Z",
     "iopub.status.busy": "2023-10-26T07:30:34.377442Z",
     "iopub.status.idle": "2023-10-26T07:30:34.910601Z",
     "shell.execute_reply": "2023-10-26T07:30:34.909456Z"
    },
    "papermill": {
     "duration": 0.573518,
     "end_time": "2023-10-26T07:30:34.913355",
     "exception": false,
     "start_time": "2023-10-26T07:30:34.339837",
     "status": "completed"
    },
    "tags": []
   },
   "outputs": [
    {
     "data": {
      "image/png": "[encoded data removed]",
      "text/plain": [
       "<Figure size 1200x600 with 1 Axes>"
      ]
     },
     "metadata": {},
     "output_type": "display_data"
    }
   ],
   "source": [
    "plt.figure(figsize=(12, 6))\n",
    "sns.barplot(data=yrly_top3_vh1, x=\"CRASH YEAR\", y=\"COLLISIONS COUNT\", hue=\"CONTRIBUTING FACTOR VEHICLE 1\")\n",
    "plt.ylabel(\"Number Of Collisions\", fontweight=\"bold\", fontsize=13)\n",
    "plt.xlabel(\"Year\", fontweight=\"bold\", fontsize=13)\n",
    "plt.title(\"Comparison Of The Top 3 Factors Causing Road Collisons\", \n",
    "          fontweight=\"bold\", fontsize=14)\n",
    "\n",
    "plt.show()"
   ]
  },
  {
   "cell_type": "code",
   "execution_count": 47,
   "id": "7599b6dd",
   "metadata": {
    "execution": {
     "iopub.execute_input": "2023-10-26T07:30:36.563528Z",
     "iopub.status.busy": "2023-10-26T07:30:36.562212Z",
     "iopub.status.idle": "2023-10-26T07:30:37.344941Z",
     "shell.execute_reply": "2023-10-26T07:30:37.343617Z"
    },
    "papermill": {
     "duration": 0.825569,
     "end_time": "2023-10-26T07:30:37.347996",
     "exception": false,
     "start_time": "2023-10-26T07:30:36.522427",
     "status": "completed"
    },
    "tags": []
   },
   "outputs": [],
   "source": [
    "distraction = col_12to22[(col_12to22[\"CONTRIBUTING FACTOR VEHICLE 1\"] ==\"Driver Inattention/Distraction\")]"
   ]
  },
  {
   "cell_type": "code",
   "execution_count": 48,
   "id": "fe7b9735",
   "metadata": {
    "execution": {
     "iopub.execute_input": "2023-10-26T07:30:37.427210Z",
     "iopub.status.busy": "2023-10-26T07:30:37.426788Z",
     "iopub.status.idle": "2023-10-26T07:30:37.507434Z",
     "shell.execute_reply": "2023-10-26T07:30:37.506326Z"
    },
    "papermill": {
     "duration": 0.123404,
     "end_time": "2023-10-26T07:30:37.509878",
     "exception": false,
     "start_time": "2023-10-26T07:30:37.386474",
     "status": "completed"
    },
    "tags": []
   },
   "outputs": [
    {
     "data": {
      "text/html": [
       "<div>\n",
       "<style scoped>\n",
       "    .dataframe tbody tr th:only-of-type {\n",
       "        vertical-align: middle;\n",
       "    }\n",
       "\n",
       "    .dataframe tbody tr th {\n",
       "        vertical-align: top;\n",
       "    }\n",
       "\n",
       "    .dataframe thead th {\n",
       "        text-align: right;\n",
       "    }\n",
       "</style>\n",
       "<table border=\"1\" class=\"dataframe\">\n",
       "  <thead>\n",
       "    <tr style=\"text-align: right;\">\n",
       "      <th></th>\n",
       "      <th>CRASH WEEK</th>\n",
       "      <th>Number Of Collisions</th>\n",
       "    </tr>\n",
       "  </thead>\n",
       "  <tbody>\n",
       "    <tr>\n",
       "      <th>0</th>\n",
       "      <td>Fri</td>\n",
       "      <td>57993</td>\n",
       "    </tr>\n",
       "    <tr>\n",
       "      <th>1</th>\n",
       "      <td>Mon</td>\n",
       "      <td>51843</td>\n",
       "    </tr>\n",
       "    <tr>\n",
       "      <th>2</th>\n",
       "      <td>Sat</td>\n",
       "      <td>49161</td>\n",
       "    </tr>\n",
       "    <tr>\n",
       "      <th>3</th>\n",
       "      <td>Sun</td>\n",
       "      <td>43508</td>\n",
       "    </tr>\n",
       "    <tr>\n",
       "      <th>4</th>\n",
       "      <td>Thu</td>\n",
       "      <td>54695</td>\n",
       "    </tr>\n",
       "    <tr>\n",
       "      <th>5</th>\n",
       "      <td>Tue</td>\n",
       "      <td>53685</td>\n",
       "    </tr>\n",
       "    <tr>\n",
       "      <th>6</th>\n",
       "      <td>Wed</td>\n",
       "      <td>53644</td>\n",
       "    </tr>\n",
       "  </tbody>\n",
       "</table>\n",
       "</div>"
      ],
      "text/plain": [
       "  CRASH WEEK  Number Of Collisions\n",
       "0        Fri                 57993\n",
       "1        Mon                 51843\n",
       "2        Sat                 49161\n",
       "3        Sun                 43508\n",
       "4        Thu                 54695\n",
       "5        Tue                 53685\n",
       "6        Wed                 53644"
      ]
     },
     "execution_count": 48,
     "metadata": {},
     "output_type": "execute_result"
    }
   ],
   "source": [
    "# Calculate the number of collisions per week and store the result in 'weekly_distraction'\n",
    "weekly_distraction = distraction.groupby([\"CRASH WEEK\"]).size().reset_index(name=\"Number Of Collisions\")\n",
    "\n",
    "weekly_distraction"
   ]
  },
  {
   "cell_type": "code",
   "execution_count": 49,
   "id": "2357f91f",
   "metadata": {
    "execution": {
     "iopub.execute_input": "2023-10-26T07:30:37.586673Z",
     "iopub.status.busy": "2023-10-26T07:30:37.586172Z",
     "iopub.status.idle": "2023-10-26T07:30:37.595097Z",
     "shell.execute_reply": "2023-10-26T07:30:37.593658Z"
    },
    "papermill": {
     "duration": 0.050966,
     "end_time": "2023-10-26T07:30:37.597962",
     "exception": false,
     "start_time": "2023-10-26T07:30:37.546996",
     "status": "completed"
    },
    "tags": []
   },
   "outputs": [],
   "source": [
    "# Convert 'CRASH WEEK' column to a categorical variable with specified weekday order\n",
    "weekly_distraction[\"CRASH WEEK\"] = pd.Categorical(weekly_distraction[\"CRASH WEEK\"], categories=weekday_order, ordered=True)"
   ]
  },
  {
   "cell_type": "code",
   "execution_count": 50,
   "id": "d2713d5c",
   "metadata": {
    "execution": {
     "iopub.execute_input": "2023-10-26T07:30:37.679519Z",
     "iopub.status.busy": "2023-10-26T07:30:37.679070Z",
     "iopub.status.idle": "2023-10-26T07:30:38.010860Z",
     "shell.execute_reply": "2023-10-26T07:30:38.009771Z"
    },
    "papermill": {
     "duration": 0.375432,
     "end_time": "2023-10-26T07:30:38.013285",
     "exception": false,
     "start_time": "2023-10-26T07:30:37.637853",
     "status": "completed"
    },
    "tags": []
   },
   "outputs": [
    {
     "data": {
      "image/png": "[encoded data removed]",
      "text/plain": [
       "<Figure size 1200x600 with 1 Axes>"
      ]
     },
     "metadata": {},
     "output_type": "display_data"
    }
   ],
   "source": [
    "plt.figure(figsize=(12, 6))\n",
    "\n",
    "# Suppressing the warning\n",
    "with warnings.catch_warnings():\n",
    "    warnings.simplefilter(\"ignore\")\n",
    "    sns.barplot(data=weekly_distraction, x=\"CRASH WEEK\", y=\"Number Of Collisions\", palette='viridis')\n",
    "    \n",
    "    plt.ylabel(\"Number Of Collisions\", fontweight=\"bold\", fontsize=13)\n",
    "    plt.xlabel(\"Day Of The Week\", fontweight=\"bold\", fontsize=13)\n",
    "    plt.title(\"Road accidents by day of the week\", \n",
    "              fontweight=\"bold\", fontsize=14)\n",
    "\n",
    "plt.show()"
   ]
  },
  {
   "cell_type": "markdown",
   "id": "7c2c1886",
   "metadata": {
    "papermill": {
     "duration": 0.037292,
     "end_time": "2023-10-26T07:30:38.088296",
     "exception": false,
     "start_time": "2023-10-26T07:30:38.051004",
     "status": "completed"
    },
    "tags": []
   },
   "source": [
    "I can conclude that as the week goes by, the level of distraction or driver innatention rises hence more and more collisions.\n",
    "\n",
    "A drop is noted in the two days of the weekend which could be as a result of reduced number of vehicles on the road"
   ]
  },
  {
   "cell_type": "markdown",
   "id": "2fd78250",
   "metadata": {
    "papermill": {
     "duration": 0.037563,
     "end_time": "2023-10-26T07:30:38.165597",
     "exception": false,
     "start_time": "2023-10-26T07:30:38.128034",
     "status": "completed"
    },
    "tags": []
   },
   "source": [
    "# Road Collisions Casualties"
   ]
  },
  {
   "cell_type": "markdown",
   "id": "71437c2c",
   "metadata": {
    "papermill": {
     "duration": 0.037142,
     "end_time": "2023-10-26T07:30:38.241229",
     "exception": false,
     "start_time": "2023-10-26T07:30:38.204087",
     "status": "completed"
    },
    "tags": []
   },
   "source": [
    "## Persons Injured and Persons Killed Over Years"
   ]
  },
  {
   "cell_type": "code",
   "execution_count": 51,
   "id": "aedf1cfc",
   "metadata": {
    "execution": {
     "iopub.execute_input": "2023-10-26T07:30:38.318576Z",
     "iopub.status.busy": "2023-10-26T07:30:38.317757Z",
     "iopub.status.idle": "2023-10-26T07:30:38.391925Z",
     "shell.execute_reply": "2023-10-26T07:30:38.390737Z"
    },
    "papermill": {
     "duration": 0.115787,
     "end_time": "2023-10-26T07:30:38.394511",
     "exception": false,
     "start_time": "2023-10-26T07:30:38.278724",
     "status": "completed"
    },
    "tags": []
   },
   "outputs": [
    {
     "data": {
      "text/html": [
       "<div>\n",
       "<style scoped>\n",
       "    .dataframe tbody tr th:only-of-type {\n",
       "        vertical-align: middle;\n",
       "    }\n",
       "\n",
       "    .dataframe tbody tr th {\n",
       "        vertical-align: top;\n",
       "    }\n",
       "\n",
       "    .dataframe thead th {\n",
       "        text-align: right;\n",
       "    }\n",
       "</style>\n",
       "<table border=\"1\" class=\"dataframe\">\n",
       "  <thead>\n",
       "    <tr style=\"text-align: right;\">\n",
       "      <th></th>\n",
       "      <th>CRASH YEAR</th>\n",
       "      <th>NUMBER OF PERSONS INJURED</th>\n",
       "      <th>NUMBER OF PERSONS KILLED</th>\n",
       "    </tr>\n",
       "  </thead>\n",
       "  <tbody>\n",
       "    <tr>\n",
       "      <th>0</th>\n",
       "      <td>2012</td>\n",
       "      <td>27270.0</td>\n",
       "      <td>137.0</td>\n",
       "    </tr>\n",
       "    <tr>\n",
       "      <th>1</th>\n",
       "      <td>2013</td>\n",
       "      <td>54759.0</td>\n",
       "      <td>297.0</td>\n",
       "    </tr>\n",
       "    <tr>\n",
       "      <th>2</th>\n",
       "      <td>2014</td>\n",
       "      <td>50915.0</td>\n",
       "      <td>261.0</td>\n",
       "    </tr>\n",
       "    <tr>\n",
       "      <th>3</th>\n",
       "      <td>2015</td>\n",
       "      <td>50998.0</td>\n",
       "      <td>240.0</td>\n",
       "    </tr>\n",
       "    <tr>\n",
       "      <th>4</th>\n",
       "      <td>2016</td>\n",
       "      <td>59933.0</td>\n",
       "      <td>246.0</td>\n",
       "    </tr>\n",
       "    <tr>\n",
       "      <th>5</th>\n",
       "      <td>2017</td>\n",
       "      <td>60204.0</td>\n",
       "      <td>254.0</td>\n",
       "    </tr>\n",
       "    <tr>\n",
       "      <th>6</th>\n",
       "      <td>2018</td>\n",
       "      <td>61537.0</td>\n",
       "      <td>231.0</td>\n",
       "    </tr>\n",
       "    <tr>\n",
       "      <th>7</th>\n",
       "      <td>2019</td>\n",
       "      <td>61130.0</td>\n",
       "      <td>243.0</td>\n",
       "    </tr>\n",
       "    <tr>\n",
       "      <th>8</th>\n",
       "      <td>2020</td>\n",
       "      <td>44497.0</td>\n",
       "      <td>268.0</td>\n",
       "    </tr>\n",
       "    <tr>\n",
       "      <th>9</th>\n",
       "      <td>2021</td>\n",
       "      <td>51664.0</td>\n",
       "      <td>296.0</td>\n",
       "    </tr>\n",
       "    <tr>\n",
       "      <th>10</th>\n",
       "      <td>2022</td>\n",
       "      <td>51768.0</td>\n",
       "      <td>287.0</td>\n",
       "    </tr>\n",
       "  </tbody>\n",
       "</table>\n",
       "</div>"
      ],
      "text/plain": [
       "    CRASH YEAR  NUMBER OF PERSONS INJURED  NUMBER OF PERSONS KILLED\n",
       "0         2012                    27270.0                     137.0\n",
       "1         2013                    54759.0                     297.0\n",
       "2         2014                    50915.0                     261.0\n",
       "3         2015                    50998.0                     240.0\n",
       "4         2016                    59933.0                     246.0\n",
       "5         2017                    60204.0                     254.0\n",
       "6         2018                    61537.0                     231.0\n",
       "7         2019                    61130.0                     243.0\n",
       "8         2020                    44497.0                     268.0\n",
       "9         2021                    51664.0                     296.0\n",
       "10        2022                    51768.0                     287.0"
      ]
     },
     "execution_count": 51,
     "metadata": {},
     "output_type": "execute_result"
    }
   ],
   "source": [
    "yearly_casualties = col_12to22.groupby(\"CRASH YEAR\")[[\"NUMBER OF PERSONS INJURED\", \"NUMBER OF PERSONS KILLED\"]].sum().reset_index()\n",
    "yearly_casualties"
   ]
  },
  {
   "cell_type": "code",
   "execution_count": 52,
   "id": "e02b75f2",
   "metadata": {
    "execution": {
     "iopub.execute_input": "2023-10-26T07:30:38.472777Z",
     "iopub.status.busy": "2023-10-26T07:30:38.471607Z",
     "iopub.status.idle": "2023-10-26T07:30:39.220734Z",
     "shell.execute_reply": "2023-10-26T07:30:39.219608Z"
    },
    "papermill": {
     "duration": 0.79105,
     "end_time": "2023-10-26T07:30:39.223269",
     "exception": false,
     "start_time": "2023-10-26T07:30:38.432219",
     "status": "completed"
    },
    "tags": []
   },
   "outputs": [
    {
     "data": {
      "image/png": "[encoded data removed]",
      "text/plain": [
       "<Figure size 1200x600 with 2 Axes>"
      ]
     },
     "metadata": {},
     "output_type": "display_data"
    }
   ],
   "source": [
    "fig, axes = plt.subplots(1, 2, figsize=(12, 6))\n",
    "\n",
    "# Suppressing the warning\n",
    "with warnings.catch_warnings():\n",
    "    warnings.simplefilter(\"ignore\")\n",
    "    sns.barplot(data=yearly_casualties, x=\"CRASH YEAR\", y=\"NUMBER OF PERSONS INJURED\", ax=axes[0], palette=palette_x)\n",
    "    sns.barplot(data=yearly_casualties, x=\"CRASH YEAR\", y=\"NUMBER OF PERSONS KILLED\", ax=axes[1], palette=palette_y)\n",
    "    \n",
    "    axes[0].set_title(\"Comparison Of Persons Injured Over Different Years\", fontweight=\"bold\", fontsize=13)\n",
    "    axes[0].set_xlabel(\"Year\", fontweight=\"bold\")\n",
    "    axes[0].set_ylabel(\"Number Of Persons Injured\", fontweight=\"bold\")\n",
    "\n",
    "    axes[1].set_title(\"Comparison Of Persons Killed Over Different Years\", fontweight=\"bold\", fontsize=13)\n",
    "    axes[1].set_xlabel(\"Year\", fontweight=\"bold\")\n",
    "    axes[1].set_ylabel(\"Number Of Persons Killed\", fontweight=\"bold\")\n",
    "    plt.tight_layout()\n",
    "\n",
    "plt.show()"
   ]
  },
  {
   "cell_type": "markdown",
   "id": "1775128b",
   "metadata": {
    "papermill": {
     "duration": 0.039799,
     "end_time": "2023-10-26T07:30:39.302688",
     "exception": false,
     "start_time": "2023-10-26T07:30:39.262889",
     "status": "completed"
    },
    "tags": []
   },
   "source": [
    "In the visualization above, I can conclude that in New York, approximately 50,000 people have been injured annually due to road collisions from 2013 to 2022. \n",
    "\n",
    "During the same period, an average of over 230 people per year have lost their lives."
   ]
  },
  {
   "cell_type": "markdown",
   "id": "4e501e9b",
   "metadata": {
    "papermill": {
     "duration": 0.039187,
     "end_time": "2023-10-26T07:30:39.381772",
     "exception": false,
     "start_time": "2023-10-26T07:30:39.342585",
     "status": "completed"
    },
    "tags": []
   },
   "source": [
    "## Casualities During Different Hours Of The Day"
   ]
  },
  {
   "cell_type": "code",
   "execution_count": 53,
   "id": "f5bd8691",
   "metadata": {
    "execution": {
     "iopub.execute_input": "2023-10-26T07:30:39.463843Z",
     "iopub.status.busy": "2023-10-26T07:30:39.462954Z",
     "iopub.status.idle": "2023-10-26T07:30:39.536349Z",
     "shell.execute_reply": "2023-10-26T07:30:39.535574Z"
    },
    "papermill": {
     "duration": 0.117498,
     "end_time": "2023-10-26T07:30:39.539294",
     "exception": false,
     "start_time": "2023-10-26T07:30:39.421796",
     "status": "completed"
    },
    "tags": []
   },
   "outputs": [
    {
     "data": {
      "text/html": [
       "<div>\n",
       "<style scoped>\n",
       "    .dataframe tbody tr th:only-of-type {\n",
       "        vertical-align: middle;\n",
       "    }\n",
       "\n",
       "    .dataframe tbody tr th {\n",
       "        vertical-align: top;\n",
       "    }\n",
       "\n",
       "    .dataframe thead th {\n",
       "        text-align: right;\n",
       "    }\n",
       "</style>\n",
       "<table border=\"1\" class=\"dataframe\">\n",
       "  <thead>\n",
       "    <tr style=\"text-align: right;\">\n",
       "      <th></th>\n",
       "      <th>CRASH HOUR</th>\n",
       "      <th>NUMBER OF PEDESTRIANS INJURED</th>\n",
       "      <th>NUMBER OF PEDESTRIANS KILLED</th>\n",
       "      <th>NUMBER OF CYCLIST INJURED</th>\n",
       "      <th>NUMBER OF CYCLIST KILLED</th>\n",
       "      <th>NUMBER OF MOTORIST INJURED</th>\n",
       "      <th>NUMBER OF MOTORIST KILLED</th>\n",
       "    </tr>\n",
       "  </thead>\n",
       "  <tbody>\n",
       "    <tr>\n",
       "      <th>0</th>\n",
       "      <td>0</td>\n",
       "      <td>2808</td>\n",
       "      <td>55</td>\n",
       "      <td>1510</td>\n",
       "      <td>13</td>\n",
       "      <td>16557</td>\n",
       "      <td>73</td>\n",
       "    </tr>\n",
       "    <tr>\n",
       "      <th>1</th>\n",
       "      <td>1</td>\n",
       "      <td>1271</td>\n",
       "      <td>34</td>\n",
       "      <td>620</td>\n",
       "      <td>5</td>\n",
       "      <td>9813</td>\n",
       "      <td>72</td>\n",
       "    </tr>\n",
       "    <tr>\n",
       "      <th>2</th>\n",
       "      <td>2</td>\n",
       "      <td>984</td>\n",
       "      <td>36</td>\n",
       "      <td>427</td>\n",
       "      <td>2</td>\n",
       "      <td>7919</td>\n",
       "      <td>58</td>\n",
       "    </tr>\n",
       "    <tr>\n",
       "      <th>3</th>\n",
       "      <td>3</td>\n",
       "      <td>876</td>\n",
       "      <td>44</td>\n",
       "      <td>328</td>\n",
       "      <td>5</td>\n",
       "      <td>7175</td>\n",
       "      <td>70</td>\n",
       "    </tr>\n",
       "    <tr>\n",
       "      <th>4</th>\n",
       "      <td>4</td>\n",
       "      <td>1039</td>\n",
       "      <td>55</td>\n",
       "      <td>304</td>\n",
       "      <td>2</td>\n",
       "      <td>8426</td>\n",
       "      <td>92</td>\n",
       "    </tr>\n",
       "    <tr>\n",
       "      <th>5</th>\n",
       "      <td>5</td>\n",
       "      <td>1160</td>\n",
       "      <td>56</td>\n",
       "      <td>377</td>\n",
       "      <td>6</td>\n",
       "      <td>7905</td>\n",
       "      <td>48</td>\n",
       "    </tr>\n",
       "    <tr>\n",
       "      <th>6</th>\n",
       "      <td>6</td>\n",
       "      <td>2458</td>\n",
       "      <td>65</td>\n",
       "      <td>663</td>\n",
       "      <td>10</td>\n",
       "      <td>10036</td>\n",
       "      <td>37</td>\n",
       "    </tr>\n",
       "    <tr>\n",
       "      <th>7</th>\n",
       "      <td>7</td>\n",
       "      <td>3429</td>\n",
       "      <td>36</td>\n",
       "      <td>1139</td>\n",
       "      <td>12</td>\n",
       "      <td>13070</td>\n",
       "      <td>22</td>\n",
       "    </tr>\n",
       "    <tr>\n",
       "      <th>8</th>\n",
       "      <td>8</td>\n",
       "      <td>5790</td>\n",
       "      <td>48</td>\n",
       "      <td>1823</td>\n",
       "      <td>13</td>\n",
       "      <td>19960</td>\n",
       "      <td>17</td>\n",
       "    </tr>\n",
       "    <tr>\n",
       "      <th>9</th>\n",
       "      <td>9</td>\n",
       "      <td>4585</td>\n",
       "      <td>49</td>\n",
       "      <td>1850</td>\n",
       "      <td>10</td>\n",
       "      <td>17271</td>\n",
       "      <td>24</td>\n",
       "    </tr>\n",
       "    <tr>\n",
       "      <th>10</th>\n",
       "      <td>10</td>\n",
       "      <td>4115</td>\n",
       "      <td>54</td>\n",
       "      <td>1712</td>\n",
       "      <td>7</td>\n",
       "      <td>15856</td>\n",
       "      <td>35</td>\n",
       "    </tr>\n",
       "    <tr>\n",
       "      <th>11</th>\n",
       "      <td>11</td>\n",
       "      <td>4549</td>\n",
       "      <td>51</td>\n",
       "      <td>2079</td>\n",
       "      <td>4</td>\n",
       "      <td>17471</td>\n",
       "      <td>26</td>\n",
       "    </tr>\n",
       "    <tr>\n",
       "      <th>12</th>\n",
       "      <td>12</td>\n",
       "      <td>5117</td>\n",
       "      <td>48</td>\n",
       "      <td>2464</td>\n",
       "      <td>9</td>\n",
       "      <td>19003</td>\n",
       "      <td>38</td>\n",
       "    </tr>\n",
       "    <tr>\n",
       "      <th>13</th>\n",
       "      <td>13</td>\n",
       "      <td>5170</td>\n",
       "      <td>51</td>\n",
       "      <td>2789</td>\n",
       "      <td>7</td>\n",
       "      <td>20850</td>\n",
       "      <td>40</td>\n",
       "    </tr>\n",
       "    <tr>\n",
       "      <th>14</th>\n",
       "      <td>14</td>\n",
       "      <td>6428</td>\n",
       "      <td>53</td>\n",
       "      <td>3154</td>\n",
       "      <td>9</td>\n",
       "      <td>24987</td>\n",
       "      <td>31</td>\n",
       "    </tr>\n",
       "    <tr>\n",
       "      <th>15</th>\n",
       "      <td>15</td>\n",
       "      <td>6852</td>\n",
       "      <td>63</td>\n",
       "      <td>3164</td>\n",
       "      <td>4</td>\n",
       "      <td>26022</td>\n",
       "      <td>31</td>\n",
       "    </tr>\n",
       "    <tr>\n",
       "      <th>16</th>\n",
       "      <td>16</td>\n",
       "      <td>6968</td>\n",
       "      <td>55</td>\n",
       "      <td>3635</td>\n",
       "      <td>10</td>\n",
       "      <td>27725</td>\n",
       "      <td>47</td>\n",
       "    </tr>\n",
       "    <tr>\n",
       "      <th>17</th>\n",
       "      <td>17</td>\n",
       "      <td>8509</td>\n",
       "      <td>91</td>\n",
       "      <td>4097</td>\n",
       "      <td>18</td>\n",
       "      <td>27127</td>\n",
       "      <td>40</td>\n",
       "    </tr>\n",
       "    <tr>\n",
       "      <th>18</th>\n",
       "      <td>18</td>\n",
       "      <td>8507</td>\n",
       "      <td>92</td>\n",
       "      <td>4089</td>\n",
       "      <td>7</td>\n",
       "      <td>24671</td>\n",
       "      <td>50</td>\n",
       "    </tr>\n",
       "    <tr>\n",
       "      <th>19</th>\n",
       "      <td>19</td>\n",
       "      <td>7256</td>\n",
       "      <td>73</td>\n",
       "      <td>3766</td>\n",
       "      <td>11</td>\n",
       "      <td>21039</td>\n",
       "      <td>53</td>\n",
       "    </tr>\n",
       "    <tr>\n",
       "      <th>20</th>\n",
       "      <td>20</td>\n",
       "      <td>6210</td>\n",
       "      <td>78</td>\n",
       "      <td>3266</td>\n",
       "      <td>6</td>\n",
       "      <td>19447</td>\n",
       "      <td>47</td>\n",
       "    </tr>\n",
       "    <tr>\n",
       "      <th>21</th>\n",
       "      <td>21</td>\n",
       "      <td>4870</td>\n",
       "      <td>84</td>\n",
       "      <td>2730</td>\n",
       "      <td>8</td>\n",
       "      <td>18077</td>\n",
       "      <td>45</td>\n",
       "    </tr>\n",
       "    <tr>\n",
       "      <th>22</th>\n",
       "      <td>22</td>\n",
       "      <td>3728</td>\n",
       "      <td>66</td>\n",
       "      <td>2080</td>\n",
       "      <td>12</td>\n",
       "      <td>18096</td>\n",
       "      <td>58</td>\n",
       "    </tr>\n",
       "    <tr>\n",
       "      <th>23</th>\n",
       "      <td>23</td>\n",
       "      <td>2767</td>\n",
       "      <td>68</td>\n",
       "      <td>1517</td>\n",
       "      <td>15</td>\n",
       "      <td>16328</td>\n",
       "      <td>62</td>\n",
       "    </tr>\n",
       "  </tbody>\n",
       "</table>\n",
       "</div>"
      ],
      "text/plain": [
       "    CRASH HOUR  NUMBER OF PEDESTRIANS INJURED  NUMBER OF PEDESTRIANS KILLED  \\\n",
       "0            0                           2808                            55   \n",
       "1            1                           1271                            34   \n",
       "2            2                            984                            36   \n",
       "3            3                            876                            44   \n",
       "4            4                           1039                            55   \n",
       "5            5                           1160                            56   \n",
       "6            6                           2458                            65   \n",
       "7            7                           3429                            36   \n",
       "8            8                           5790                            48   \n",
       "9            9                           4585                            49   \n",
       "10          10                           4115                            54   \n",
       "11          11                           4549                            51   \n",
       "12          12                           5117                            48   \n",
       "13          13                           5170                            51   \n",
       "14          14                           6428                            53   \n",
       "15          15                           6852                            63   \n",
       "16          16                           6968                            55   \n",
       "17          17                           8509                            91   \n",
       "18          18                           8507                            92   \n",
       "19          19                           7256                            73   \n",
       "20          20                           6210                            78   \n",
       "21          21                           4870                            84   \n",
       "22          22                           3728                            66   \n",
       "23          23                           2767                            68   \n",
       "\n",
       "    NUMBER OF CYCLIST INJURED  NUMBER OF CYCLIST KILLED  \\\n",
       "0                        1510                        13   \n",
       "1                         620                         5   \n",
       "2                         427                         2   \n",
       "3                         328                         5   \n",
       "4                         304                         2   \n",
       "5                         377                         6   \n",
       "6                         663                        10   \n",
       "7                        1139                        12   \n",
       "8                        1823                        13   \n",
       "9                        1850                        10   \n",
       "10                       1712                         7   \n",
       "11                       2079                         4   \n",
       "12                       2464                         9   \n",
       "13                       2789                         7   \n",
       "14                       3154                         9   \n",
       "15                       3164                         4   \n",
       "16                       3635                        10   \n",
       "17                       4097                        18   \n",
       "18                       4089                         7   \n",
       "19                       3766                        11   \n",
       "20                       3266                         6   \n",
       "21                       2730                         8   \n",
       "22                       2080                        12   \n",
       "23                       1517                        15   \n",
       "\n",
       "    NUMBER OF MOTORIST INJURED  NUMBER OF MOTORIST KILLED  \n",
       "0                        16557                         73  \n",
       "1                         9813                         72  \n",
       "2                         7919                         58  \n",
       "3                         7175                         70  \n",
       "4                         8426                         92  \n",
       "5                         7905                         48  \n",
       "6                        10036                         37  \n",
       "7                        13070                         22  \n",
       "8                        19960                         17  \n",
       "9                        17271                         24  \n",
       "10                       15856                         35  \n",
       "11                       17471                         26  \n",
       "12                       19003                         38  \n",
       "13                       20850                         40  \n",
       "14                       24987                         31  \n",
       "15                       26022                         31  \n",
       "16                       27725                         47  \n",
       "17                       27127                         40  \n",
       "18                       24671                         50  \n",
       "19                       21039                         53  \n",
       "20                       19447                         47  \n",
       "21                       18077                         45  \n",
       "22                       18096                         58  \n",
       "23                       16328                         62  "
      ]
     },
     "execution_count": 53,
     "metadata": {},
     "output_type": "execute_result"
    }
   ],
   "source": [
    "hourly_casualties = col_12to22.groupby([\"CRASH HOUR\"])[[\"NUMBER OF PEDESTRIANS INJURED\", \"NUMBER OF PEDESTRIANS KILLED\", \"NUMBER OF CYCLIST INJURED\", \"NUMBER OF CYCLIST KILLED\", \"NUMBER OF MOTORIST INJURED\", \"NUMBER OF MOTORIST KILLED\"]].sum().reset_index()\n",
    "hourly_casualties"
   ]
  },
  {
   "cell_type": "markdown",
   "id": "998eb48c",
   "metadata": {
    "papermill": {
     "duration": 0.04196,
     "end_time": "2023-10-26T07:30:39.622634",
     "exception": false,
     "start_time": "2023-10-26T07:30:39.580674",
     "status": "completed"
    },
    "tags": []
   },
   "source": [
    "### Pedestrians Injured and Pedestrians Killed"
   ]
  },
  {
   "cell_type": "code",
   "execution_count": 54,
   "id": "83192b96",
   "metadata": {
    "execution": {
     "iopub.execute_input": "2023-10-26T07:30:39.706680Z",
     "iopub.status.busy": "2023-10-26T07:30:39.706251Z",
     "iopub.status.idle": "2023-10-26T07:30:40.539027Z",
     "shell.execute_reply": "2023-10-26T07:30:40.537801Z"
    },
    "papermill": {
     "duration": 0.879546,
     "end_time": "2023-10-26T07:30:40.542777",
     "exception": false,
     "start_time": "2023-10-26T07:30:39.663231",
     "status": "completed"
    },
    "tags": []
   },
   "outputs": [
    {
     "data": {
      "image/png": "[encoded data removed]",
      "text/plain": [
       "<Figure size 1200x600 with 2 Axes>"
      ]
     },
     "metadata": {},
     "output_type": "display_data"
    }
   ],
   "source": [
    "figure, axes = plt.subplots(1,2, figsize=(12,6))\n",
    "\n",
    "# Suppressing the warning\n",
    "with warnings.catch_warnings():\n",
    "    warnings.simplefilter(\"ignore\")\n",
    "    sns.barplot(data=hourly_casualties, x=\"CRASH HOUR\", y=\"NUMBER OF PEDESTRIANS INJURED\", ax=axes[0], palette=palette_x)\n",
    "    sns.barplot(data=hourly_casualties, x=\"CRASH HOUR\", y=\"NUMBER OF PEDESTRIANS KILLED\", ax=axes[1], palette=palette_y)\n",
    "    \n",
    "    axes[0].set_xlabel(\"Hour Of Crash\", fontweight=\"bold\")\n",
    "    axes[0].set_ylabel(\"Number Of Pedestrians Injured\", fontweight=\"bold\")\n",
    "    axes[0].set_title(\"Distribution Of Pedestrians Injured Over Hours Of The Day\", fontweight=\"bold\", fontsize=11)\n",
    "\n",
    "    axes[1].set_xlabel(\"Hour Of Crash\", fontweight=\"bold\")\n",
    "    axes[1].set_ylabel(\"Number Of Pedestrians Killed\", fontweight=\"bold\")\n",
    "    axes[1].set_title(\"Distribution Of Pedestrians Killed Over Hours Of The Day\", fontweight=\"bold\", fontsize=11)\n",
    "\n",
    "plt.show()"
   ]
  },
  {
   "cell_type": "markdown",
   "id": "253bdbf4",
   "metadata": {
    "papermill": {
     "duration": 0.044483,
     "end_time": "2023-10-26T07:30:40.644031",
     "exception": false,
     "start_time": "2023-10-26T07:30:40.599548",
     "status": "completed"
    },
    "tags": []
   },
   "source": [
    "During different hours of the day, the number of people walking on the road differs. During late night to early morning hours, 1 AM to 5 AM, the number of pedestrians are a lower hence lower number of casualities involving them.\n",
    "\n",
    "From 6 AM the number of casualties tend to rise, this can be directly attributed to children reporting to school and adults reporting to work. After 6pm, the number of pedestrians reduces hence lower and lower reported casualties as the day approach its end."
   ]
  },
  {
   "cell_type": "markdown",
   "id": "eb84b84e",
   "metadata": {
    "papermill": {
     "duration": 0.044823,
     "end_time": "2023-10-26T07:30:40.729126",
     "exception": false,
     "start_time": "2023-10-26T07:30:40.684303",
     "status": "completed"
    },
    "tags": []
   },
   "source": [
    "### Cyclists Injured and Cyclists Killed"
   ]
  },
  {
   "cell_type": "code",
   "execution_count": 55,
   "id": "115004ae",
   "metadata": {
    "execution": {
     "iopub.execute_input": "2023-10-26T07:30:40.815277Z",
     "iopub.status.busy": "2023-10-26T07:30:40.814898Z",
     "iopub.status.idle": "2023-10-26T07:30:41.838683Z",
     "shell.execute_reply": "2023-10-26T07:30:41.837491Z"
    },
    "papermill": {
     "duration": 1.070769,
     "end_time": "2023-10-26T07:30:41.841340",
     "exception": false,
     "start_time": "2023-10-26T07:30:40.770571",
     "status": "completed"
    },
    "tags": []
   },
   "outputs": [
    {
     "data": {
      "image/png": "[encoded data removed]",
      "text/plain": [
       "<Figure size 1200x600 with 2 Axes>"
      ]
     },
     "metadata": {},
     "output_type": "display_data"
    }
   ],
   "source": [
    "figure, axes=plt.subplots(1,2, figsize=(12, 6))\n",
    "\n",
    "# Suppressing the warning\n",
    "with warnings.catch_warnings():\n",
    "    warnings.simplefilter(\"ignore\")\n",
    "    sns.barplot(data=hourly_casualties, x=\"CRASH HOUR\", y=\"NUMBER OF CYCLIST INJURED\", ax=axes[0], palette=palette_x)\n",
    "    sns.barplot(data=hourly_casualties, x=\"CRASH HOUR\", y=\"NUMBER OF CYCLIST KILLED\", ax=axes[1], palette=palette_y)\n",
    "    \n",
    "    axes[0].set_xlabel(\"Hour Of Crash\", fontweight=\"bold\")\n",
    "    axes[0].set_ylabel(\"Number Of Cyclists Injured\", fontweight=\"bold\")\n",
    "    axes[0].set_title(\"Distribution Of Cyclists Injured Over Hours Of The Day\", fontweight=\"bold\", fontsize=11)\n",
    "\n",
    "    axes[1].set_xlabel(\"Hour Of Crash\", fontweight=\"bold\")\n",
    "    axes[1].set_ylabel(\"Number Of Cyclists Killed\", fontweight=\"bold\")\n",
    "    axes[1].set_title(\"Distribution Of Cyclists Killed Over Hours Of The Day\", fontweight=\"bold\", fontsize=11)\n",
    "\n",
    "plt.show()"
   ]
  },
  {
   "cell_type": "markdown",
   "id": "24323963",
   "metadata": {
    "papermill": {
     "duration": 0.041428,
     "end_time": "2023-10-26T07:30:41.924742",
     "exception": false,
     "start_time": "2023-10-26T07:30:41.883314",
     "status": "completed"
    },
    "tags": []
   },
   "source": [
    "### Motorists Injured and Motorists Killed"
   ]
  },
  {
   "cell_type": "code",
   "execution_count": 56,
   "id": "b05d2c6e",
   "metadata": {
    "execution": {
     "iopub.execute_input": "2023-10-26T07:30:42.012689Z",
     "iopub.status.busy": "2023-10-26T07:30:42.012213Z",
     "iopub.status.idle": "2023-10-26T07:30:42.824595Z",
     "shell.execute_reply": "2023-10-26T07:30:42.823437Z"
    },
    "papermill": {
     "duration": 0.860932,
     "end_time": "2023-10-26T07:30:42.827491",
     "exception": false,
     "start_time": "2023-10-26T07:30:41.966559",
     "status": "completed"
    },
    "tags": []
   },
   "outputs": [
    {
     "data": {
      "image/png": "[encoded data removed]",
      "text/plain": [
       "<Figure size 1200x600 with 2 Axes>"
      ]
     },
     "metadata": {},
     "output_type": "display_data"
    }
   ],
   "source": [
    "figure, axes=plt.subplots(1,2, figsize=(12, 6))\n",
    "\n",
    "# Suppressing the warning\n",
    "with warnings.catch_warnings():\n",
    "    warnings.simplefilter(\"ignore\")\n",
    "    sns.barplot(data=hourly_casualties, x=\"CRASH HOUR\", y=\"NUMBER OF MOTORIST INJURED\", ax=axes[0], palette=palette_x)\n",
    "    sns.barplot(data=hourly_casualties, x=\"CRASH HOUR\", y=\"NUMBER OF MOTORIST KILLED\", ax=axes[1], palette=palette_y)\n",
    "    \n",
    "    axes[0].set_xlabel(\"Hour Of Crash\", fontweight=\"bold\")\n",
    "    axes[0].set_ylabel(\"Number Of Motorists Injured\", fontweight=\"bold\")\n",
    "    axes[0].set_title(\"Distribution Of Motorists Injured Over Hours Of The Day\", fontweight=\"bold\", fontsize=11)\n",
    "\n",
    "    axes[1].set_xlabel(\"Hour Of Crash\", fontweight=\"bold\")\n",
    "    axes[1].set_ylabel(\"Number Of Motorists Killed\", fontweight=\"bold\")\n",
    "    axes[1].set_title(\"Distribution Of Motorists Killed Over Hours Of The Day\", fontweight=\"bold\", fontsize=11)\n",
    "\n",
    "plt.show()\n"
   ]
  }
 ],
 "metadata": {
  "kernelspec": {
   "display_name": "Python 3",
   "language": "python",
   "name": "python3"
  },
  "language_info": {
   "codemirror_mode": {
    "name": "ipython",
    "version": 3
   },
   "file_extension": ".py",
   "mimetype": "text/x-python",
   "name": "python",
   "nbconvert_exporter": "python",
   "pygments_lexer": "ipython3",
   "version": "3.12.0"
  },
  "papermill": {
   "default_parameters": {},
   "duration": 105.533002,
   "end_time": "2023-10-26T07:30:45.516531",
   "environment_variables": {},
   "exception": null,
   "input_path": "__notebook__.ipynb",
   "output_path": "__notebook__.ipynb",
   "parameters": {},
   "start_time": "2023-10-26T07:28:59.983529",
   "version": "2.4.0"
  }
 },
 "nbformat": 4,
 "nbformat_minor": 5
}
